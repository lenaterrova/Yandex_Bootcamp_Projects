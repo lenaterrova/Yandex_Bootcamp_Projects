{
 "cells": [
  {
   "cell_type": "markdown",
   "metadata": {
    "toc": true
   },
   "source": [
    "<h1>Table of Contents<span class=\"tocSkip\"></span></h1>\n",
    "<div class=\"toc\"><ul class=\"toc-item\"><li><span><a href=\"#Analysis-of-A/B-test-results\" data-toc-modified-id=\"Analysis-of-A/B-test-results-1\">Analysis of A/B test results</a></span><ul class=\"toc-item\"><li><span><a href=\"#Data-preparation\" data-toc-modified-id=\"Data-preparation-1.1\">Data preparation</a></span></li><li><span><a href=\"#1.-Cumulative-revenue-by-groups\" data-toc-modified-id=\"1.-Cumulative-revenue-by-groups-1.2\">1. Cumulative revenue by groups</a></span></li><li><span><a href=\"#2.-Cumulative-average-check-by-groups\" data-toc-modified-id=\"2.-Cumulative-average-check-by-groups-1.3\">2. Cumulative average check by groups</a></span><ul class=\"toc-item\"><li><span><a href=\"#Relative-change-in-cumulative-average-check-of-group-B-to-group-A\" data-toc-modified-id=\"Relative-change-in-cumulative-average-check-of-group-B-to-group-A-1.3.1\">Relative change in cumulative average check of group B to group A</a></span></li></ul></li><li><span><a href=\"#3.-Cumulative-conversion-by-groups\" data-toc-modified-id=\"3.-Cumulative-conversion-by-groups-1.4\">3. Cumulative conversion by groups</a></span><ul class=\"toc-item\"><li><span><a href=\"#Relative-change-in-cumulative-conversion-of-group-B-to-group-A\" data-toc-modified-id=\"Relative-change-in-cumulative-conversion-of-group-B-to-group-A-1.4.1\">Relative change in cumulative conversion of group B to group A</a></span></li></ul></li><li><span><a href=\"#4.-Amount-of-purchases-by-groups\" data-toc-modified-id=\"4.-Amount-of-purchases-by-groups-1.5\">4. Amount of purchases by groups</a></span><ul class=\"toc-item\"><li><span><a href=\"#95th-and-99th-percentiles-of-purchases-amount-per-user\" data-toc-modified-id=\"95th-and-99th-percentiles-of-purchases-amount-per-user-1.5.1\">95th and 99th percentiles of purchases amount per user</a></span></li></ul></li><li><span><a href=\"#5.-User-spendings-on-purchases\" data-toc-modified-id=\"5.-User-spendings-on-purchases-1.6\">5. User spendings on purchases</a></span><ul class=\"toc-item\"><li><span><a href=\"#95th-and-99th-percentiles-of-spendings-per-user¶\" data-toc-modified-id=\"95th-and-99th-percentiles-of-spendings-per-user¶-1.6.1\">95th and 99th percentiles of spendings per user¶</a></span></li></ul></li><li><span><a href=\"#6.-Statistical-significance-of-differences\" data-toc-modified-id=\"6.-Statistical-significance-of-differences-1.7\">6. Statistical significance of differences</a></span><ul class=\"toc-item\"><li><span><a href=\"#Differences-in-conversion-between-groups-based-on-raw-data\" data-toc-modified-id=\"Differences-in-conversion-between-groups-based-on-raw-data-1.7.1\">Differences in conversion between groups based on raw data</a></span></li><li><span><a href=\"#Differences-in-average-check-between-groups-based-on-raw-data\" data-toc-modified-id=\"Differences-in-average-check-between-groups-based-on-raw-data-1.7.2\">Differences in average check between groups based on raw data</a></span></li><li><span><a href=\"#Differences-in-conversion-between-groups-based-on-clean-data\" data-toc-modified-id=\"Differences-in-conversion-between-groups-based-on-clean-data-1.7.3\">Differences in conversion between groups based on clean data</a></span></li><li><span><a href=\"#Differences-in-average-check-between-groups-based-on-clean-data\" data-toc-modified-id=\"Differences-in-average-check-between-groups-based-on-clean-data-1.7.4\">Differences in average check between groups based on clean data</a></span></li></ul></li><li><span><a href=\"#Conclusion\" data-toc-modified-id=\"Conclusion-1.8\">Conclusion</a></span></li></ul></li></ul></div>"
   ]
  },
  {
   "cell_type": "markdown",
   "metadata": {},
   "source": [
    "# Analysis of A/B test results"
   ]
  },
  {
   "cell_type": "markdown",
   "metadata": {},
   "source": [
    "## Data preparation"
   ]
  },
  {
   "cell_type": "code",
   "execution_count": 1,
   "metadata": {},
   "outputs": [],
   "source": [
    "import pandas as pd\n",
    "import numpy as np\n",
    "import datetime as dt\n",
    "import matplotlib.pyplot as plt \n",
    "import scipy.stats as stats\n",
    "from pandas.plotting import register_matplotlib_converters\n",
    "register_matplotlib_converters()  "
   ]
  },
  {
   "cell_type": "code",
   "execution_count": 2,
   "metadata": {},
   "outputs": [],
   "source": [
    "orders = pd.read_csv('/datasets/orders.csv')\n",
    "visitors = pd.read_csv('/datasets/visitors.csv')"
   ]
  },
  {
   "cell_type": "markdown",
   "metadata": {},
   "source": [
    "Let's check missing values and duplicates."
   ]
  },
  {
   "cell_type": "code",
   "execution_count": 3,
   "metadata": {},
   "outputs": [
    {
     "data": {
      "text/html": [
       "<div>\n",
       "<style scoped>\n",
       "    .dataframe tbody tr th:only-of-type {\n",
       "        vertical-align: middle;\n",
       "    }\n",
       "\n",
       "    .dataframe tbody tr th {\n",
       "        vertical-align: top;\n",
       "    }\n",
       "\n",
       "    .dataframe thead th {\n",
       "        text-align: right;\n",
       "    }\n",
       "</style>\n",
       "<table border=\"1\" class=\"dataframe\">\n",
       "  <thead>\n",
       "    <tr style=\"text-align: right;\">\n",
       "      <th></th>\n",
       "      <th>transactionId</th>\n",
       "      <th>visitorId</th>\n",
       "      <th>date</th>\n",
       "      <th>revenue</th>\n",
       "      <th>group</th>\n",
       "    </tr>\n",
       "  </thead>\n",
       "  <tbody>\n",
       "    <tr>\n",
       "      <td>0</td>\n",
       "      <td>3667963787</td>\n",
       "      <td>3312258926</td>\n",
       "      <td>2019-08-15</td>\n",
       "      <td>1650</td>\n",
       "      <td>B</td>\n",
       "    </tr>\n",
       "    <tr>\n",
       "      <td>1</td>\n",
       "      <td>2804400009</td>\n",
       "      <td>3642806036</td>\n",
       "      <td>2019-08-15</td>\n",
       "      <td>730</td>\n",
       "      <td>B</td>\n",
       "    </tr>\n",
       "    <tr>\n",
       "      <td>2</td>\n",
       "      <td>2961555356</td>\n",
       "      <td>4069496402</td>\n",
       "      <td>2019-08-15</td>\n",
       "      <td>400</td>\n",
       "      <td>A</td>\n",
       "    </tr>\n",
       "    <tr>\n",
       "      <td>3</td>\n",
       "      <td>3797467345</td>\n",
       "      <td>1196621759</td>\n",
       "      <td>2019-08-15</td>\n",
       "      <td>9759</td>\n",
       "      <td>B</td>\n",
       "    </tr>\n",
       "    <tr>\n",
       "      <td>4</td>\n",
       "      <td>2282983706</td>\n",
       "      <td>2322279887</td>\n",
       "      <td>2019-08-15</td>\n",
       "      <td>2308</td>\n",
       "      <td>B</td>\n",
       "    </tr>\n",
       "  </tbody>\n",
       "</table>\n",
       "</div>"
      ],
      "text/plain": [
       "   transactionId   visitorId        date  revenue group\n",
       "0     3667963787  3312258926  2019-08-15     1650     B\n",
       "1     2804400009  3642806036  2019-08-15      730     B\n",
       "2     2961555356  4069496402  2019-08-15      400     A\n",
       "3     3797467345  1196621759  2019-08-15     9759     B\n",
       "4     2282983706  2322279887  2019-08-15     2308     B"
      ]
     },
     "execution_count": 3,
     "metadata": {},
     "output_type": "execute_result"
    }
   ],
   "source": [
    "orders.head()"
   ]
  },
  {
   "cell_type": "code",
   "execution_count": 4,
   "metadata": {
    "scrolled": true
   },
   "outputs": [
    {
     "data": {
      "text/plain": [
       "transactionId    0\n",
       "visitorId        0\n",
       "date             0\n",
       "revenue          0\n",
       "group            0\n",
       "dtype: int64"
      ]
     },
     "execution_count": 4,
     "metadata": {},
     "output_type": "execute_result"
    }
   ],
   "source": [
    "orders.isna().sum()"
   ]
  },
  {
   "cell_type": "code",
   "execution_count": 5,
   "metadata": {},
   "outputs": [
    {
     "data": {
      "text/plain": [
       "0"
      ]
     },
     "execution_count": 5,
     "metadata": {},
     "output_type": "execute_result"
    }
   ],
   "source": [
    "orders.duplicated().sum()"
   ]
  },
  {
   "cell_type": "code",
   "execution_count": 6,
   "metadata": {},
   "outputs": [
    {
     "data": {
      "text/html": [
       "<div>\n",
       "<style scoped>\n",
       "    .dataframe tbody tr th:only-of-type {\n",
       "        vertical-align: middle;\n",
       "    }\n",
       "\n",
       "    .dataframe tbody tr th {\n",
       "        vertical-align: top;\n",
       "    }\n",
       "\n",
       "    .dataframe thead th {\n",
       "        text-align: right;\n",
       "    }\n",
       "</style>\n",
       "<table border=\"1\" class=\"dataframe\">\n",
       "  <thead>\n",
       "    <tr style=\"text-align: right;\">\n",
       "      <th></th>\n",
       "      <th>date</th>\n",
       "      <th>group</th>\n",
       "      <th>visitors</th>\n",
       "    </tr>\n",
       "  </thead>\n",
       "  <tbody>\n",
       "    <tr>\n",
       "      <td>0</td>\n",
       "      <td>2019-08-01</td>\n",
       "      <td>A</td>\n",
       "      <td>719</td>\n",
       "    </tr>\n",
       "    <tr>\n",
       "      <td>1</td>\n",
       "      <td>2019-08-02</td>\n",
       "      <td>A</td>\n",
       "      <td>619</td>\n",
       "    </tr>\n",
       "    <tr>\n",
       "      <td>2</td>\n",
       "      <td>2019-08-03</td>\n",
       "      <td>A</td>\n",
       "      <td>507</td>\n",
       "    </tr>\n",
       "    <tr>\n",
       "      <td>3</td>\n",
       "      <td>2019-08-04</td>\n",
       "      <td>A</td>\n",
       "      <td>717</td>\n",
       "    </tr>\n",
       "    <tr>\n",
       "      <td>4</td>\n",
       "      <td>2019-08-05</td>\n",
       "      <td>A</td>\n",
       "      <td>756</td>\n",
       "    </tr>\n",
       "  </tbody>\n",
       "</table>\n",
       "</div>"
      ],
      "text/plain": [
       "         date group  visitors\n",
       "0  2019-08-01     A       719\n",
       "1  2019-08-02     A       619\n",
       "2  2019-08-03     A       507\n",
       "3  2019-08-04     A       717\n",
       "4  2019-08-05     A       756"
      ]
     },
     "execution_count": 6,
     "metadata": {},
     "output_type": "execute_result"
    }
   ],
   "source": [
    "visitors.head()"
   ]
  },
  {
   "cell_type": "code",
   "execution_count": 7,
   "metadata": {},
   "outputs": [
    {
     "data": {
      "text/plain": [
       "date        0\n",
       "group       0\n",
       "visitors    0\n",
       "dtype: int64"
      ]
     },
     "execution_count": 7,
     "metadata": {},
     "output_type": "execute_result"
    }
   ],
   "source": [
    "visitors.isna().sum()"
   ]
  },
  {
   "cell_type": "code",
   "execution_count": 8,
   "metadata": {},
   "outputs": [
    {
     "data": {
      "text/plain": [
       "0"
      ]
     },
     "execution_count": 8,
     "metadata": {},
     "output_type": "execute_result"
    }
   ],
   "source": [
    "visitors.duplicated().sum()"
   ]
  },
  {
   "cell_type": "markdown",
   "metadata": {},
   "source": [
    "No missing values and duplicates. Let's hange the type of data to `datetime` where needed."
   ]
  },
  {
   "cell_type": "code",
   "execution_count": 9,
   "metadata": {},
   "outputs": [],
   "source": [
    "orders['date'] = pd.to_datetime(orders['date'])"
   ]
  },
  {
   "cell_type": "code",
   "execution_count": 10,
   "metadata": {},
   "outputs": [],
   "source": [
    "visitors['date'] = pd.to_datetime(visitors['date'])"
   ]
  },
  {
   "cell_type": "markdown",
   "metadata": {},
   "source": [
    "Let's also check uniqueness of users in A/B groups. "
   ]
  },
  {
   "cell_type": "code",
   "execution_count": 11,
   "metadata": {},
   "outputs": [],
   "source": [
    "users_group_counter = orders.groupby('visitorId')['group'].nunique() \n",
    "problem_users_id = users_group_counter[users_group_counter > 1].index"
   ]
  },
  {
   "cell_type": "markdown",
   "metadata": {},
   "source": [
    "There are 54 non-unique users in both groups. Perhaps some of the users in groups are duplicated. We will not delete this data from dataframes, because we won't be able to filter them out from `visitors` table. But this fact is definitely worth considering for the future when testing other hypotheses and making sure that the groups are splitted correctly and are not duplicated."
   ]
  },
  {
   "cell_type": "markdown",
   "metadata": {},
   "source": [
    "## 1. Cumulative revenue by groups"
   ]
  },
  {
   "cell_type": "markdown",
   "metadata": {},
   "source": [
    "Let's dive into analysis of the A/B test results. To make charts we need to collect cumulative data. "
   ]
  },
  {
   "cell_type": "code",
   "execution_count": 12,
   "metadata": {},
   "outputs": [],
   "source": [
    "datesGroups = orders[['date','group']].drop_duplicates()"
   ]
  },
  {
   "cell_type": "markdown",
   "metadata": {},
   "source": [
    "Let's collect aggregated cumulative data on orders and site visits by day."
   ]
  },
  {
   "cell_type": "code",
   "execution_count": 13,
   "metadata": {},
   "outputs": [],
   "source": [
    "ordersAggregated = datesGroups.apply(\n",
    "    lambda x: orders[np.logical_and(orders['date'] <= x['date'], orders['group'] == x['group'])].agg({\n",
    "'date' : 'max',\n",
    "'group' : 'max',\n",
    "'transactionId' : pd.Series.nunique,\n",
    "'visitorId' : pd.Series.nunique,\n",
    "'revenue' : 'sum'}), axis=1).sort_values(by=['date','group'])"
   ]
  },
  {
   "cell_type": "code",
   "execution_count": 14,
   "metadata": {},
   "outputs": [],
   "source": [
    "visitorsAggregated = datesGroups.apply(\n",
    "    lambda x: visitors[\n",
    "        np.logical_and(\n",
    "            visitors['date'] <= x['date'], \n",
    "            visitors['group'] == x['group']\n",
    "        )].agg({\n",
    "        'date' : 'max', \n",
    "        'group' : 'max', \n",
    "        'visitors' : 'sum'}), \n",
    "    axis=1).sort_values(by=['date','group'])"
   ]
  },
  {
   "cell_type": "code",
   "execution_count": 15,
   "metadata": {},
   "outputs": [],
   "source": [
    "cumulativeData = ordersAggregated.merge(\n",
    "    visitorsAggregated, \n",
    "    left_on=['date', 'group'], \n",
    "    right_on=['date', 'group'])"
   ]
  },
  {
   "cell_type": "code",
   "execution_count": 16,
   "metadata": {},
   "outputs": [
    {
     "data": {
      "text/html": [
       "<div>\n",
       "<style scoped>\n",
       "    .dataframe tbody tr th:only-of-type {\n",
       "        vertical-align: middle;\n",
       "    }\n",
       "\n",
       "    .dataframe tbody tr th {\n",
       "        vertical-align: top;\n",
       "    }\n",
       "\n",
       "    .dataframe thead th {\n",
       "        text-align: right;\n",
       "    }\n",
       "</style>\n",
       "<table border=\"1\" class=\"dataframe\">\n",
       "  <thead>\n",
       "    <tr style=\"text-align: right;\">\n",
       "      <th></th>\n",
       "      <th>date</th>\n",
       "      <th>group</th>\n",
       "      <th>transactionId</th>\n",
       "      <th>visitorId</th>\n",
       "      <th>revenue</th>\n",
       "      <th>visitors</th>\n",
       "    </tr>\n",
       "  </thead>\n",
       "  <tbody>\n",
       "    <tr>\n",
       "      <td>0</td>\n",
       "      <td>2019-08-01</td>\n",
       "      <td>A</td>\n",
       "      <td>24</td>\n",
       "      <td>20</td>\n",
       "      <td>148579</td>\n",
       "      <td>719</td>\n",
       "    </tr>\n",
       "    <tr>\n",
       "      <td>1</td>\n",
       "      <td>2019-08-01</td>\n",
       "      <td>B</td>\n",
       "      <td>21</td>\n",
       "      <td>20</td>\n",
       "      <td>101217</td>\n",
       "      <td>713</td>\n",
       "    </tr>\n",
       "    <tr>\n",
       "      <td>2</td>\n",
       "      <td>2019-08-02</td>\n",
       "      <td>A</td>\n",
       "      <td>44</td>\n",
       "      <td>38</td>\n",
       "      <td>242401</td>\n",
       "      <td>1338</td>\n",
       "    </tr>\n",
       "    <tr>\n",
       "      <td>3</td>\n",
       "      <td>2019-08-02</td>\n",
       "      <td>B</td>\n",
       "      <td>45</td>\n",
       "      <td>43</td>\n",
       "      <td>266748</td>\n",
       "      <td>1294</td>\n",
       "    </tr>\n",
       "    <tr>\n",
       "      <td>4</td>\n",
       "      <td>2019-08-03</td>\n",
       "      <td>A</td>\n",
       "      <td>68</td>\n",
       "      <td>62</td>\n",
       "      <td>354874</td>\n",
       "      <td>1845</td>\n",
       "    </tr>\n",
       "    <tr>\n",
       "      <td>...</td>\n",
       "      <td>...</td>\n",
       "      <td>...</td>\n",
       "      <td>...</td>\n",
       "      <td>...</td>\n",
       "      <td>...</td>\n",
       "      <td>...</td>\n",
       "    </tr>\n",
       "    <tr>\n",
       "      <td>57</td>\n",
       "      <td>2019-08-29</td>\n",
       "      <td>B</td>\n",
       "      <td>596</td>\n",
       "      <td>544</td>\n",
       "      <td>5559398</td>\n",
       "      <td>17708</td>\n",
       "    </tr>\n",
       "    <tr>\n",
       "      <td>58</td>\n",
       "      <td>2019-08-30</td>\n",
       "      <td>A</td>\n",
       "      <td>545</td>\n",
       "      <td>493</td>\n",
       "      <td>4022970</td>\n",
       "      <td>18037</td>\n",
       "    </tr>\n",
       "    <tr>\n",
       "      <td>59</td>\n",
       "      <td>2019-08-30</td>\n",
       "      <td>B</td>\n",
       "      <td>620</td>\n",
       "      <td>567</td>\n",
       "      <td>5774631</td>\n",
       "      <td>18198</td>\n",
       "    </tr>\n",
       "    <tr>\n",
       "      <td>60</td>\n",
       "      <td>2019-08-31</td>\n",
       "      <td>A</td>\n",
       "      <td>557</td>\n",
       "      <td>503</td>\n",
       "      <td>4084803</td>\n",
       "      <td>18736</td>\n",
       "    </tr>\n",
       "    <tr>\n",
       "      <td>61</td>\n",
       "      <td>2019-08-31</td>\n",
       "      <td>B</td>\n",
       "      <td>640</td>\n",
       "      <td>586</td>\n",
       "      <td>5907760</td>\n",
       "      <td>18916</td>\n",
       "    </tr>\n",
       "  </tbody>\n",
       "</table>\n",
       "<p>62 rows × 6 columns</p>\n",
       "</div>"
      ],
      "text/plain": [
       "         date group  transactionId  visitorId  revenue  visitors\n",
       "0  2019-08-01     A             24         20   148579       719\n",
       "1  2019-08-01     B             21         20   101217       713\n",
       "2  2019-08-02     A             44         38   242401      1338\n",
       "3  2019-08-02     B             45         43   266748      1294\n",
       "4  2019-08-03     A             68         62   354874      1845\n",
       "..        ...   ...            ...        ...      ...       ...\n",
       "57 2019-08-29     B            596        544  5559398     17708\n",
       "58 2019-08-30     A            545        493  4022970     18037\n",
       "59 2019-08-30     B            620        567  5774631     18198\n",
       "60 2019-08-31     A            557        503  4084803     18736\n",
       "61 2019-08-31     B            640        586  5907760     18916\n",
       "\n",
       "[62 rows x 6 columns]"
      ]
     },
     "execution_count": 16,
     "metadata": {},
     "output_type": "execute_result"
    }
   ],
   "source": [
    "cumulativeData"
   ]
  },
  {
   "cell_type": "code",
   "execution_count": 17,
   "metadata": {},
   "outputs": [],
   "source": [
    "cumulativeData.columns = ['date', 'group', 'orders', 'buyers', 'revenue', 'visitors']"
   ]
  },
  {
   "cell_type": "markdown",
   "metadata": {},
   "source": [
    "Now let's plot cumulative revenue by days and groups of A/B testing."
   ]
  },
  {
   "cell_type": "code",
   "execution_count": 18,
   "metadata": {},
   "outputs": [],
   "source": [
    "# df with cumulative revenue of group A \n",
    "cumulativeRevenueA = cumulativeData[cumulativeData['group']=='A'][['date','revenue', 'orders']]"
   ]
  },
  {
   "cell_type": "code",
   "execution_count": 19,
   "metadata": {},
   "outputs": [],
   "source": [
    "# df with cumulative revenue of group B\n",
    "cumulativeRevenueB = cumulativeData[cumulativeData['group']=='B'][['date','revenue', 'orders']]"
   ]
  },
  {
   "cell_type": "code",
   "execution_count": 20,
   "metadata": {},
   "outputs": [
    {
     "data": {
      "image/png": "[encoded data removed]",
      "text/plain": [
       "<Figure size 1224x648 with 1 Axes>"
      ]
     },
     "metadata": {
      "needs_background": "light"
     },
     "output_type": "display_data"
    }
   ],
   "source": [
    "plt.figure(figsize=(17, 9))\n",
    "\n",
    "plt.plot(cumulativeRevenueA['date'], \n",
    "         cumulativeRevenueA['revenue'], \n",
    "         label='A')\n",
    "\n",
    "plt.plot(cumulativeRevenueB['date'], \n",
    "         cumulativeRevenueB['revenue'], \n",
    "         label='B')\n",
    "\n",
    "plt.title('Cumulative revenue by groups', fontsize=16)\n",
    "plt.xlabel('date')\n",
    "plt.ylabel('revenue')\n",
    "plt.xticks(rotation=45)\n",
    "plt.legend()\n",
    "plt.show()"
   ]
  },
  {
   "cell_type": "markdown",
   "metadata": {},
   "source": [
    "Revenue increases throughout the test, which positively characterizes the experiment. At the same time, it is noticeable on the chart that Group B's revenue is growing sharply on some days. This may indicate a sharp increase in orders / expensive purchases or outliers. By the end of the test, **Group B is in the lead in terms of revenue**."
   ]
  },
  {
   "cell_type": "markdown",
   "metadata": {},
   "source": [
    "## 2. Cumulative average check by groups"
   ]
  },
  {
   "cell_type": "markdown",
   "metadata": {},
   "source": [
    "Now let's plot cumulative average check by groups."
   ]
  },
  {
   "cell_type": "code",
   "execution_count": 21,
   "metadata": {},
   "outputs": [
    {
     "data": {
      "image/png": "[encoded data removed]",
      "text/plain": [
       "<Figure size 1224x648 with 1 Axes>"
      ]
     },
     "metadata": {
      "needs_background": "light"
     },
     "output_type": "display_data"
    }
   ],
   "source": [
    "plt.figure(figsize=(17, 9))\n",
    "plt.plot(cumulativeRevenueA['date'], \n",
    "         cumulativeRevenueA['revenue']/cumulativeRevenueA['orders'], \n",
    "         label='A')\n",
    "plt.plot(cumulativeRevenueB['date'], \n",
    "         cumulativeRevenueB['revenue']/cumulativeRevenueB['orders'], \n",
    "         label='B')\n",
    "plt.title('Cumulative average check by groups', fontsize=16)\n",
    "plt.xlabel('date')\n",
    "plt.ylabel('check')\n",
    "plt.xticks(rotation=45)\n",
    "plt.legend()\n",
    "plt.show()"
   ]
  },
  {
   "cell_type": "markdown",
   "metadata": {},
   "source": [
    "At the end of experiment, the average check in both groups is averaged, but differs significantly in favor of group B. In the first part of test, there are strong drops and spikes in both groups, which indicates outliers. It is impossible to draw unambiguous conclusions based on the chart, it jumps too much."
   ]
  },
  {
   "cell_type": "markdown",
   "metadata": {},
   "source": [
    "### Relative change in cumulative average check of group B to group A"
   ]
  },
  {
   "cell_type": "markdown",
   "metadata": {},
   "source": [
    "Let's plot relative change in average check. To do this, we'll add a horizontal axis using the `axhline()` method."
   ]
  },
  {
   "cell_type": "code",
   "execution_count": 22,
   "metadata": {},
   "outputs": [],
   "source": [
    "mergedCumulativeRevenue = (\n",
    "    cumulativeRevenueA.merge(cumulativeRevenueB, \n",
    "                             left_on='date', \n",
    "                             right_on='date', \n",
    "                             how='left', \n",
    "                             suffixes=['A', 'B'])\n",
    ")"
   ]
  },
  {
   "cell_type": "code",
   "execution_count": 23,
   "metadata": {},
   "outputs": [
    {
     "data": {
      "image/png": "[encoded data removed]",
      "text/plain": [
       "<Figure size 1224x648 with 1 Axes>"
      ]
     },
     "metadata": {
      "needs_background": "light"
     },
     "output_type": "display_data"
    }
   ],
   "source": [
    "plt.figure(figsize=(17, 9))\n",
    "plt.plot(mergedCumulativeRevenue['date'], \n",
    "         (mergedCumulativeRevenue['revenueB']/mergedCumulativeRevenue['ordersB'])/\n",
    "         (mergedCumulativeRevenue['revenueA']/mergedCumulativeRevenue['ordersA'])-1)\n",
    "plt.title('Relative change in cumulative average check', fontsize=16)\n",
    "plt.xticks(rotation=45)\n",
    "plt.xlabel('date')\n",
    "plt.ylabel('change')\n",
    "# добавляем ось X\n",
    "plt.axhline(y=0, color='black', linestyle='--')\n",
    "plt.show()"
   ]
  },
  {
   "cell_type": "markdown",
   "metadata": {},
   "source": [
    "The chart shows several points/dates where difference between groups changes abruptly. This confirms the presence of outliers. We can see which orders dates will be considered outliers."
   ]
  },
  {
   "cell_type": "markdown",
   "metadata": {},
   "source": [
    "## 3. Cumulative conversion by groups"
   ]
  },
  {
   "cell_type": "code",
   "execution_count": 24,
   "metadata": {},
   "outputs": [],
   "source": [
    "# adding column with cumulative conversion  \n",
    "cumulativeData['conversion'] = cumulativeData['orders']/cumulativeData['visitors']"
   ]
  },
  {
   "cell_type": "code",
   "execution_count": 25,
   "metadata": {},
   "outputs": [],
   "source": [
    "# splitting the groups  \n",
    "cumulativeDataA = cumulativeData[cumulativeData['group']=='A']\n",
    "cumulativeDataB = cumulativeData[cumulativeData['group']=='B']"
   ]
  },
  {
   "cell_type": "code",
   "execution_count": 26,
   "metadata": {},
   "outputs": [
    {
     "data": {
      "image/png": "[encoded data removed]",
      "text/plain": [
       "<Figure size 1224x360 with 1 Axes>"
      ]
     },
     "metadata": {
      "needs_background": "light"
     },
     "output_type": "display_data"
    }
   ],
   "source": [
    "plt.figure(figsize=(17, 5))\n",
    "\n",
    "plt.plot(cumulativeDataA['date'], \n",
    "         cumulativeDataA['conversion'], \n",
    "         label='A')\n",
    "plt.plot(cumulativeDataB['date'], \n",
    "         cumulativeDataB['conversion'], \n",
    "         label='B')\n",
    "\n",
    "plt.title('Cumulative conversion by groups', fontsize=16)\n",
    "plt.xlabel('date')\n",
    "plt.ylabel('conversion')\n",
    "plt.xticks(rotation=45)\n",
    "plt.legend()\n",
    "plt.axis([\"2019-08-01\", '2019-08-31', 0, 0.04])\n",
    "plt.show()"
   ]
  },
  {
   "cell_type": "markdown",
   "metadata": {},
   "source": [
    "The chart shows that at first conversion of group B was even smaller than group A's, but then they equalized, and conversion of group B shows a stable increase compared to group A, consolidating at a higher level by the end of the experiment."
   ]
  },
  {
   "cell_type": "markdown",
   "metadata": {},
   "source": [
    "### Relative change in cumulative conversion of group B to group A "
   ]
  },
  {
   "cell_type": "code",
   "execution_count": 27,
   "metadata": {},
   "outputs": [],
   "source": [
    "mergedCumulativeConversions = (\n",
    "    cumulativeDataA[['date','conversion']]\n",
    "    .merge(cumulativeDataB[['date','conversion']], \n",
    "           left_on='date', \n",
    "           right_on='date', \n",
    "           how='left', \n",
    "           suffixes=['A', 'B'])\n",
    ")"
   ]
  },
  {
   "cell_type": "code",
   "execution_count": 28,
   "metadata": {},
   "outputs": [
    {
     "data": {
      "image/png": "[encoded data removed]",
      "text/plain": [
       "<Figure size 1224x648 with 1 Axes>"
      ]
     },
     "metadata": {
      "needs_background": "light"
     },
     "output_type": "display_data"
    }
   ],
   "source": [
    "plt.figure(figsize=(17, 9))\n",
    "\n",
    "plt.plot(mergedCumulativeConversions['date'], \n",
    "         mergedCumulativeConversions['conversionB']/\n",
    "         mergedCumulativeConversions['conversionA']-1)\n",
    "plt.title('Relative change in cumulative conversion', fontsize=16)\n",
    "\n",
    "plt.xticks(rotation=45)\n",
    "plt.xlabel('date')\n",
    "plt.ylabel('change')\n",
    "plt.axhline(y=0, color='black', linestyle='--')\n",
    "plt.axhline(y=-0.12, color='grey', linestyle='--')\n",
    "plt.axis([\"2019-08-01\", '2019-08-31', -0.4, 0.4])\n",
    "plt.show()"
   ]
  },
  {
   "cell_type": "markdown",
   "metadata": {},
   "source": [
    "At the beginning of the test, group B mostly lost to group A (although there was an increase in one day), but then it gradually began to grow and did not decrease anymore."
   ]
  },
  {
   "cell_type": "markdown",
   "metadata": {},
   "source": [
    "## 4. Amount of purchases by groups"
   ]
  },
  {
   "cell_type": "markdown",
   "metadata": {},
   "source": [
    "Let's calculate the number of orders per user by groups. "
   ]
  },
  {
   "cell_type": "code",
   "execution_count": 29,
   "metadata": {},
   "outputs": [
    {
     "data": {
      "text/html": [
       "<div>\n",
       "<style scoped>\n",
       "    .dataframe tbody tr th:only-of-type {\n",
       "        vertical-align: middle;\n",
       "    }\n",
       "\n",
       "    .dataframe tbody tr th {\n",
       "        vertical-align: top;\n",
       "    }\n",
       "\n",
       "    .dataframe thead th {\n",
       "        text-align: right;\n",
       "    }\n",
       "</style>\n",
       "<table border=\"1\" class=\"dataframe\">\n",
       "  <thead>\n",
       "    <tr style=\"text-align: right;\">\n",
       "      <th></th>\n",
       "      <th>visitorId</th>\n",
       "      <th>orders</th>\n",
       "    </tr>\n",
       "  </thead>\n",
       "  <tbody>\n",
       "    <tr>\n",
       "      <td>499</td>\n",
       "      <td>4256040402</td>\n",
       "      <td>7</td>\n",
       "    </tr>\n",
       "    <tr>\n",
       "      <td>227</td>\n",
       "      <td>2038680547</td>\n",
       "      <td>5</td>\n",
       "    </tr>\n",
       "    <tr>\n",
       "      <td>278</td>\n",
       "      <td>2458001652</td>\n",
       "      <td>5</td>\n",
       "    </tr>\n",
       "    <tr>\n",
       "      <td>269</td>\n",
       "      <td>2378935119</td>\n",
       "      <td>4</td>\n",
       "    </tr>\n",
       "    <tr>\n",
       "      <td>18</td>\n",
       "      <td>199603092</td>\n",
       "      <td>4</td>\n",
       "    </tr>\n",
       "    <tr>\n",
       "      <td>...</td>\n",
       "      <td>...</td>\n",
       "      <td>...</td>\n",
       "    </tr>\n",
       "    <tr>\n",
       "      <td>167</td>\n",
       "      <td>1426761187</td>\n",
       "      <td>1</td>\n",
       "    </tr>\n",
       "    <tr>\n",
       "      <td>166</td>\n",
       "      <td>1422773200</td>\n",
       "      <td>1</td>\n",
       "    </tr>\n",
       "    <tr>\n",
       "      <td>165</td>\n",
       "      <td>1422476412</td>\n",
       "      <td>1</td>\n",
       "    </tr>\n",
       "    <tr>\n",
       "      <td>164</td>\n",
       "      <td>1414758703</td>\n",
       "      <td>1</td>\n",
       "    </tr>\n",
       "    <tr>\n",
       "      <td>502</td>\n",
       "      <td>4278982564</td>\n",
       "      <td>1</td>\n",
       "    </tr>\n",
       "  </tbody>\n",
       "</table>\n",
       "<p>503 rows × 2 columns</p>\n",
       "</div>"
      ],
      "text/plain": [
       "      visitorId  orders\n",
       "499  4256040402       7\n",
       "227  2038680547       5\n",
       "278  2458001652       5\n",
       "269  2378935119       4\n",
       "18    199603092       4\n",
       "..          ...     ...\n",
       "167  1426761187       1\n",
       "166  1422773200       1\n",
       "165  1422476412       1\n",
       "164  1414758703       1\n",
       "502  4278982564       1\n",
       "\n",
       "[503 rows x 2 columns]"
      ]
     },
     "execution_count": 29,
     "metadata": {},
     "output_type": "execute_result"
    }
   ],
   "source": [
    "ordersByUsersA = (\n",
    "    orders[orders['group'] == \"A\"]\n",
    "    .groupby('visitorId', as_index=False)\n",
    "    .agg({'transactionId': 'nunique'})\n",
    ")\n",
    "\n",
    "ordersByUsersA.columns = ['visitorId', 'orders']\n",
    "\n",
    "ordersByUsersA.sort_values(by='orders', ascending=False)"
   ]
  },
  {
   "cell_type": "code",
   "execution_count": 30,
   "metadata": {},
   "outputs": [
    {
     "data": {
      "text/html": [
       "<div>\n",
       "<style scoped>\n",
       "    .dataframe tbody tr th:only-of-type {\n",
       "        vertical-align: middle;\n",
       "    }\n",
       "\n",
       "    .dataframe tbody tr th {\n",
       "        vertical-align: top;\n",
       "    }\n",
       "\n",
       "    .dataframe thead th {\n",
       "        text-align: right;\n",
       "    }\n",
       "</style>\n",
       "<table border=\"1\" class=\"dataframe\">\n",
       "  <thead>\n",
       "    <tr style=\"text-align: right;\">\n",
       "      <th></th>\n",
       "      <th>visitorId</th>\n",
       "      <th>orders</th>\n",
       "    </tr>\n",
       "  </thead>\n",
       "  <tbody>\n",
       "    <tr>\n",
       "      <td>340</td>\n",
       "      <td>2458001652</td>\n",
       "      <td>6</td>\n",
       "    </tr>\n",
       "    <tr>\n",
       "      <td>326</td>\n",
       "      <td>2378935119</td>\n",
       "      <td>5</td>\n",
       "    </tr>\n",
       "    <tr>\n",
       "      <td>501</td>\n",
       "      <td>3717692402</td>\n",
       "      <td>4</td>\n",
       "    </tr>\n",
       "    <tr>\n",
       "      <td>514</td>\n",
       "      <td>3803269165</td>\n",
       "      <td>4</td>\n",
       "    </tr>\n",
       "    <tr>\n",
       "      <td>580</td>\n",
       "      <td>4256040402</td>\n",
       "      <td>4</td>\n",
       "    </tr>\n",
       "    <tr>\n",
       "      <td>...</td>\n",
       "      <td>...</td>\n",
       "      <td>...</td>\n",
       "    </tr>\n",
       "    <tr>\n",
       "      <td>190</td>\n",
       "      <td>1396482013</td>\n",
       "      <td>1</td>\n",
       "    </tr>\n",
       "    <tr>\n",
       "      <td>189</td>\n",
       "      <td>1395236619</td>\n",
       "      <td>1</td>\n",
       "    </tr>\n",
       "    <tr>\n",
       "      <td>188</td>\n",
       "      <td>1390677121</td>\n",
       "      <td>1</td>\n",
       "    </tr>\n",
       "    <tr>\n",
       "      <td>187</td>\n",
       "      <td>1388838483</td>\n",
       "      <td>1</td>\n",
       "    </tr>\n",
       "    <tr>\n",
       "      <td>585</td>\n",
       "      <td>4283872382</td>\n",
       "      <td>1</td>\n",
       "    </tr>\n",
       "  </tbody>\n",
       "</table>\n",
       "<p>586 rows × 2 columns</p>\n",
       "</div>"
      ],
      "text/plain": [
       "      visitorId  orders\n",
       "340  2458001652       6\n",
       "326  2378935119       5\n",
       "501  3717692402       4\n",
       "514  3803269165       4\n",
       "580  4256040402       4\n",
       "..          ...     ...\n",
       "190  1396482013       1\n",
       "189  1395236619       1\n",
       "188  1390677121       1\n",
       "187  1388838483       1\n",
       "585  4283872382       1\n",
       "\n",
       "[586 rows x 2 columns]"
      ]
     },
     "execution_count": 30,
     "metadata": {},
     "output_type": "execute_result"
    }
   ],
   "source": [
    "ordersByUsersB = (\n",
    "    orders[orders['group'] == \"B\"]\n",
    "    .groupby('visitorId', as_index=False)\n",
    "    .agg({'transactionId': 'nunique'})\n",
    ")\n",
    "\n",
    "ordersByUsersB.columns = ['visitorId', 'orders']\n",
    "\n",
    "ordersByUsersB.sort_values(by='orders', ascending=False)"
   ]
  },
  {
   "cell_type": "code",
   "execution_count": 31,
   "metadata": {},
   "outputs": [
    {
     "data": {
      "image/png": "[encoded data removed]",
      "text/plain": [
       "<Figure size 1080x360 with 1 Axes>"
      ]
     },
     "metadata": {
      "needs_background": "light"
     },
     "output_type": "display_data"
    }
   ],
   "source": [
    "x1_values = pd.Series(range(0,len(ordersByUsersA)))\n",
    "x2_values = pd.Series(range(0,len(ordersByUsersB)))\n",
    "\n",
    "\n",
    "plt.figure(figsize=(15, 5))\n",
    "\n",
    "plt.scatter(x1_values, ordersByUsersA['orders'],c='lightblue', alpha=.5)\n",
    "plt.scatter(x2_values, ordersByUsersB['orders'], c='coral', alpha=.5)\n",
    "\n",
    "plt.title('Number of purchases per user', fontsize=16)\n",
    "plt.xlabel('user')\n",
    "plt.ylabel('purchases')\n",
    "plt.show()"
   ]
  },
  {
   "cell_type": "markdown",
   "metadata": {},
   "source": [
    "There are quite a lot of orders in amount of > 4, while several users have made 11 orders each. This can certainly be considered as outliers."
   ]
  },
  {
   "cell_type": "markdown",
   "metadata": {},
   "source": [
    "### 95th and 99th percentiles of purchases amount per user"
   ]
  },
  {
   "cell_type": "code",
   "execution_count": 32,
   "metadata": {},
   "outputs": [],
   "source": [
    "ordersByUsers = (\n",
    "    orders.groupby('visitorId', as_index=False)\n",
    "    .agg({'transactionId': 'nunique'})\n",
    ")\n",
    "\n",
    "ordersByUsers.columns = ['visitorId', 'orders']"
   ]
  },
  {
   "cell_type": "code",
   "execution_count": 33,
   "metadata": {},
   "outputs": [
    {
     "name": "stdout",
     "output_type": "stream",
     "text": [
      "[2. 4.]\n"
     ]
    }
   ],
   "source": [
    "print(np.percentile(ordersByUsers['orders'], [95, 99]))"
   ]
  },
  {
   "cell_type": "markdown",
   "metadata": {},
   "source": [
    "No more than 5% of users have made more than 2 orders. And no more than 1% - more than 4 orders. To test statistical hypothesis on clean data, we will cut off users with more than 4 orders (2 seems to be quite a normal parameter)."
   ]
  },
  {
   "cell_type": "markdown",
   "metadata": {},
   "source": [
    "## 5. User spendings on purchases "
   ]
  },
  {
   "cell_type": "code",
   "execution_count": 34,
   "metadata": {},
   "outputs": [
    {
     "data": {
      "image/png": "[encoded data removed]",
      "text/plain": [
       "<Figure size 1080x360 with 1 Axes>"
      ]
     },
     "metadata": {
      "needs_background": "light"
     },
     "output_type": "display_data"
    }
   ],
   "source": [
    "x_values = pd.Series(range(0,len(orders['revenue'])))\n",
    "\n",
    "plt.figure(figsize=(15, 5))\n",
    "plt.scatter(x_values, orders['revenue']) \n",
    "plt.show()"
   ]
  },
  {
   "cell_type": "markdown",
   "metadata": {},
   "source": [
    "Although there are not many of them, but expensive orders are still on the chart."
   ]
  },
  {
   "cell_type": "markdown",
   "metadata": {},
   "source": [
    "###  95th and 99th percentiles of spendings per user¶"
   ]
  },
  {
   "cell_type": "code",
   "execution_count": 35,
   "metadata": {},
   "outputs": [
    {
     "name": "stdout",
     "output_type": "stream",
     "text": [
      "[28000.  58233.2]\n"
     ]
    }
   ],
   "source": [
    "print(np.percentile(orders['revenue'], [95, 99])) "
   ]
  },
  {
   "cell_type": "markdown",
   "metadata": {},
   "source": [
    "No more than 5% of purchases have a check more than 28000 rubles. And 1% of purchases more than 58233 rubles. As with amount of purchases, let's remove more than 1% of outliers and set 50000 rubles as a determiner for an expensive purchase."
   ]
  },
  {
   "cell_type": "markdown",
   "metadata": {},
   "source": [
    "## 6. Statistical significance of differences "
   ]
  },
  {
   "cell_type": "markdown",
   "metadata": {},
   "source": [
    "### Differences in conversion between groups based on raw data "
   ]
  },
  {
   "cell_type": "markdown",
   "metadata": {},
   "source": [
    "At this stage of analysis we looked at the charts based on A/B test results and saw that there are outliers in data. We also established approximate limits for outliers. Now let's calculate the statistical significance of differences in conversion and average check between groups based on \"raw\" and \"clean\" data. But first prepare the datasets."
   ]
  },
  {
   "cell_type": "code",
   "execution_count": 36,
   "metadata": {},
   "outputs": [],
   "source": [
    "# number of site visitors in group A by days\n",
    "visitorsADaily = visitors[visitors['group'] == 'A'][['date', 'visitors']]\n",
    "visitorsADaily.columns = ['date', 'visitorsPerDateA']"
   ]
  },
  {
   "cell_type": "code",
   "execution_count": 37,
   "metadata": {},
   "outputs": [],
   "source": [
    "# cumulative number of visitors for each next day\n",
    "visitorsACummulative = visitorsADaily.apply(\n",
    "    lambda x: visitorsADaily[visitorsADaily['date'] <= x['date']].agg(\n",
    "        {'date': 'max', 'visitorsPerDateA': 'sum'}\n",
    "    ),\n",
    "    axis=1,\n",
    ")\n",
    "visitorsACummulative.columns = ['date', 'visitorsCummulativeA']"
   ]
  },
  {
   "cell_type": "code",
   "execution_count": 38,
   "metadata": {},
   "outputs": [],
   "source": [
    "# the same with group B  \n",
    "visitorsBDaily = visitors[visitors['group'] == 'B'][['date', 'visitors']]\n",
    "visitorsBDaily.columns = ['date', 'visitorsPerDateB']"
   ]
  },
  {
   "cell_type": "code",
   "execution_count": 39,
   "metadata": {},
   "outputs": [],
   "source": [
    "visitorsBCummulative = visitorsBDaily.apply(\n",
    "    lambda x: visitorsBDaily[visitorsBDaily['date'] <= x['date']].agg(\n",
    "        {'date': 'max', 'visitorsPerDateB': 'sum'}\n",
    "    ),\n",
    "    axis=1,\n",
    ")\n",
    "visitorsBCummulative.columns = ['date', 'visitorsCummulativeB']"
   ]
  },
  {
   "cell_type": "code",
   "execution_count": 40,
   "metadata": {},
   "outputs": [],
   "source": [
    "# finding number of purchaces and revenue amount for each date in group A \n",
    "ordersADaily = (\n",
    "    orders[orders['group'] == 'A'][['date', 'transactionId', 'visitorId', 'revenue']]\n",
    "    .groupby('date', as_index=False)\n",
    "    .agg({'transactionId': 'nunique', 'revenue': 'sum'})\n",
    ")\n",
    "ordersADaily.columns = ['date', 'ordersPerDateA', 'revenuePerDateA']"
   ]
  },
  {
   "cell_type": "code",
   "execution_count": 41,
   "metadata": {},
   "outputs": [],
   "source": [
    "# cumulative number of purchaces and revenue amount for each next day  \n",
    "ordersACummulative = ordersADaily.apply(\n",
    "    lambda x: ordersADaily[ordersADaily['date'] <= x['date']].agg(\n",
    "        {'date': 'max', 'ordersPerDateA': 'sum', 'revenuePerDateA': 'sum'}\n",
    "    ),\n",
    "    axis=1,\n",
    ").sort_values(by=['date'])\n",
    "ordersACummulative.columns = [\n",
    "    'date',\n",
    "    'ordersCummulativeA',\n",
    "    'revenueCummulativeA',\n",
    "]"
   ]
  },
  {
   "cell_type": "code",
   "execution_count": 42,
   "metadata": {},
   "outputs": [],
   "source": [
    "# the same with group B  \n",
    "ordersBDaily = (\n",
    "    orders[orders['group'] == 'B'][['date', 'transactionId', 'visitorId', 'revenue']]\n",
    "    .groupby('date', as_index=False)\n",
    "    .agg({'transactionId': 'nunique', 'revenue': 'sum'})\n",
    ")\n",
    "ordersBDaily.columns = ['date', 'ordersPerDateB', 'revenuePerDateB']"
   ]
  },
  {
   "cell_type": "code",
   "execution_count": 43,
   "metadata": {},
   "outputs": [],
   "source": [
    "ordersBCummulative = ordersBDaily.apply(\n",
    "    lambda x: ordersBDaily[ordersBDaily['date'] <= x['date']].agg(\n",
    "        {'date': 'max', 'ordersPerDateB': 'sum', 'revenuePerDateB': 'sum'}\n",
    "    ),\n",
    "    axis=1,\n",
    ").sort_values(by=['date'])\n",
    "ordersBCummulative.columns = [\n",
    "    'date',\n",
    "    'ordersCummulativeB',\n",
    "    'revenueCummulativeB',\n",
    "]"
   ]
  },
  {
   "cell_type": "markdown",
   "metadata": {},
   "source": [
    "Let's merge all dataframes in one table."
   ]
  },
  {
   "cell_type": "code",
   "execution_count": 44,
   "metadata": {},
   "outputs": [],
   "source": [
    "df = (\n",
    "    ordersADaily.merge(\n",
    "        ordersBDaily, left_on='date', right_on='date', how='left'\n",
    "    )\n",
    "    .merge(ordersACummulative, left_on='date', right_on='date', how='left')\n",
    "    .merge(ordersBCummulative, left_on='date', right_on='date', how='left')\n",
    "    .merge(visitorsADaily, left_on='date', right_on='date', how='left')\n",
    "    .merge(visitorsBDaily, left_on='date', right_on='date', how='left')\n",
    "    .merge(visitorsACummulative, left_on='date', right_on='date', how='left')\n",
    "    .merge(visitorsBCummulative, left_on='date', right_on='date', how='left')\n",
    ")"
   ]
  },
  {
   "cell_type": "markdown",
   "metadata": {},
   "source": [
    "We already have `ordersByUsersA` and `orderByUsersB` dataframes with data divided into groups. Using them we'll have `sampleA` and `sampleB` in which users with purchases correspond with the number of purchases. And for users with no orders we'll have zeros. This is necessary to prepare the samples for verification by **Mann-Whitney U test**."
   ]
  },
  {
   "cell_type": "code",
   "execution_count": 45,
   "metadata": {},
   "outputs": [],
   "source": [
    "sampleA = pd.concat(\n",
    "    [\n",
    "        ordersByUsersA['orders'],\n",
    "        pd.Series(\n",
    "            0,\n",
    "            index=np.arange(\n",
    "                df['visitorsPerDateA'].sum() - len(ordersByUsersA['orders'])\n",
    "            ),\n",
    "            name='orders',\n",
    "        ),\n",
    "    ],\n",
    "    axis=0,\n",
    ")"
   ]
  },
  {
   "cell_type": "code",
   "execution_count": 46,
   "metadata": {},
   "outputs": [],
   "source": [
    "sampleB = pd.concat(\n",
    "    [\n",
    "        ordersByUsersB['orders'],\n",
    "        pd.Series(\n",
    "            0,\n",
    "            index=np.arange(\n",
    "                df['visitorsPerDateB'].sum() - len(ordersByUsersB['orders'])\n",
    "            ),\n",
    "            name='orders',\n",
    "        ),\n",
    "    ],\n",
    "    axis=0,\n",
    ")"
   ]
  },
  {
   "cell_type": "markdown",
   "metadata": {},
   "source": [
    "Let's test the null hypothesis formulated as follows: `There are no significant difference between conversions in two groups`. The alternative hypothesis would sound like: `There is a significant difference between conversions in two groups`. Level of statistical significance is 0.5."
   ]
  },
  {
   "cell_type": "code",
   "execution_count": 47,
   "metadata": {},
   "outputs": [
    {
     "name": "stdout",
     "output_type": "stream",
     "text": [
      "P-value is 0.0168\n"
     ]
    }
   ],
   "source": [
    "print(\"P-value is {0:.4f}\".format(\n",
    "    stats.mannwhitneyu(sampleA, sampleB, alternative='two-sided')[1]))"
   ]
  },
  {
   "cell_type": "code",
   "execution_count": 48,
   "metadata": {},
   "outputs": [
    {
     "name": "stdout",
     "output_type": "stream",
     "text": [
      "Relative increase in conversion rate of group B equals to 0.138\n"
     ]
    }
   ],
   "source": [
    "print(\"Relative increase in conversion rate of group B equals to {0:.3f}\".format(\n",
    "    (df['ordersPerDateB'].sum()/df['visitorsPerDateB'].sum())\n",
    "    /(df['ordersPerDateA'].sum()/df['visitorsPerDateA'].sum())-1))"
   ]
  },
  {
   "cell_type": "markdown",
   "metadata": {},
   "source": [
    "P-value is less than 0.05, which means that we reject the null hypothesis. Raw data suggest that there is significant difference in conversion rates of groups A and B. **The relative increase in conversion rate of group B is 13.8%**."
   ]
  },
  {
   "cell_type": "markdown",
   "metadata": {},
   "source": [
    "### Differences in average check between groups based on raw data"
   ]
  },
  {
   "cell_type": "markdown",
   "metadata": {},
   "source": [
    "To find statistical significance of the differences in average check between two groups, let's pass to `mannwhitneyu()` test data on revenue. Let's also find the relative change in average check between groups."
   ]
  },
  {
   "cell_type": "markdown",
   "metadata": {},
   "source": [
    "Let's test the null hypothesis formulated as follows: `There are no significant difference between average check in two groups`. The alternative hypothesis would sound like: `There is a significant difference between average check in two groups`. Level of statistical significance is 0.5."
   ]
  },
  {
   "cell_type": "code",
   "execution_count": 49,
   "metadata": {},
   "outputs": [
    {
     "name": "stdout",
     "output_type": "stream",
     "text": [
      "P-value is 0.729\n"
     ]
    }
   ],
   "source": [
    "print('P-value is {0:.3f}'.format(\n",
    "    stats.mannwhitneyu(orders[orders['group']=='A']['revenue'], \n",
    "                       orders[orders['group']=='B']['revenue'], \n",
    "                       alternative='two-sided')[1]))"
   ]
  },
  {
   "cell_type": "code",
   "execution_count": 50,
   "metadata": {},
   "outputs": [
    {
     "name": "stdout",
     "output_type": "stream",
     "text": [
      "Relative increase in average check is 0.259\n"
     ]
    }
   ],
   "source": [
    "print('Relative increase in average check is {0:.3f}'.format(\n",
    "    orders[orders['group']=='B']['revenue'].mean()\n",
    "    /orders[orders['group']=='A']['revenue'].mean()-1))"
   ]
  },
  {
   "cell_type": "markdown",
   "metadata": {},
   "source": [
    "P-value is more than 0.05, which means that we don't reject the null hypothesis (there is no significant difference in average check of groups A and B). At the same time relative increase in **B's average check is 25.9%**. So we need to test the hypothesis one more time on clean data."
   ]
  },
  {
   "cell_type": "markdown",
   "metadata": {},
   "source": [
    "### Differences in conversion between groups based on clean data"
   ]
  },
  {
   "cell_type": "markdown",
   "metadata": {},
   "source": [
    "Previously we discovered that 5% of users made more than 2 orders, and 1% of users made more than 4 orders. And also that 5% of orders have average check more than 28000 rubles, and 1% - more than 58233 rubles."
   ]
  },
  {
   "cell_type": "markdown",
   "metadata": {},
   "source": [
    "Let's consider outliers those users who have made at least 4 orders or paid more than 50000 rubles. So we'll remove 1% queries and collect users in `abnormalUsers` dataset."
   ]
  },
  {
   "cell_type": "code",
   "execution_count": 51,
   "metadata": {},
   "outputs": [],
   "source": [
    "usersWithManyOrders = pd.concat(\n",
    "    [\n",
    "        ordersByUsersA[ordersByUsersA['orders'] > 4]['visitorId'],\n",
    "        ordersByUsersB[ordersByUsersB['orders'] > 4]['visitorId'],\n",
    "    ],\n",
    "    axis=0,\n",
    ")"
   ]
  },
  {
   "cell_type": "code",
   "execution_count": 52,
   "metadata": {},
   "outputs": [],
   "source": [
    "usersWithExpensiveOrders = orders[orders['revenue'] > 50000]['visitorId']"
   ]
  },
  {
   "cell_type": "code",
   "execution_count": 53,
   "metadata": {},
   "outputs": [],
   "source": [
    "abnormalUsers = (\n",
    "    pd.concat([usersWithManyOrders, usersWithExpensiveOrders], axis=0)\n",
    "    .drop_duplicates()\n",
    "    .sort_values()\n",
    ")"
   ]
  },
  {
   "cell_type": "code",
   "execution_count": 54,
   "metadata": {},
   "outputs": [
    {
     "data": {
      "text/plain": [
       "(21,)"
      ]
     },
     "execution_count": 54,
     "metadata": {},
     "output_type": "execute_result"
    }
   ],
   "source": [
    "abnormalUsers.shape"
   ]
  },
  {
   "cell_type": "markdown",
   "metadata": {},
   "source": [
    "There were 21 abnormal users (outliers). Now let's evaluate how their actions affected the test results - recalculate the statistical significance of the differences on clean data."
   ]
  },
  {
   "cell_type": "code",
   "execution_count": 55,
   "metadata": {},
   "outputs": [],
   "source": [
    "sampleAFiltered = pd.concat(\n",
    "    [\n",
    "        ordersByUsersA[\n",
    "            np.logical_not(ordersByUsersA['visitorId'].isin(abnormalUsers))\n",
    "        ]['orders'],\n",
    "        pd.Series(\n",
    "            0,\n",
    "            index=np.arange(\n",
    "                df['visitorsPerDateA'].sum() - len(ordersByUsersA['orders'])\n",
    "            ),\n",
    "            name='orders',\n",
    "        ),\n",
    "    ],\n",
    "    axis=0,\n",
    ")"
   ]
  },
  {
   "cell_type": "code",
   "execution_count": 56,
   "metadata": {},
   "outputs": [],
   "source": [
    "sampleBFiltered = pd.concat(\n",
    "    [\n",
    "        ordersByUsersB[\n",
    "            np.logical_not(ordersByUsersB['visitorId'].isin(abnormalUsers))\n",
    "        ]['orders'],\n",
    "        pd.Series(\n",
    "            0,\n",
    "            index=np.arange(\n",
    "                df['visitorsPerDateB'].sum() - len(ordersByUsersB['orders'])\n",
    "            ),\n",
    "            name='orders',\n",
    "        ),\n",
    "    ],\n",
    "    axis=0,\n",
    ")"
   ]
  },
  {
   "cell_type": "markdown",
   "metadata": {},
   "source": [
    "Let's test one more time the null hypothesis formulated as follows: `There are no significant difference between conversions in two groups`. The alternative hypothesis would sound like: `There is a significant difference between conversions in two groups`."
   ]
  },
  {
   "cell_type": "code",
   "execution_count": 57,
   "metadata": {},
   "outputs": [
    {
     "name": "stdout",
     "output_type": "stream",
     "text": [
      "P-value is 0.0119\n"
     ]
    }
   ],
   "source": [
    "print(\"P-value is {0:.4f}\".format(\n",
    "    stats.mannwhitneyu(sampleAFiltered, sampleBFiltered, alternative='two-sided')[1]))"
   ]
  },
  {
   "cell_type": "code",
   "execution_count": 58,
   "metadata": {},
   "outputs": [
    {
     "name": "stdout",
     "output_type": "stream",
     "text": [
      "Relative increase of group B conversion rate equals 0.160\n"
     ]
    }
   ],
   "source": [
    "print('Relative increase of group B conversion rate equals {0:.3f}'.format(\n",
    "    sampleBFiltered.mean()/sampleAFiltered.mean()-1)) "
   ]
  },
  {
   "cell_type": "markdown",
   "metadata": {},
   "source": [
    "P-value is less than 0.05. So we reject the null hypothesis. Clean data confirm that there is difference in conversion rate in groups A and B. The relative **increase in conversion rate of group B is 16%**."
   ]
  },
  {
   "cell_type": "markdown",
   "metadata": {},
   "source": [
    "### Differences in average check between groups based on clean data"
   ]
  },
  {
   "cell_type": "markdown",
   "metadata": {},
   "source": [
    "Let's see if something will look different on clean data. The null hypothesis formulated as follows: `There are no significant difference between average check in two groups`. The alternative hypothesis would sound like: `There is a significant difference between average check in two groups`. "
   ]
  },
  {
   "cell_type": "code",
   "execution_count": 59,
   "metadata": {},
   "outputs": [
    {
     "name": "stdout",
     "output_type": "stream",
     "text": [
      "P-value is 0.715\n"
     ]
    }
   ],
   "source": [
    "print(\n",
    "    'P-value is {0:.3f}'.format(\n",
    "        stats.mannwhitneyu(\n",
    "            orders[\n",
    "                np.logical_and(\n",
    "                    orders['group'] == 'A',\n",
    "                    np.logical_not(orders['visitorId'].isin(abnormalUsers)),\n",
    "                )\n",
    "            ]['revenue'],\n",
    "            orders[\n",
    "                np.logical_and(\n",
    "                    orders['group'] == 'B',\n",
    "                    np.logical_not(orders['visitorId'].isin(abnormalUsers)),\n",
    "                )\n",
    "            ]['revenue'], alternative='two-sided'\n",
    "        )[1]\n",
    "    )\n",
    ")"
   ]
  },
  {
   "cell_type": "code",
   "execution_count": 60,
   "metadata": {},
   "outputs": [
    {
     "name": "stdout",
     "output_type": "stream",
     "text": [
      "Relative change in average check is 0.032\n"
     ]
    }
   ],
   "source": [
    "print(\n",
    "    \"Relative change in average check is {0:.3f}\".format(\n",
    "        orders[\n",
    "            np.logical_and(\n",
    "                orders['group'] == 'B',\n",
    "                np.logical_not(orders['visitorId'].isin(abnormalUsers)),\n",
    "            )\n",
    "        ]['revenue'].mean()\n",
    "        / orders[\n",
    "            np.logical_and(\n",
    "                orders['group'] == 'A',\n",
    "                np.logical_not(orders['visitorId'].isin(abnormalUsers)),\n",
    "            )\n",
    "        ]['revenue'].mean()\n",
    "        - 1\n",
    "    )\n",
    ")"
   ]
  },
  {
   "cell_type": "markdown",
   "metadata": {},
   "source": [
    "P-value is again more than 0.05. So there is no reason to reject the null hypothesis. There is no difference in average check. At the same time, the average check of group B on clean data decreased significantly (from 25.9% to 3.2%)."
   ]
  },
  {
   "cell_type": "markdown",
   "metadata": {},
   "source": [
    "## Conclusion"
   ]
  },
  {
   "cell_type": "markdown",
   "metadata": {},
   "source": [
    "So the results of A/B test are the following:\n",
    "\n",
    "- There is statistically significant difference in conversion rate in two groups, both on raw and clean data. \n",
    "- The relative increase in conversion rate of group B on clean data is 16%.\n",
    "- There is no statistically significant difference in average check in two groups, which is confirmed on by both raw and clean data. \n",
    "- After we removed the outliers, the increase in average check dropped from 25.9% (raw data) to 3.2% (clean data, no outliers).\n",
    "- The chart with conversion rate by group also showed that group B has better results than group A.\n",
    "- **Thus, change made on the website allow to increase revenue by improving conversion rate but not by increasing average check**.\n",
    "\n",
    "Recommended: \n",
    "- To stop A/B test, consider test to be successful (group B shows better conversion rate)."
   ]
  }
 ],
 "metadata": {
  "ExecuteTimeLog": [
   {
    "duration": 401,
    "start_time": "2021-07-27T00:41:48.566Z"
   },
   {
    "duration": 1336,
    "start_time": "2021-07-27T00:41:53.964Z"
   },
   {
    "duration": 20,
    "start_time": "2021-07-27T00:41:55.302Z"
   },
   {
    "duration": 53,
    "start_time": "2021-07-27T00:41:55.325Z"
   },
   {
    "duration": 17,
    "start_time": "2021-07-27T00:41:55.380Z"
   },
   {
    "duration": 4,
    "start_time": "2021-07-27T00:41:55.400Z"
   },
   {
    "duration": 22,
    "start_time": "2021-07-27T00:41:55.406Z"
   },
   {
    "duration": 14,
    "start_time": "2021-07-27T00:41:55.431Z"
   },
   {
    "duration": 9,
    "start_time": "2021-07-27T00:41:55.449Z"
   },
   {
    "duration": 15,
    "start_time": "2021-07-27T00:41:55.461Z"
   },
   {
    "duration": 12,
    "start_time": "2021-07-27T00:41:55.478Z"
   },
   {
    "duration": 12,
    "start_time": "2021-07-27T00:41:55.492Z"
   },
   {
    "duration": 14,
    "start_time": "2021-07-27T00:41:55.507Z"
   },
   {
    "duration": 40,
    "start_time": "2021-07-27T00:41:55.523Z"
   },
   {
    "duration": 8,
    "start_time": "2021-07-27T00:41:55.566Z"
   },
   {
    "duration": 8,
    "start_time": "2021-07-27T00:41:55.576Z"
   },
   {
    "duration": 8,
    "start_time": "2021-07-27T00:41:55.586Z"
   },
   {
    "duration": 8,
    "start_time": "2021-07-27T00:41:55.596Z"
   },
   {
    "duration": 14,
    "start_time": "2021-07-27T00:41:55.606Z"
   },
   {
    "duration": 9,
    "start_time": "2021-07-27T00:41:55.657Z"
   },
   {
    "duration": 7,
    "start_time": "2021-07-27T00:41:55.668Z"
   },
   {
    "duration": 8,
    "start_time": "2021-07-27T00:41:55.677Z"
   },
   {
    "duration": 368,
    "start_time": "2021-07-27T00:41:55.687Z"
   },
   {
    "duration": 294,
    "start_time": "2021-07-27T00:41:56.061Z"
   },
   {
    "duration": 8,
    "start_time": "2021-07-27T00:41:56.360Z"
   },
   {
    "duration": 34,
    "start_time": "2021-07-27T00:41:56.371Z"
   },
   {
    "duration": 7,
    "start_time": "2021-07-27T00:41:56.408Z"
   },
   {
    "duration": 20,
    "start_time": "2021-07-27T00:41:56.417Z"
   },
   {
    "duration": 14,
    "start_time": "2021-07-27T00:41:56.440Z"
   },
   {
    "duration": 537,
    "start_time": "2021-07-27T00:41:56.457Z"
   },
   {
    "duration": 572,
    "start_time": "2021-07-27T00:41:56.997Z"
   },
   {
    "duration": 8,
    "start_time": "2021-07-27T00:41:57.572Z"
   },
   {
    "duration": 585,
    "start_time": "2021-07-27T00:41:57.582Z"
   },
   {
    "duration": 6,
    "start_time": "2021-07-27T00:41:58.169Z"
   },
   {
    "duration": 17,
    "start_time": "2021-07-27T00:41:58.177Z"
   },
   {
    "duration": 422,
    "start_time": "2021-07-27T00:41:58.197Z"
   },
   {
    "duration": 12,
    "start_time": "2021-07-27T00:41:58.622Z"
   },
   {
    "duration": 626,
    "start_time": "2021-07-27T00:41:58.636Z"
   },
   {
    "duration": 20,
    "start_time": "2021-07-27T00:41:59.264Z"
   },
   {
    "duration": 18,
    "start_time": "2021-07-27T00:41:59.286Z"
   },
   {
    "duration": 515,
    "start_time": "2021-07-27T00:41:59.307Z"
   },
   {
    "duration": 396,
    "start_time": "2021-07-27T00:41:59.824Z"
   },
   {
    "duration": 92,
    "start_time": "2021-07-27T00:42:00.131Z"
   },
   {
    "duration": 7,
    "start_time": "2021-07-27T00:42:00.217Z"
   },
   {
    "duration": 0,
    "start_time": "2021-07-27T00:42:00.226Z"
   },
   {
    "duration": -11,
    "start_time": "2021-07-27T00:42:00.238Z"
   },
   {
    "duration": -22,
    "start_time": "2021-07-27T00:42:00.250Z"
   },
   {
    "duration": -33,
    "start_time": "2021-07-27T00:42:00.262Z"
   },
   {
    "duration": -40,
    "start_time": "2021-07-27T00:42:00.270Z"
   },
   {
    "duration": -47,
    "start_time": "2021-07-27T00:42:00.279Z"
   },
   {
    "duration": -53,
    "start_time": "2021-07-27T00:42:00.286Z"
   },
   {
    "duration": -60,
    "start_time": "2021-07-27T00:42:00.294Z"
   },
   {
    "duration": -65,
    "start_time": "2021-07-27T00:42:00.301Z"
   },
   {
    "duration": -71,
    "start_time": "2021-07-27T00:42:00.308Z"
   },
   {
    "duration": -137,
    "start_time": "2021-07-27T00:42:00.375Z"
   },
   {
    "duration": -180,
    "start_time": "2021-07-27T00:42:00.419Z"
   },
   {
    "duration": -220,
    "start_time": "2021-07-27T00:42:00.461Z"
   },
   {
    "duration": -273,
    "start_time": "2021-07-27T00:42:00.515Z"
   },
   {
    "duration": -283,
    "start_time": "2021-07-27T00:42:00.526Z"
   },
   {
    "duration": -294,
    "start_time": "2021-07-27T00:42:00.538Z"
   },
   {
    "duration": -306,
    "start_time": "2021-07-27T00:42:00.552Z"
   },
   {
    "duration": -316,
    "start_time": "2021-07-27T00:42:00.563Z"
   },
   {
    "duration": -324,
    "start_time": "2021-07-27T00:42:00.572Z"
   },
   {
    "duration": -334,
    "start_time": "2021-07-27T00:42:00.583Z"
   },
   {
    "duration": -341,
    "start_time": "2021-07-27T00:42:00.592Z"
   },
   {
    "duration": -347,
    "start_time": "2021-07-27T00:42:00.599Z"
   },
   {
    "duration": -372,
    "start_time": "2021-07-27T00:42:00.625Z"
   },
   {
    "duration": -402,
    "start_time": "2021-07-27T00:42:00.656Z"
   },
   {
    "duration": -468,
    "start_time": "2021-07-27T00:42:00.723Z"
   },
   {
    "duration": 978,
    "start_time": "2022-02-13T23:14:36.125Z"
   },
   {
    "duration": 74,
    "start_time": "2022-02-13T23:14:37.104Z"
   },
   {
    "duration": 10,
    "start_time": "2022-02-13T23:14:37.179Z"
   },
   {
    "duration": 6,
    "start_time": "2022-02-13T23:14:37.191Z"
   },
   {
    "duration": 7,
    "start_time": "2022-02-13T23:14:37.199Z"
   },
   {
    "duration": 7,
    "start_time": "2022-02-13T23:14:37.208Z"
   },
   {
    "duration": 6,
    "start_time": "2022-02-13T23:14:37.216Z"
   },
   {
    "duration": 4,
    "start_time": "2022-02-13T23:14:37.224Z"
   },
   {
    "duration": 4,
    "start_time": "2022-02-13T23:14:37.230Z"
   },
   {
    "duration": 6,
    "start_time": "2022-02-13T23:14:37.236Z"
   },
   {
    "duration": 8,
    "start_time": "2022-02-13T23:14:37.243Z"
   },
   {
    "duration": 4,
    "start_time": "2022-02-13T23:14:37.253Z"
   },
   {
    "duration": 199,
    "start_time": "2022-02-13T23:14:37.259Z"
   },
   {
    "duration": 154,
    "start_time": "2022-02-13T23:14:37.459Z"
   },
   {
    "duration": 17,
    "start_time": "2022-02-13T23:14:37.614Z"
   },
   {
    "duration": 13,
    "start_time": "2022-02-13T23:14:37.632Z"
   },
   {
    "duration": 3,
    "start_time": "2022-02-13T23:14:37.646Z"
   },
   {
    "duration": 9,
    "start_time": "2022-02-13T23:14:37.651Z"
   },
   {
    "duration": 6,
    "start_time": "2022-02-13T23:14:37.661Z"
   },
   {
    "duration": 338,
    "start_time": "2022-02-13T23:14:37.668Z"
   },
   {
    "duration": 316,
    "start_time": "2022-02-13T23:14:38.008Z"
   },
   {
    "duration": 7,
    "start_time": "2022-02-13T23:14:38.329Z"
   },
   {
    "duration": 413,
    "start_time": "2022-02-13T23:14:38.339Z"
   },
   {
    "duration": 3,
    "start_time": "2022-02-13T23:14:38.754Z"
   },
   {
    "duration": 8,
    "start_time": "2022-02-13T23:14:38.758Z"
   },
   {
    "duration": 267,
    "start_time": "2022-02-13T23:14:38.768Z"
   },
   {
    "duration": 7,
    "start_time": "2022-02-13T23:14:39.037Z"
   },
   {
    "duration": 412,
    "start_time": "2022-02-13T23:14:39.045Z"
   },
   {
    "duration": 11,
    "start_time": "2022-02-13T23:14:39.459Z"
   },
   {
    "duration": 10,
    "start_time": "2022-02-13T23:14:39.472Z"
   },
   {
    "duration": 368,
    "start_time": "2022-02-13T23:14:39.484Z"
   },
   {
    "duration": 240,
    "start_time": "2022-02-13T23:14:39.854Z"
   },
   {
    "duration": -109,
    "start_time": "2022-02-13T23:14:40.205Z"
   },
   {
    "duration": -117,
    "start_time": "2022-02-13T23:14:40.214Z"
   },
   {
    "duration": -122,
    "start_time": "2022-02-13T23:14:40.219Z"
   },
   {
    "duration": -130,
    "start_time": "2022-02-13T23:14:40.228Z"
   },
   {
    "duration": -136,
    "start_time": "2022-02-13T23:14:40.235Z"
   },
   {
    "duration": -140,
    "start_time": "2022-02-13T23:14:40.240Z"
   },
   {
    "duration": -145,
    "start_time": "2022-02-13T23:14:40.246Z"
   },
   {
    "duration": -152,
    "start_time": "2022-02-13T23:14:40.254Z"
   },
   {
    "duration": -159,
    "start_time": "2022-02-13T23:14:40.262Z"
   },
   {
    "duration": -163,
    "start_time": "2022-02-13T23:14:40.267Z"
   },
   {
    "duration": -169,
    "start_time": "2022-02-13T23:14:40.273Z"
   },
   {
    "duration": -175,
    "start_time": "2022-02-13T23:14:40.280Z"
   },
   {
    "duration": -179,
    "start_time": "2022-02-13T23:14:40.285Z"
   },
   {
    "duration": -185,
    "start_time": "2022-02-13T23:14:40.291Z"
   },
   {
    "duration": -191,
    "start_time": "2022-02-13T23:14:40.298Z"
   },
   {
    "duration": -485,
    "start_time": "2022-02-13T23:14:40.593Z"
   },
   {
    "duration": -491,
    "start_time": "2022-02-13T23:14:40.599Z"
   },
   {
    "duration": -497,
    "start_time": "2022-02-13T23:14:40.606Z"
   },
   {
    "duration": -503,
    "start_time": "2022-02-13T23:14:40.613Z"
   },
   {
    "duration": -509,
    "start_time": "2022-02-13T23:14:40.620Z"
   },
   {
    "duration": -515,
    "start_time": "2022-02-13T23:14:40.626Z"
   },
   {
    "duration": -520,
    "start_time": "2022-02-13T23:14:40.632Z"
   },
   {
    "duration": -524,
    "start_time": "2022-02-13T23:14:40.637Z"
   },
   {
    "duration": -531,
    "start_time": "2022-02-13T23:14:40.644Z"
   },
   {
    "duration": -535,
    "start_time": "2022-02-13T23:14:40.649Z"
   },
   {
    "duration": -539,
    "start_time": "2022-02-13T23:14:40.654Z"
   },
   {
    "duration": -545,
    "start_time": "2022-02-13T23:14:40.660Z"
   },
   {
    "duration": 9,
    "start_time": "2022-02-13T23:18:07.200Z"
   },
   {
    "duration": 4,
    "start_time": "2022-02-13T23:18:09.969Z"
   },
   {
    "duration": 970,
    "start_time": "2022-02-13T23:18:28.674Z"
   },
   {
    "duration": 29,
    "start_time": "2022-02-13T23:18:29.646Z"
   },
   {
    "duration": 11,
    "start_time": "2022-02-13T23:18:29.677Z"
   },
   {
    "duration": 5,
    "start_time": "2022-02-13T23:18:29.691Z"
   },
   {
    "duration": 6,
    "start_time": "2022-02-13T23:18:29.698Z"
   },
   {
    "duration": 7,
    "start_time": "2022-02-13T23:18:29.706Z"
   },
   {
    "duration": 15,
    "start_time": "2022-02-13T23:18:29.715Z"
   },
   {
    "duration": 5,
    "start_time": "2022-02-13T23:18:29.732Z"
   },
   {
    "duration": 5,
    "start_time": "2022-02-13T23:18:29.739Z"
   },
   {
    "duration": 5,
    "start_time": "2022-02-13T23:18:29.745Z"
   },
   {
    "duration": 6,
    "start_time": "2022-02-13T23:18:29.752Z"
   },
   {
    "duration": 5,
    "start_time": "2022-02-13T23:18:29.760Z"
   },
   {
    "duration": 213,
    "start_time": "2022-02-13T23:18:29.766Z"
   },
   {
    "duration": 154,
    "start_time": "2022-02-13T23:18:29.980Z"
   },
   {
    "duration": 5,
    "start_time": "2022-02-13T23:18:30.136Z"
   },
   {
    "duration": 14,
    "start_time": "2022-02-13T23:18:30.142Z"
   },
   {
    "duration": 5,
    "start_time": "2022-02-13T23:18:30.158Z"
   },
   {
    "duration": 23,
    "start_time": "2022-02-13T23:18:30.164Z"
   },
   {
    "duration": 21,
    "start_time": "2022-02-13T23:18:30.188Z"
   },
   {
    "duration": 333,
    "start_time": "2022-02-13T23:18:30.210Z"
   },
   {
    "duration": 327,
    "start_time": "2022-02-13T23:18:30.545Z"
   },
   {
    "duration": 6,
    "start_time": "2022-02-13T23:18:30.873Z"
   },
   {
    "duration": 426,
    "start_time": "2022-02-13T23:18:30.882Z"
   },
   {
    "duration": 3,
    "start_time": "2022-02-13T23:18:31.311Z"
   },
   {
    "duration": 16,
    "start_time": "2022-02-13T23:18:31.315Z"
   },
   {
    "duration": 262,
    "start_time": "2022-02-13T23:18:31.333Z"
   },
   {
    "duration": 7,
    "start_time": "2022-02-13T23:18:31.596Z"
   },
   {
    "duration": 445,
    "start_time": "2022-02-13T23:18:31.605Z"
   },
   {
    "duration": 13,
    "start_time": "2022-02-13T23:18:32.051Z"
   },
   {
    "duration": 11,
    "start_time": "2022-02-13T23:18:32.065Z"
   },
   {
    "duration": 374,
    "start_time": "2022-02-13T23:18:32.078Z"
   },
   {
    "duration": 6,
    "start_time": "2022-02-13T23:18:32.453Z"
   },
   {
    "duration": 4,
    "start_time": "2022-02-13T23:18:32.460Z"
   },
   {
    "duration": 313,
    "start_time": "2022-02-13T23:18:32.465Z"
   },
   {
    "duration": 4,
    "start_time": "2022-02-13T23:18:32.779Z"
   },
   {
    "duration": 7,
    "start_time": "2022-02-13T23:18:32.784Z"
   },
   {
    "duration": 67,
    "start_time": "2022-02-13T23:18:32.792Z"
   },
   {
    "duration": 6,
    "start_time": "2022-02-13T23:18:32.861Z"
   },
   {
    "duration": 65,
    "start_time": "2022-02-13T23:18:32.869Z"
   },
   {
    "duration": 10,
    "start_time": "2022-02-13T23:18:32.936Z"
   },
   {
    "duration": 59,
    "start_time": "2022-02-13T23:18:32.947Z"
   },
   {
    "duration": 26,
    "start_time": "2022-02-13T23:18:33.007Z"
   },
   {
    "duration": 59,
    "start_time": "2022-02-13T23:18:33.034Z"
   },
   {
    "duration": 35,
    "start_time": "2022-02-13T23:18:33.095Z"
   },
   {
    "duration": 4,
    "start_time": "2022-02-13T23:18:33.132Z"
   },
   {
    "duration": 9,
    "start_time": "2022-02-13T23:18:33.137Z"
   },
   {
    "duration": 10,
    "start_time": "2022-02-13T23:18:33.148Z"
   },
   {
    "duration": 4,
    "start_time": "2022-02-13T23:18:33.160Z"
   },
   {
    "duration": 7,
    "start_time": "2022-02-13T23:18:33.166Z"
   },
   {
    "duration": 6,
    "start_time": "2022-02-13T23:18:33.174Z"
   },
   {
    "duration": 4,
    "start_time": "2022-02-13T23:18:33.182Z"
   },
   {
    "duration": 8,
    "start_time": "2022-02-13T23:18:33.188Z"
   },
   {
    "duration": 33,
    "start_time": "2022-02-13T23:18:33.197Z"
   },
   {
    "duration": 5,
    "start_time": "2022-02-13T23:18:33.232Z"
   },
   {
    "duration": 5,
    "start_time": "2022-02-13T23:18:33.239Z"
   },
   {
    "duration": 5,
    "start_time": "2022-02-13T23:18:33.246Z"
   },
   {
    "duration": 6,
    "start_time": "2022-02-13T23:18:33.252Z"
   },
   {
    "duration": 4,
    "start_time": "2022-02-13T23:18:33.260Z"
   },
   {
    "duration": 9,
    "start_time": "2022-02-13T23:18:33.266Z"
   },
   {
    "duration": 9,
    "start_time": "2022-02-13T23:18:33.276Z"
   },
   {
    "duration": 6,
    "start_time": "2022-02-13T23:33:48.100Z"
   },
   {
    "duration": 4,
    "start_time": "2022-02-13T23:36:06.227Z"
   },
   {
    "duration": 3,
    "start_time": "2022-02-13T23:36:10.924Z"
   },
   {
    "duration": 7,
    "start_time": "2022-02-13T23:42:28.619Z"
   },
   {
    "duration": 7,
    "start_time": "2022-02-13T23:43:18.293Z"
   },
   {
    "duration": 5,
    "start_time": "2022-02-13T23:47:38.585Z"
   },
   {
    "duration": 4,
    "start_time": "2022-02-13T23:48:06.117Z"
   },
   {
    "duration": 8,
    "start_time": "2022-02-13T23:54:17.499Z"
   },
   {
    "duration": 8,
    "start_time": "2022-02-13T23:54:52.611Z"
   },
   {
    "duration": 999,
    "start_time": "2022-02-13T23:57:17.010Z"
   },
   {
    "duration": 28,
    "start_time": "2022-02-13T23:57:18.011Z"
   },
   {
    "duration": 11,
    "start_time": "2022-02-13T23:57:18.041Z"
   },
   {
    "duration": 6,
    "start_time": "2022-02-13T23:57:18.054Z"
   },
   {
    "duration": 6,
    "start_time": "2022-02-13T23:57:18.061Z"
   },
   {
    "duration": 6,
    "start_time": "2022-02-13T23:57:18.069Z"
   },
   {
    "duration": 7,
    "start_time": "2022-02-13T23:57:18.076Z"
   },
   {
    "duration": 5,
    "start_time": "2022-02-13T23:57:18.085Z"
   },
   {
    "duration": 4,
    "start_time": "2022-02-13T23:57:18.092Z"
   },
   {
    "duration": 34,
    "start_time": "2022-02-13T23:57:18.098Z"
   },
   {
    "duration": 8,
    "start_time": "2022-02-13T23:57:18.134Z"
   },
   {
    "duration": 5,
    "start_time": "2022-02-13T23:57:18.144Z"
   },
   {
    "duration": 205,
    "start_time": "2022-02-13T23:57:18.150Z"
   },
   {
    "duration": 153,
    "start_time": "2022-02-13T23:57:18.357Z"
   },
   {
    "duration": 6,
    "start_time": "2022-02-13T23:57:18.512Z"
   },
   {
    "duration": 20,
    "start_time": "2022-02-13T23:57:18.519Z"
   },
   {
    "duration": 4,
    "start_time": "2022-02-13T23:57:18.540Z"
   },
   {
    "duration": 6,
    "start_time": "2022-02-13T23:57:18.545Z"
   },
   {
    "duration": 6,
    "start_time": "2022-02-13T23:57:18.553Z"
   },
   {
    "duration": 352,
    "start_time": "2022-02-13T23:57:18.560Z"
   },
   {
    "duration": 321,
    "start_time": "2022-02-13T23:57:18.915Z"
   },
   {
    "duration": 6,
    "start_time": "2022-02-13T23:57:19.238Z"
   },
   {
    "duration": 422,
    "start_time": "2022-02-13T23:57:19.247Z"
   },
   {
    "duration": 3,
    "start_time": "2022-02-13T23:57:19.671Z"
   },
   {
    "duration": 8,
    "start_time": "2022-02-13T23:57:19.676Z"
   },
   {
    "duration": 282,
    "start_time": "2022-02-13T23:57:19.685Z"
   },
   {
    "duration": 8,
    "start_time": "2022-02-13T23:57:19.968Z"
   },
   {
    "duration": 418,
    "start_time": "2022-02-13T23:57:19.978Z"
   },
   {
    "duration": 11,
    "start_time": "2022-02-13T23:57:20.398Z"
   },
   {
    "duration": 23,
    "start_time": "2022-02-13T23:57:20.411Z"
   },
   {
    "duration": 356,
    "start_time": "2022-02-13T23:57:20.436Z"
   },
   {
    "duration": 6,
    "start_time": "2022-02-13T23:57:20.793Z"
   },
   {
    "duration": 4,
    "start_time": "2022-02-13T23:57:20.800Z"
   },
   {
    "duration": 375,
    "start_time": "2022-02-13T23:57:20.806Z"
   },
   {
    "duration": 3,
    "start_time": "2022-02-13T23:57:21.183Z"
   },
   {
    "duration": 8,
    "start_time": "2022-02-13T23:57:21.188Z"
   },
   {
    "duration": 62,
    "start_time": "2022-02-13T23:57:21.197Z"
   },
   {
    "duration": 7,
    "start_time": "2022-02-13T23:57:21.260Z"
   },
   {
    "duration": 64,
    "start_time": "2022-02-13T23:57:21.268Z"
   },
   {
    "duration": 9,
    "start_time": "2022-02-13T23:57:21.334Z"
   },
   {
    "duration": 59,
    "start_time": "2022-02-13T23:57:21.345Z"
   },
   {
    "duration": 34,
    "start_time": "2022-02-13T23:57:21.406Z"
   },
   {
    "duration": 55,
    "start_time": "2022-02-13T23:57:21.442Z"
   },
   {
    "duration": 31,
    "start_time": "2022-02-13T23:57:21.499Z"
   },
   {
    "duration": 4,
    "start_time": "2022-02-13T23:57:21.531Z"
   },
   {
    "duration": 5,
    "start_time": "2022-02-13T23:57:21.537Z"
   },
   {
    "duration": 8,
    "start_time": "2022-02-13T23:57:21.543Z"
   },
   {
    "duration": 4,
    "start_time": "2022-02-13T23:57:21.552Z"
   },
   {
    "duration": 7,
    "start_time": "2022-02-13T23:57:21.557Z"
   },
   {
    "duration": 6,
    "start_time": "2022-02-13T23:57:21.566Z"
   },
   {
    "duration": 9,
    "start_time": "2022-02-13T23:57:21.573Z"
   },
   {
    "duration": 6,
    "start_time": "2022-02-13T23:57:21.583Z"
   },
   {
    "duration": 7,
    "start_time": "2022-02-13T23:57:21.590Z"
   },
   {
    "duration": 31,
    "start_time": "2022-02-13T23:57:21.599Z"
   },
   {
    "duration": 9,
    "start_time": "2022-02-13T23:57:21.632Z"
   },
   {
    "duration": 7,
    "start_time": "2022-02-13T23:57:21.642Z"
   },
   {
    "duration": 9,
    "start_time": "2022-02-13T23:57:21.651Z"
   },
   {
    "duration": 7,
    "start_time": "2022-02-13T23:57:21.661Z"
   },
   {
    "duration": 10,
    "start_time": "2022-02-13T23:57:21.669Z"
   },
   {
    "duration": 11,
    "start_time": "2022-02-13T23:57:21.680Z"
   },
   {
    "duration": 7,
    "start_time": "2022-02-14T00:02:30.563Z"
   },
   {
    "duration": 1047,
    "start_time": "2022-02-14T00:11:53.460Z"
   },
   {
    "duration": 29,
    "start_time": "2022-02-14T00:11:54.509Z"
   },
   {
    "duration": 10,
    "start_time": "2022-02-14T00:11:54.540Z"
   },
   {
    "duration": 7,
    "start_time": "2022-02-14T00:11:54.552Z"
   },
   {
    "duration": 6,
    "start_time": "2022-02-14T00:11:54.561Z"
   },
   {
    "duration": 16,
    "start_time": "2022-02-14T00:11:54.568Z"
   },
   {
    "duration": 6,
    "start_time": "2022-02-14T00:11:54.585Z"
   },
   {
    "duration": 7,
    "start_time": "2022-02-14T00:11:54.593Z"
   },
   {
    "duration": 6,
    "start_time": "2022-02-14T00:11:54.601Z"
   },
   {
    "duration": 22,
    "start_time": "2022-02-14T00:11:54.608Z"
   },
   {
    "duration": 7,
    "start_time": "2022-02-14T00:11:54.631Z"
   },
   {
    "duration": 6,
    "start_time": "2022-02-14T00:11:54.639Z"
   },
   {
    "duration": 202,
    "start_time": "2022-02-14T00:11:54.646Z"
   },
   {
    "duration": 145,
    "start_time": "2022-02-14T00:11:54.849Z"
   },
   {
    "duration": 5,
    "start_time": "2022-02-14T00:11:54.996Z"
   },
   {
    "duration": 15,
    "start_time": "2022-02-14T00:11:55.003Z"
   },
   {
    "duration": 11,
    "start_time": "2022-02-14T00:11:55.020Z"
   },
   {
    "duration": 9,
    "start_time": "2022-02-14T00:11:55.032Z"
   },
   {
    "duration": 11,
    "start_time": "2022-02-14T00:11:55.042Z"
   },
   {
    "duration": 334,
    "start_time": "2022-02-14T00:11:55.055Z"
   },
   {
    "duration": 318,
    "start_time": "2022-02-14T00:11:55.391Z"
   },
   {
    "duration": 6,
    "start_time": "2022-02-14T00:11:55.711Z"
   },
   {
    "duration": 446,
    "start_time": "2022-02-14T00:11:55.721Z"
   },
   {
    "duration": 3,
    "start_time": "2022-02-14T00:11:56.169Z"
   },
   {
    "duration": 6,
    "start_time": "2022-02-14T00:11:56.174Z"
   },
   {
    "duration": 260,
    "start_time": "2022-02-14T00:11:56.182Z"
   },
   {
    "duration": 8,
    "start_time": "2022-02-14T00:11:56.443Z"
   },
   {
    "duration": 412,
    "start_time": "2022-02-14T00:11:56.452Z"
   },
   {
    "duration": 14,
    "start_time": "2022-02-14T00:11:56.865Z"
   },
   {
    "duration": 12,
    "start_time": "2022-02-14T00:11:56.880Z"
   },
   {
    "duration": 380,
    "start_time": "2022-02-14T00:11:56.894Z"
   },
   {
    "duration": 6,
    "start_time": "2022-02-14T00:11:57.275Z"
   },
   {
    "duration": 4,
    "start_time": "2022-02-14T00:11:57.283Z"
   },
   {
    "duration": 300,
    "start_time": "2022-02-14T00:11:57.288Z"
   },
   {
    "duration": 4,
    "start_time": "2022-02-14T00:11:57.589Z"
   },
   {
    "duration": 10,
    "start_time": "2022-02-14T00:11:57.594Z"
   },
   {
    "duration": 62,
    "start_time": "2022-02-14T00:11:57.605Z"
   },
   {
    "duration": 6,
    "start_time": "2022-02-14T00:11:57.669Z"
   },
   {
    "duration": 61,
    "start_time": "2022-02-14T00:11:57.676Z"
   },
   {
    "duration": 11,
    "start_time": "2022-02-14T00:11:57.738Z"
   },
   {
    "duration": 57,
    "start_time": "2022-02-14T00:11:57.750Z"
   },
   {
    "duration": 28,
    "start_time": "2022-02-14T00:11:57.809Z"
   },
   {
    "duration": 60,
    "start_time": "2022-02-14T00:11:57.838Z"
   },
   {
    "duration": 43,
    "start_time": "2022-02-14T00:11:57.900Z"
   },
   {
    "duration": 5,
    "start_time": "2022-02-14T00:11:57.945Z"
   },
   {
    "duration": 5,
    "start_time": "2022-02-14T00:11:57.952Z"
   },
   {
    "duration": 8,
    "start_time": "2022-02-14T00:11:57.959Z"
   },
   {
    "duration": 4,
    "start_time": "2022-02-14T00:11:57.969Z"
   },
   {
    "duration": 8,
    "start_time": "2022-02-14T00:11:57.975Z"
   },
   {
    "duration": 7,
    "start_time": "2022-02-14T00:11:57.984Z"
   },
   {
    "duration": 39,
    "start_time": "2022-02-14T00:11:57.993Z"
   },
   {
    "duration": 6,
    "start_time": "2022-02-14T00:11:58.034Z"
   },
   {
    "duration": 5,
    "start_time": "2022-02-14T00:11:58.042Z"
   },
   {
    "duration": 5,
    "start_time": "2022-02-14T00:11:58.049Z"
   },
   {
    "duration": 6,
    "start_time": "2022-02-14T00:11:58.055Z"
   },
   {
    "duration": 7,
    "start_time": "2022-02-14T00:11:58.062Z"
   },
   {
    "duration": 8,
    "start_time": "2022-02-14T00:11:58.070Z"
   },
   {
    "duration": 4,
    "start_time": "2022-02-14T00:11:58.080Z"
   },
   {
    "duration": 53,
    "start_time": "2022-02-14T00:11:58.086Z"
   },
   {
    "duration": 10,
    "start_time": "2022-02-14T00:11:58.141Z"
   }
  ],
  "kernelspec": {
   "display_name": "Python 3",
   "language": "python",
   "name": "python3"
  },
  "language_info": {
   "codemirror_mode": {
    "name": "ipython",
    "version": 3
   },
   "file_extension": ".py",
   "mimetype": "text/x-python",
   "name": "python",
   "nbconvert_exporter": "python",
   "pygments_lexer": "ipython3",
   "version": "3.7.8"
  },
  "toc": {
   "base_numbering": 1,
   "nav_menu": {},
   "number_sections": false,
   "sideBar": true,
   "skip_h1_title": false,
   "title_cell": "Table of Contents",
   "title_sidebar": "Contents",
   "toc_cell": true,
   "toc_position": {},
   "toc_section_display": true,
   "toc_window_display": false
  }
 },
 "nbformat": 4,
 "nbformat_minor": 2
}
