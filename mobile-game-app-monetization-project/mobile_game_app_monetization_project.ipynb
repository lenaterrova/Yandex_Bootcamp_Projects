{
 "cells": [
  {
   "cell_type": "markdown",
   "metadata": {
    "toc": true
   },
   "source": [
    "<h1>Table of Contents<span class=\"tocSkip\"></span></h1>\n",
    "<div class=\"toc\"><ul class=\"toc-item\"><li><span><a href=\"#Mobile-game-app-project\" data-toc-modified-id=\"Mobile-game-app-project-1\">Mobile game app project</a></span><ul class=\"toc-item\"><li><span><a href=\"#1.-Importing-and-inspecting-data\" data-toc-modified-id=\"1.-Importing-and-inspecting-data-1.1\">1. Importing and inspecting data</a></span></li><li><span><a href=\"#2.-EDA\" data-toc-modified-id=\"2.-EDA-1.2\">2. EDA</a></span><ul class=\"toc-item\"><li><span><a href=\"#What-types-of-events-do-we-have-in-game?\" data-toc-modified-id=\"What-types-of-events-do-we-have-in-game?-1.2.1\">What types of events do we have in game?</a></span></li><li><span><a href=\"#What-types-of-buildings-do-we-have-in-game?\" data-toc-modified-id=\"What-types-of-buildings-do-we-have-in-game?-1.2.2\">What types of buildings do we have in game?</a></span></li><li><span><a href=\"#Timing\" data-toc-modified-id=\"Timing-1.2.3\">Timing</a></span></li><li><span><a href=\"#Traffic-sources\" data-toc-modified-id=\"Traffic-sources-1.2.4\">Traffic sources</a></span></li><li><span><a href=\"#Summary\" data-toc-modified-id=\"Summary-1.2.5\">Summary</a></span></li></ul></li><li><span><a href=\"#3.-Game-Strategies\" data-toc-modified-id=\"3.-Game-Strategies-1.3\">3. Game Strategies</a></span><ul class=\"toc-item\"><li><span><a href=\"#How-does-traffic-source-affect-users'-strategy-choice?\" data-toc-modified-id=\"How-does-traffic-source-affect-users'-strategy-choice?-1.3.1\">How does traffic source affect users' strategy choice?</a></span></li><li><span><a href=\"#Summary\" data-toc-modified-id=\"Summary-1.3.2\">Summary</a></span></li></ul></li><li><span><a href=\"#4.-Statistical-Hypothesis-Testing\" data-toc-modified-id=\"4.-Statistical-Hypothesis-Testing-1.4\">4. Statistical Hypothesis Testing</a></span><ul class=\"toc-item\"><li><span><a href=\"#Hypothesis-1\" data-toc-modified-id=\"Hypothesis-1-1.4.1\">Hypothesis 1</a></span></li><li><span><a href=\"#Hypothesis-2\" data-toc-modified-id=\"Hypothesis-2-1.4.2\">Hypothesis 2</a></span></li><li><span><a href=\"#Summary\" data-toc-modified-id=\"Summary-1.4.3\">Summary</a></span></li></ul></li><li><span><a href=\"#5.-Marketing-Metrics\" data-toc-modified-id=\"5.-Marketing-Metrics-1.5\">5. Marketing Metrics</a></span><ul class=\"toc-item\"><li><span><a href=\"#CAC\" data-toc-modified-id=\"CAC-1.5.1\">CAC</a></span></li><li><span><a href=\"#Retention-Rate\" data-toc-modified-id=\"Retention-Rate-1.5.2\">Retention Rate</a></span></li><li><span><a href=\"#Monetization-Models\" data-toc-modified-id=\"Monetization-Models-1.5.3\">Monetization Models</a></span></li><li><span><a href=\"#Calculate-LTV\" data-toc-modified-id=\"Calculate-LTV-1.5.4\">Calculate LTV</a></span></li><li><span><a href=\"#Let’s-try-to-optimize-CAC\" data-toc-modified-id=\"Let’s-try-to-optimize-CAC-1.5.5\">Let’s try to optimize CAC</a></span></li></ul></li><li><span><a href=\"#6.-Conclusions-and-Recommendations\" data-toc-modified-id=\"6.-Conclusions-and-Recommendations-1.6\">6. Conclusions and Recommendations</a></span></li><li><span><a href=\"#7.-Dashboard\" data-toc-modified-id=\"7.-Dashboard-1.7\">7. Dashboard</a></span></li></ul></li></ul></div>"
   ]
  },
  {
   "cell_type": "markdown",
   "metadata": {},
   "source": [
    "# Mobile game app project"
   ]
  },
  {
   "cell_type": "markdown",
   "metadata": {},
   "source": [
    "## 1. Importing and inspecting data"
   ]
  },
  {
   "cell_type": "code",
   "execution_count": 1,
   "metadata": {},
   "outputs": [],
   "source": [
    "import pandas as pd\n",
    "import numpy as np\n",
    "import matplotlib.pyplot as plt \n",
    "from pandas.plotting import register_matplotlib_converters\n",
    "register_matplotlib_converters()\n",
    "import seaborn as sns\n",
    "from scipy import stats as st"
   ]
  },
  {
   "cell_type": "code",
   "execution_count": 2,
   "metadata": {},
   "outputs": [
    {
     "name": "stdout",
     "output_type": "stream",
     "text": [
      "<class 'pandas.core.frame.DataFrame'>\n",
      "RangeIndex: 135640 entries, 0 to 135639\n",
      "Data columns (total 5 columns):\n",
      "event_datetime    135640 non-null object\n",
      "event             135640 non-null object\n",
      "building_type     127957 non-null object\n",
      "user_id           135640 non-null object\n",
      "project_type      1866 non-null object\n",
      "dtypes: object(5)\n",
      "memory usage: 5.2+ MB\n"
     ]
    }
   ],
   "source": [
    "game_actions = pd.read_csv('/datasets/game_actions.csv')\n",
    "game_actions.info()"
   ]
  },
  {
   "cell_type": "code",
   "execution_count": 3,
   "metadata": {},
   "outputs": [
    {
     "name": "stdout",
     "output_type": "stream",
     "text": [
      "<class 'pandas.core.frame.DataFrame'>\n",
      "RangeIndex: 28 entries, 0 to 27\n",
      "Data columns (total 3 columns):\n",
      "source    28 non-null object\n",
      "day       28 non-null object\n",
      "cost      28 non-null float64\n",
      "dtypes: float64(1), object(2)\n",
      "memory usage: 800.0+ bytes\n"
     ]
    }
   ],
   "source": [
    "ad_costs = pd.read_csv('/datasets/ad_costs.csv')\n",
    "ad_costs.info()"
   ]
  },
  {
   "cell_type": "code",
   "execution_count": 4,
   "metadata": {},
   "outputs": [
    {
     "name": "stdout",
     "output_type": "stream",
     "text": [
      "<class 'pandas.core.frame.DataFrame'>\n",
      "RangeIndex: 13576 entries, 0 to 13575\n",
      "Data columns (total 2 columns):\n",
      "user_id    13576 non-null object\n",
      "source     13576 non-null object\n",
      "dtypes: object(2)\n",
      "memory usage: 212.2+ KB\n"
     ]
    }
   ],
   "source": [
    "user_source = pd.read_csv('/datasets/user_source.csv')\n",
    "user_source.info()"
   ]
  },
  {
   "cell_type": "markdown",
   "metadata": {},
   "source": [
    "We have 3 datasets: `game_actions` with the types of events and buildings made by the players, `ad_costs` with information on marketing costs and `user_source` with traffic sources for every user.  "
   ]
  },
  {
   "cell_type": "markdown",
   "metadata": {},
   "source": [
    "We have not messy data but need to change types of columns and handle some missing values. "
   ]
  },
  {
   "cell_type": "code",
   "execution_count": 5,
   "metadata": {},
   "outputs": [],
   "source": [
    "#datetime type\n",
    "game_actions['event_datetime'] = pd.to_datetime(game_actions['event_datetime'], format='%Y-%m-%d %H:%M:%S')\n",
    "game_actions['event_day'] = game_actions['event_datetime'].dt.date.astype('datetime64')\n",
    "\n",
    "ad_costs['day'] = pd.to_datetime(ad_costs['day'], format='%Y-%m-%d')\n",
    "\n",
    "#missing values\n",
    "game_actions['project_type'] = game_actions['project_type'].fillna('none')"
   ]
  },
  {
   "cell_type": "markdown",
   "metadata": {},
   "source": [
    "Duplicates check."
   ]
  },
  {
   "cell_type": "code",
   "execution_count": 6,
   "metadata": {},
   "outputs": [
    {
     "data": {
      "text/plain": [
       "1"
      ]
     },
     "execution_count": 6,
     "metadata": {},
     "output_type": "execute_result"
    }
   ],
   "source": [
    "ad_costs.duplicated().sum()\n",
    "user_source.duplicated().sum() \n",
    "game_actions.duplicated().sum()"
   ]
  },
  {
   "cell_type": "code",
   "execution_count": 7,
   "metadata": {},
   "outputs": [],
   "source": [
    "game_actions = game_actions.drop_duplicates()"
   ]
  },
  {
   "cell_type": "markdown",
   "metadata": {},
   "source": [
    "And now after we preprocessed data let's look at dataframes. "
   ]
  },
  {
   "cell_type": "code",
   "execution_count": 8,
   "metadata": {},
   "outputs": [
    {
     "data": {
      "text/html": [
       "<div>\n",
       "<style scoped>\n",
       "    .dataframe tbody tr th:only-of-type {\n",
       "        vertical-align: middle;\n",
       "    }\n",
       "\n",
       "    .dataframe tbody tr th {\n",
       "        vertical-align: top;\n",
       "    }\n",
       "\n",
       "    .dataframe thead th {\n",
       "        text-align: right;\n",
       "    }\n",
       "</style>\n",
       "<table border=\"1\" class=\"dataframe\">\n",
       "  <thead>\n",
       "    <tr style=\"text-align: right;\">\n",
       "      <th></th>\n",
       "      <th>event_datetime</th>\n",
       "      <th>event</th>\n",
       "      <th>building_type</th>\n",
       "      <th>user_id</th>\n",
       "      <th>project_type</th>\n",
       "      <th>event_day</th>\n",
       "    </tr>\n",
       "  </thead>\n",
       "  <tbody>\n",
       "    <tr>\n",
       "      <td>0</td>\n",
       "      <td>2020-05-04 00:00:01</td>\n",
       "      <td>building</td>\n",
       "      <td>assembly_shop</td>\n",
       "      <td>55e92310-cb8e-4754-b622-597e124b03de</td>\n",
       "      <td>none</td>\n",
       "      <td>2020-05-04</td>\n",
       "    </tr>\n",
       "    <tr>\n",
       "      <td>1</td>\n",
       "      <td>2020-05-04 00:00:03</td>\n",
       "      <td>building</td>\n",
       "      <td>assembly_shop</td>\n",
       "      <td>c07b1c10-f477-44dc-81dc-ec82254b1347</td>\n",
       "      <td>none</td>\n",
       "      <td>2020-05-04</td>\n",
       "    </tr>\n",
       "    <tr>\n",
       "      <td>2</td>\n",
       "      <td>2020-05-04 00:00:16</td>\n",
       "      <td>building</td>\n",
       "      <td>assembly_shop</td>\n",
       "      <td>6edd42cc-e753-4ff6-a947-2107cd560710</td>\n",
       "      <td>none</td>\n",
       "      <td>2020-05-04</td>\n",
       "    </tr>\n",
       "    <tr>\n",
       "      <td>3</td>\n",
       "      <td>2020-05-04 00:00:16</td>\n",
       "      <td>building</td>\n",
       "      <td>assembly_shop</td>\n",
       "      <td>92c69003-d60a-444a-827f-8cc51bf6bf4c</td>\n",
       "      <td>none</td>\n",
       "      <td>2020-05-04</td>\n",
       "    </tr>\n",
       "    <tr>\n",
       "      <td>4</td>\n",
       "      <td>2020-05-04 00:00:35</td>\n",
       "      <td>building</td>\n",
       "      <td>assembly_shop</td>\n",
       "      <td>cdc6bb92-0ccb-4490-9866-ef142f09139d</td>\n",
       "      <td>none</td>\n",
       "      <td>2020-05-04</td>\n",
       "    </tr>\n",
       "  </tbody>\n",
       "</table>\n",
       "</div>"
      ],
      "text/plain": [
       "       event_datetime     event  building_type  \\\n",
       "0 2020-05-04 00:00:01  building  assembly_shop   \n",
       "1 2020-05-04 00:00:03  building  assembly_shop   \n",
       "2 2020-05-04 00:00:16  building  assembly_shop   \n",
       "3 2020-05-04 00:00:16  building  assembly_shop   \n",
       "4 2020-05-04 00:00:35  building  assembly_shop   \n",
       "\n",
       "                                user_id project_type  event_day  \n",
       "0  55e92310-cb8e-4754-b622-597e124b03de         none 2020-05-04  \n",
       "1  c07b1c10-f477-44dc-81dc-ec82254b1347         none 2020-05-04  \n",
       "2  6edd42cc-e753-4ff6-a947-2107cd560710         none 2020-05-04  \n",
       "3  92c69003-d60a-444a-827f-8cc51bf6bf4c         none 2020-05-04  \n",
       "4  cdc6bb92-0ccb-4490-9866-ef142f09139d         none 2020-05-04  "
      ]
     },
     "execution_count": 8,
     "metadata": {},
     "output_type": "execute_result"
    }
   ],
   "source": [
    "game_actions.head()"
   ]
  },
  {
   "cell_type": "code",
   "execution_count": 9,
   "metadata": {},
   "outputs": [
    {
     "data": {
      "text/html": [
       "<div>\n",
       "<style scoped>\n",
       "    .dataframe tbody tr th:only-of-type {\n",
       "        vertical-align: middle;\n",
       "    }\n",
       "\n",
       "    .dataframe tbody tr th {\n",
       "        vertical-align: top;\n",
       "    }\n",
       "\n",
       "    .dataframe thead th {\n",
       "        text-align: right;\n",
       "    }\n",
       "</style>\n",
       "<table border=\"1\" class=\"dataframe\">\n",
       "  <thead>\n",
       "    <tr style=\"text-align: right;\">\n",
       "      <th></th>\n",
       "      <th>user_id</th>\n",
       "      <th>source</th>\n",
       "    </tr>\n",
       "  </thead>\n",
       "  <tbody>\n",
       "    <tr>\n",
       "      <td>0</td>\n",
       "      <td>0001f83c-c6ac-4621-b7f0-8a28b283ac30</td>\n",
       "      <td>facebook_ads</td>\n",
       "    </tr>\n",
       "    <tr>\n",
       "      <td>1</td>\n",
       "      <td>00151b4f-ba38-44a8-a650-d7cf130a0105</td>\n",
       "      <td>yandex_direct</td>\n",
       "    </tr>\n",
       "    <tr>\n",
       "      <td>2</td>\n",
       "      <td>001aaea6-3d14-43f1-8ca8-7f48820f17aa</td>\n",
       "      <td>youtube_channel_reklama</td>\n",
       "    </tr>\n",
       "    <tr>\n",
       "      <td>3</td>\n",
       "      <td>001d39dc-366c-4021-9604-6a3b9ff01e25</td>\n",
       "      <td>instagram_new_adverts</td>\n",
       "    </tr>\n",
       "    <tr>\n",
       "      <td>4</td>\n",
       "      <td>002f508f-67b6-479f-814b-b05f00d4e995</td>\n",
       "      <td>facebook_ads</td>\n",
       "    </tr>\n",
       "  </tbody>\n",
       "</table>\n",
       "</div>"
      ],
      "text/plain": [
       "                                user_id                   source\n",
       "0  0001f83c-c6ac-4621-b7f0-8a28b283ac30             facebook_ads\n",
       "1  00151b4f-ba38-44a8-a650-d7cf130a0105            yandex_direct\n",
       "2  001aaea6-3d14-43f1-8ca8-7f48820f17aa  youtube_channel_reklama\n",
       "3  001d39dc-366c-4021-9604-6a3b9ff01e25    instagram_new_adverts\n",
       "4  002f508f-67b6-479f-814b-b05f00d4e995             facebook_ads"
      ]
     },
     "execution_count": 9,
     "metadata": {},
     "output_type": "execute_result"
    }
   ],
   "source": [
    "user_source.head()"
   ]
  },
  {
   "cell_type": "code",
   "execution_count": 10,
   "metadata": {},
   "outputs": [
    {
     "data": {
      "text/html": [
       "<div>\n",
       "<style scoped>\n",
       "    .dataframe tbody tr th:only-of-type {\n",
       "        vertical-align: middle;\n",
       "    }\n",
       "\n",
       "    .dataframe tbody tr th {\n",
       "        vertical-align: top;\n",
       "    }\n",
       "\n",
       "    .dataframe thead th {\n",
       "        text-align: right;\n",
       "    }\n",
       "</style>\n",
       "<table border=\"1\" class=\"dataframe\">\n",
       "  <thead>\n",
       "    <tr style=\"text-align: right;\">\n",
       "      <th></th>\n",
       "      <th>source</th>\n",
       "      <th>day</th>\n",
       "      <th>cost</th>\n",
       "    </tr>\n",
       "  </thead>\n",
       "  <tbody>\n",
       "    <tr>\n",
       "      <td>0</td>\n",
       "      <td>facebook_ads</td>\n",
       "      <td>2020-05-03</td>\n",
       "      <td>935.882786</td>\n",
       "    </tr>\n",
       "    <tr>\n",
       "      <td>1</td>\n",
       "      <td>facebook_ads</td>\n",
       "      <td>2020-05-04</td>\n",
       "      <td>548.354480</td>\n",
       "    </tr>\n",
       "    <tr>\n",
       "      <td>2</td>\n",
       "      <td>facebook_ads</td>\n",
       "      <td>2020-05-05</td>\n",
       "      <td>260.185754</td>\n",
       "    </tr>\n",
       "    <tr>\n",
       "      <td>3</td>\n",
       "      <td>facebook_ads</td>\n",
       "      <td>2020-05-06</td>\n",
       "      <td>177.982200</td>\n",
       "    </tr>\n",
       "    <tr>\n",
       "      <td>4</td>\n",
       "      <td>facebook_ads</td>\n",
       "      <td>2020-05-07</td>\n",
       "      <td>111.766796</td>\n",
       "    </tr>\n",
       "  </tbody>\n",
       "</table>\n",
       "</div>"
      ],
      "text/plain": [
       "         source        day        cost\n",
       "0  facebook_ads 2020-05-03  935.882786\n",
       "1  facebook_ads 2020-05-04  548.354480\n",
       "2  facebook_ads 2020-05-05  260.185754\n",
       "3  facebook_ads 2020-05-06  177.982200\n",
       "4  facebook_ads 2020-05-07  111.766796"
      ]
     },
     "execution_count": 10,
     "metadata": {},
     "output_type": "execute_result"
    }
   ],
   "source": [
    "ad_costs.head()"
   ]
  },
  {
   "cell_type": "markdown",
   "metadata": {},
   "source": [
    "## 2. EDA"
   ]
  },
  {
   "cell_type": "markdown",
   "metadata": {},
   "source": [
    "### What types of events do we have in game? "
   ]
  },
  {
   "cell_type": "code",
   "execution_count": 11,
   "metadata": {},
   "outputs": [
    {
     "data": {
      "text/plain": [
       "array(['building', 'finished_stage_1', 'project'], dtype=object)"
      ]
     },
     "execution_count": 11,
     "metadata": {},
     "output_type": "execute_result"
    }
   ],
   "source": [
    "game_actions['event'].unique()"
   ]
  },
  {
   "cell_type": "markdown",
   "metadata": {},
   "source": [
    "There are 3 types of events: `building`, `finished_stage_1`, `project`, and `finished_stage_1` is a target one. Let's look at how they are distributed."
   ]
  },
  {
   "cell_type": "code",
   "execution_count": 12,
   "metadata": {},
   "outputs": [
    {
     "data": {
      "image/png": "[encoded data removed]",
      "text/plain": [
       "<Figure size 432x288 with 1 Axes>"
      ]
     },
     "metadata": {
      "needs_background": "light"
     },
     "output_type": "display_data"
    }
   ],
   "source": [
    "sns.set_style()\n",
    "sns.countplot(game_actions['event'])\n",
    "plt.title('Amount of events')\n",
    "plt.ylabel('Number of players')\n",
    "plt.xlabel('Event')\n",
    "plt.show()"
   ]
  },
  {
   "cell_type": "markdown",
   "metadata": {},
   "source": [
    "There is a huge difference in amount of buildings and number of stage 1 finished. Let's look at it from unique users prospective."
   ]
  },
  {
   "cell_type": "code",
   "execution_count": 13,
   "metadata": {},
   "outputs": [
    {
     "data": {
      "text/html": [
       "<div>\n",
       "<style scoped>\n",
       "    .dataframe tbody tr th:only-of-type {\n",
       "        vertical-align: middle;\n",
       "    }\n",
       "\n",
       "    .dataframe tbody tr th {\n",
       "        vertical-align: top;\n",
       "    }\n",
       "\n",
       "    .dataframe thead th {\n",
       "        text-align: right;\n",
       "    }\n",
       "</style>\n",
       "<table border=\"1\" class=\"dataframe\">\n",
       "  <thead>\n",
       "    <tr style=\"text-align: right;\">\n",
       "      <th></th>\n",
       "      <th>count</th>\n",
       "      <th>nunique</th>\n",
       "      <th>% of total users</th>\n",
       "      <th>avg_per_user</th>\n",
       "    </tr>\n",
       "    <tr>\n",
       "      <th>event</th>\n",
       "      <th></th>\n",
       "      <th></th>\n",
       "      <th></th>\n",
       "      <th></th>\n",
       "    </tr>\n",
       "  </thead>\n",
       "  <tbody>\n",
       "    <tr>\n",
       "      <td>building</td>\n",
       "      <td>127956</td>\n",
       "      <td>13576</td>\n",
       "      <td>1.00</td>\n",
       "      <td>9.43</td>\n",
       "    </tr>\n",
       "    <tr>\n",
       "      <td>finished_stage_1</td>\n",
       "      <td>5817</td>\n",
       "      <td>5817</td>\n",
       "      <td>0.43</td>\n",
       "      <td>1.00</td>\n",
       "    </tr>\n",
       "    <tr>\n",
       "      <td>project</td>\n",
       "      <td>1866</td>\n",
       "      <td>1866</td>\n",
       "      <td>0.14</td>\n",
       "      <td>1.00</td>\n",
       "    </tr>\n",
       "  </tbody>\n",
       "</table>\n",
       "</div>"
      ],
      "text/plain": [
       "                   count  nunique  % of total users  avg_per_user\n",
       "event                                                            \n",
       "building          127956    13576              1.00          9.43\n",
       "finished_stage_1    5817     5817              0.43          1.00\n",
       "project             1866     1866              0.14          1.00"
      ]
     },
     "execution_count": 13,
     "metadata": {},
     "output_type": "execute_result"
    }
   ],
   "source": [
    "#pivoting \n",
    "events_pivot = game_actions.pivot_table(index='event', \n",
    "                                  values='user_id', \n",
    "                                  aggfunc = {'nunique', 'count'})\n",
    "\n",
    "#those who made action/event\n",
    "events_pivot['% of total users'] = (events_pivot['nunique'] / game_actions['user_id'].nunique()).round(2)\n",
    "\n",
    "#average amount of events\n",
    "events_pivot['avg_per_user'] = (events_pivot['count'] / events_pivot['nunique']).round(2)\n",
    "\n",
    "events_pivot"
   ]
  },
  {
   "cell_type": "markdown",
   "metadata": {},
   "source": [
    "We see here that more than a half of unique players (57%) did not finish 1st stage (our target action). "
   ]
  },
  {
   "cell_type": "markdown",
   "metadata": {},
   "source": [
    "### What types of buildings do we have in game? "
   ]
  },
  {
   "cell_type": "code",
   "execution_count": 14,
   "metadata": {},
   "outputs": [
    {
     "data": {
      "text/plain": [
       "array(['assembly_shop', 'spaceport', nan, 'research_center'], dtype=object)"
      ]
     },
     "execution_count": 14,
     "metadata": {},
     "output_type": "execute_result"
    }
   ],
   "source": [
    "game_actions['building_type'].unique()"
   ]
  },
  {
   "cell_type": "markdown",
   "metadata": {},
   "source": [
    "We have 3 types of buildings: `assembly_shop`, `spaceport`, `research_center`. Let's look at how they are distributed."
   ]
  },
  {
   "cell_type": "code",
   "execution_count": 15,
   "metadata": {},
   "outputs": [
    {
     "data": {
      "image/png": "[encoded data removed]",
      "text/plain": [
       "<Figure size 432x288 with 1 Axes>"
      ]
     },
     "metadata": {
      "needs_background": "light"
     },
     "output_type": "display_data"
    }
   ],
   "source": [
    "sns.set_style()\n",
    "sns.countplot(game_actions['building_type'])\n",
    "plt.title('Amount of buildings')\n",
    "plt.ylabel('Number of players')\n",
    "plt.xlabel('Building type')\n",
    "plt.show()"
   ]
  },
  {
   "cell_type": "markdown",
   "metadata": {},
   "source": [
    "Most popular are spaceports and assembly shops. Let's look at it from unique users prospective."
   ]
  },
  {
   "cell_type": "code",
   "execution_count": 16,
   "metadata": {},
   "outputs": [
    {
     "data": {
      "text/html": [
       "<div>\n",
       "<style scoped>\n",
       "    .dataframe tbody tr th:only-of-type {\n",
       "        vertical-align: middle;\n",
       "    }\n",
       "\n",
       "    .dataframe tbody tr th {\n",
       "        vertical-align: top;\n",
       "    }\n",
       "\n",
       "    .dataframe thead th {\n",
       "        text-align: right;\n",
       "    }\n",
       "</style>\n",
       "<table border=\"1\" class=\"dataframe\">\n",
       "  <thead>\n",
       "    <tr style=\"text-align: right;\">\n",
       "      <th></th>\n",
       "      <th>count</th>\n",
       "      <th>nunique</th>\n",
       "      <th>% of total users</th>\n",
       "      <th>avg_per_user</th>\n",
       "    </tr>\n",
       "    <tr>\n",
       "      <th>building_type</th>\n",
       "      <th></th>\n",
       "      <th></th>\n",
       "      <th></th>\n",
       "      <th></th>\n",
       "    </tr>\n",
       "  </thead>\n",
       "  <tbody>\n",
       "    <tr>\n",
       "      <td>assembly_shop</td>\n",
       "      <td>54494</td>\n",
       "      <td>13576</td>\n",
       "      <td>1.00</td>\n",
       "      <td>4.01</td>\n",
       "    </tr>\n",
       "    <tr>\n",
       "      <td>research_center</td>\n",
       "      <td>14137</td>\n",
       "      <td>7671</td>\n",
       "      <td>0.57</td>\n",
       "      <td>1.84</td>\n",
       "    </tr>\n",
       "    <tr>\n",
       "      <td>spaceport</td>\n",
       "      <td>59325</td>\n",
       "      <td>13231</td>\n",
       "      <td>0.97</td>\n",
       "      <td>4.48</td>\n",
       "    </tr>\n",
       "  </tbody>\n",
       "</table>\n",
       "</div>"
      ],
      "text/plain": [
       "                 count  nunique  % of total users  avg_per_user\n",
       "building_type                                                  \n",
       "assembly_shop    54494    13576              1.00          4.01\n",
       "research_center  14137     7671              0.57          1.84\n",
       "spaceport        59325    13231              0.97          4.48"
      ]
     },
     "execution_count": 16,
     "metadata": {},
     "output_type": "execute_result"
    }
   ],
   "source": [
    "#pivoting\n",
    "buildings_pivot = game_actions.pivot_table(index='building_type', \n",
    "                                  values='user_id', \n",
    "                                  aggfunc = {'nunique', 'count'})\n",
    "\n",
    "#users who made buildings\n",
    "buildings_pivot['% of total users'] = (buildings_pivot['nunique'] / game_actions['user_id'].nunique()).round(2)\n",
    "\n",
    "#average amount of buildings\n",
    "buildings_pivot['avg_per_user'] = (buildings_pivot['count'] / buildings_pivot['nunique']).round(2)\n",
    "\n",
    "buildings_pivot"
   ]
  },
  {
   "cell_type": "markdown",
   "metadata": {},
   "source": [
    "We see that all users built `assembly_shop`. It could be the simplest building to start with. 97% of users built`spaceport` and about 57% - `research_center`."
   ]
  },
  {
   "cell_type": "markdown",
   "metadata": {},
   "source": [
    "### Timing "
   ]
  },
  {
   "cell_type": "markdown",
   "metadata": {},
   "source": [
    "We can also study how events are distributed over time."
   ]
  },
  {
   "cell_type": "code",
   "execution_count": 17,
   "metadata": {},
   "outputs": [
    {
     "data": {
      "image/png": "[encoded data removed]",
      "text/plain": [
       "<Figure size 1140x360 with 1 Axes>"
      ]
     },
     "metadata": {
      "needs_background": "light"
     },
     "output_type": "display_data"
    }
   ],
   "source": [
    "events_by_days = game_actions.groupby(['event_day', 'event'])['user_id'].nunique().reset_index()\n",
    "\n",
    "sns.relplot(data=events_by_days, x='event_day', y='user_id', hue='event', kind='line', aspect=17/6)\n",
    "plt.title('Events by days')\n",
    "plt.ylabel('Number of players')\n",
    "plt.xlabel('Date of the event')\n",
    "plt.show()"
   ]
  },
  {
   "cell_type": "markdown",
   "metadata": {},
   "source": [
    "We have a peak in construction of buildings which falls sharply, and then steadily decreases. Let's check what could be a good reason for it. "
   ]
  },
  {
   "cell_type": "code",
   "execution_count": 18,
   "metadata": {},
   "outputs": [
    {
     "data": {
      "image/png": "[encoded data removed]",
      "text/plain": [
       "<Figure size 1136.88x360 with 1 Axes>"
      ]
     },
     "metadata": {
      "needs_background": "light"
     },
     "output_type": "display_data"
    }
   ],
   "source": [
    "buildings_by_days = game_actions.groupby(['event_day', 'building_type'])['user_id'].nunique().reset_index()\n",
    "\n",
    "sns.relplot(data=buildings_by_days, x='event_day', y='user_id', hue='building_type', kind='line', aspect=17/6)\n",
    "plt.title('Buildings by days')\n",
    "plt.ylabel('Number of players')\n",
    "plt.xlabel('Date of the building')\n",
    "plt.show()"
   ]
  },
  {
   "cell_type": "markdown",
   "metadata": {},
   "source": [
    "Chart shows that a lot of assembly shops were built during the first days. Then users move on to other buildings or quit the game."
   ]
  },
  {
   "cell_type": "markdown",
   "metadata": {},
   "source": [
    "### Traffic sources"
   ]
  },
  {
   "cell_type": "markdown",
   "metadata": {},
   "source": [
    "Now we can look at the traffic. We have data from the first users of the app who started playing during the period May 4 - May 10. Let's add traffic sources to it and see how many users came from which channel per day."
   ]
  },
  {
   "cell_type": "code",
   "execution_count": 19,
   "metadata": {},
   "outputs": [
    {
     "data": {
      "image/png": "[encoded data removed]",
      "text/plain": [
       "<Figure size 1187.38x360 with 1 Axes>"
      ]
     },
     "metadata": {
      "needs_background": "light"
     },
     "output_type": "display_data"
    }
   ],
   "source": [
    "#merging 2 datasets\n",
    "game_actions_and_source = game_actions.merge(user_source, how='left', on='user_id')\n",
    "\n",
    "#grouping unique users by days and sources\n",
    "users_by_sources = game_actions_and_source.groupby(['event_day', 'source'])['user_id'].nunique().reset_index()\n",
    "\n",
    "#chart\n",
    "sns.relplot(data=users_by_sources, x='event_day', y='user_id', hue='source', kind='line', aspect=17/6)\n",
    "plt.title('N of unique users by days and traffic sources')\n",
    "plt.ylabel('Number of players')\n",
    "plt.xlabel('Date')\n",
    "plt.show()"
   ]
  },
  {
   "cell_type": "markdown",
   "metadata": {},
   "source": [
    "We have peak here of newy generated users similar to the peak of the buildings constructed. That is, all new users come and build an assembly shop. Then traffic drops sharply just at the end of the promotion period and gradually decreases by the end of the studied period. The largest number of users was attracted via Yandex. Direct channel. Facebook Instagram and Youtube ads are next. Let's calculate the effectiveness of different advertising channels."
   ]
  },
  {
   "cell_type": "markdown",
   "metadata": {},
   "source": [
    "### Summary"
   ]
  },
  {
   "cell_type": "markdown",
   "metadata": {},
   "source": [
    "After EDA we came to the following conclusions: \n",
    "- users were attracted via 4 traffic channels through period May, 4 - May,10 \n",
    "- only 43% of players did target action (finished 1st stage of the mobile game), 1/3 of them made it to the next stage after finishing a project and 2/3 of them made it after fighting an enemy\n",
    "- on average there are about 9 buildings per user\n",
    "- all users built assembly shop, 97% of users - spaceport, approximately 57% - research center\n",
    "- after the end of the advertising campaign user traffic drops sharply\n",
    "- the largest number of users in was attracted through Yandex.Direct."
   ]
  },
  {
   "cell_type": "markdown",
   "metadata": {},
   "source": [
    "## 3. Game Strategies"
   ]
  },
  {
   "cell_type": "markdown",
   "metadata": {},
   "source": [
    "Let's dive into what strategies are used by users in game. For this we need to understand approximate sequence of events."
   ]
  },
  {
   "cell_type": "code",
   "execution_count": 20,
   "metadata": {},
   "outputs": [],
   "source": [
    "#dataframe grouped by first user event \n",
    "first_event = game_actions.groupby('user_id')['event_datetime'].min().reset_index()\n",
    "\n",
    "#dataframe grouped by last user event \n",
    "last_event = game_actions.groupby('user_id')['event_datetime'].max().reset_index()\n",
    "\n",
    "#merging with main dataframe\n",
    "df1 = first_event.merge(game_actions, on=['user_id', 'event_datetime'], how='left')\n",
    "df1 = df1.drop(['project_type', 'event_day', 'event', 'building_type'], axis=1)\n",
    "\n",
    "#merging with main dataframe\n",
    "df2 = last_event.merge(game_actions, on=['user_id', 'event_datetime'], how='left')\n",
    "df2.columns = ['user_id', 'last_event_date', 'event', 'building_type', 'project_type', 'event_day']\n",
    "df2 = df2.drop(['project_type', 'event_day'], axis=1)\n",
    "\n",
    "#merging 2 dataframes\n",
    "df = df1.merge(df2, on=['user_id'], how='left')\n",
    "\n",
    "#making dataframe with projects \n",
    "df_projects = (game_actions\n",
    "               .drop(['event_datetime', 'event', 'building_type', 'event_day'], axis=1)\n",
    "               .query('project_type != \"none\"')\n",
    "              )\n",
    "\n",
    "#merging 2 dataframes\n",
    "df_final = df.merge(df_projects, on=['user_id'], how='left')\n",
    "\n",
    "#filling n/a\n",
    "df_final['project_type'] = df_final['project_type'].fillna('none')"
   ]
  },
  {
   "cell_type": "markdown",
   "metadata": {},
   "source": [
    "Now let's calculate the days spent by each user on finishing stage 1 in the game. "
   ]
  },
  {
   "cell_type": "code",
   "execution_count": 21,
   "metadata": {},
   "outputs": [
    {
     "data": {
      "text/html": [
       "<div>\n",
       "<style scoped>\n",
       "    .dataframe tbody tr th:only-of-type {\n",
       "        vertical-align: middle;\n",
       "    }\n",
       "\n",
       "    .dataframe tbody tr th {\n",
       "        vertical-align: top;\n",
       "    }\n",
       "\n",
       "    .dataframe thead th {\n",
       "        text-align: right;\n",
       "    }\n",
       "</style>\n",
       "<table border=\"1\" class=\"dataframe\">\n",
       "  <thead>\n",
       "    <tr style=\"text-align: right;\">\n",
       "      <th></th>\n",
       "      <th>user_id</th>\n",
       "      <th>event_datetime</th>\n",
       "      <th>last_event_date</th>\n",
       "      <th>event</th>\n",
       "      <th>building_type</th>\n",
       "      <th>project_type</th>\n",
       "      <th>till_stage_1</th>\n",
       "      <th>time_stage_1</th>\n",
       "    </tr>\n",
       "  </thead>\n",
       "  <tbody>\n",
       "    <tr>\n",
       "      <td>0</td>\n",
       "      <td>0001f83c-c6ac-4621-b7f0-8a28b283ac30</td>\n",
       "      <td>2020-05-06 01:07:37</td>\n",
       "      <td>2020-05-20 11:26:06</td>\n",
       "      <td>building</td>\n",
       "      <td>research_center</td>\n",
       "      <td>none</td>\n",
       "      <td>14 days 10:18:29</td>\n",
       "      <td>14</td>\n",
       "    </tr>\n",
       "    <tr>\n",
       "      <td>1</td>\n",
       "      <td>00151b4f-ba38-44a8-a650-d7cf130a0105</td>\n",
       "      <td>2020-05-06 03:09:12</td>\n",
       "      <td>2020-05-18 10:46:52</td>\n",
       "      <td>building</td>\n",
       "      <td>spaceport</td>\n",
       "      <td>none</td>\n",
       "      <td>12 days 07:37:40</td>\n",
       "      <td>12</td>\n",
       "    </tr>\n",
       "    <tr>\n",
       "      <td>2</td>\n",
       "      <td>001aaea6-3d14-43f1-8ca8-7f48820f17aa</td>\n",
       "      <td>2020-05-05 18:08:52</td>\n",
       "      <td>2020-05-14 09:21:27</td>\n",
       "      <td>building</td>\n",
       "      <td>spaceport</td>\n",
       "      <td>none</td>\n",
       "      <td>8 days 15:12:35</td>\n",
       "      <td>8</td>\n",
       "    </tr>\n",
       "    <tr>\n",
       "      <td>3</td>\n",
       "      <td>001d39dc-366c-4021-9604-6a3b9ff01e25</td>\n",
       "      <td>2020-05-05 21:02:05</td>\n",
       "      <td>2020-05-12 07:40:47</td>\n",
       "      <td>finished_stage_1</td>\n",
       "      <td>NaN</td>\n",
       "      <td>none</td>\n",
       "      <td>6 days 10:38:42</td>\n",
       "      <td>6</td>\n",
       "    </tr>\n",
       "    <tr>\n",
       "      <td>4</td>\n",
       "      <td>002f508f-67b6-479f-814b-b05f00d4e995</td>\n",
       "      <td>2020-05-05 13:49:58</td>\n",
       "      <td>2020-05-22 02:46:45</td>\n",
       "      <td>building</td>\n",
       "      <td>spaceport</td>\n",
       "      <td>none</td>\n",
       "      <td>16 days 12:56:47</td>\n",
       "      <td>16</td>\n",
       "    </tr>\n",
       "  </tbody>\n",
       "</table>\n",
       "</div>"
      ],
      "text/plain": [
       "                                user_id      event_datetime  \\\n",
       "0  0001f83c-c6ac-4621-b7f0-8a28b283ac30 2020-05-06 01:07:37   \n",
       "1  00151b4f-ba38-44a8-a650-d7cf130a0105 2020-05-06 03:09:12   \n",
       "2  001aaea6-3d14-43f1-8ca8-7f48820f17aa 2020-05-05 18:08:52   \n",
       "3  001d39dc-366c-4021-9604-6a3b9ff01e25 2020-05-05 21:02:05   \n",
       "4  002f508f-67b6-479f-814b-b05f00d4e995 2020-05-05 13:49:58   \n",
       "\n",
       "      last_event_date             event    building_type project_type  \\\n",
       "0 2020-05-20 11:26:06          building  research_center         none   \n",
       "1 2020-05-18 10:46:52          building        spaceport         none   \n",
       "2 2020-05-14 09:21:27          building        spaceport         none   \n",
       "3 2020-05-12 07:40:47  finished_stage_1              NaN         none   \n",
       "4 2020-05-22 02:46:45          building        spaceport         none   \n",
       "\n",
       "      till_stage_1  time_stage_1  \n",
       "0 14 days 10:18:29            14  \n",
       "1 12 days 07:37:40            12  \n",
       "2  8 days 15:12:35             8  \n",
       "3  6 days 10:38:42             6  \n",
       "4 16 days 12:56:47            16  "
      ]
     },
     "execution_count": 21,
     "metadata": {},
     "output_type": "execute_result"
    }
   ],
   "source": [
    "#calculation of time\n",
    "df_final['till_stage_1'] = df_final['last_event_date'] - df_final['event_datetime']\n",
    "\n",
    "#transforming into days\n",
    "df_final['time_stage_1'] = df_final['till_stage_1'].dt.days\n",
    "\n",
    "df_final.head()"
   ]
  },
  {
   "cell_type": "code",
   "execution_count": 22,
   "metadata": {},
   "outputs": [
    {
     "data": {
      "text/html": [
       "<div>\n",
       "<style scoped>\n",
       "    .dataframe tbody tr th:only-of-type {\n",
       "        vertical-align: middle;\n",
       "    }\n",
       "\n",
       "    .dataframe tbody tr th {\n",
       "        vertical-align: top;\n",
       "    }\n",
       "\n",
       "    .dataframe thead th {\n",
       "        text-align: right;\n",
       "    }\n",
       "</style>\n",
       "<table border=\"1\" class=\"dataframe\">\n",
       "  <thead>\n",
       "    <tr style=\"text-align: right;\">\n",
       "      <th></th>\n",
       "      <th>till_stage_1</th>\n",
       "      <th>time_stage_1</th>\n",
       "    </tr>\n",
       "  </thead>\n",
       "  <tbody>\n",
       "    <tr>\n",
       "      <td>count</td>\n",
       "      <td>13576</td>\n",
       "      <td>13576.000000</td>\n",
       "    </tr>\n",
       "    <tr>\n",
       "      <td>mean</td>\n",
       "      <td>10 days 16:13:07.579183</td>\n",
       "      <td>10.175309</td>\n",
       "    </tr>\n",
       "    <tr>\n",
       "      <td>std</td>\n",
       "      <td>4 days 08:24:40.691989</td>\n",
       "      <td>4.356852</td>\n",
       "    </tr>\n",
       "    <tr>\n",
       "      <td>min</td>\n",
       "      <td>0 days 00:00:00</td>\n",
       "      <td>0.000000</td>\n",
       "    </tr>\n",
       "    <tr>\n",
       "      <td>25%</td>\n",
       "      <td>7 days 16:33:38.750000</td>\n",
       "      <td>7.000000</td>\n",
       "    </tr>\n",
       "    <tr>\n",
       "      <td>50%</td>\n",
       "      <td>10 days 12:30:52.500000</td>\n",
       "      <td>10.000000</td>\n",
       "    </tr>\n",
       "    <tr>\n",
       "      <td>75%</td>\n",
       "      <td>13 days 07:28:52</td>\n",
       "      <td>13.000000</td>\n",
       "    </tr>\n",
       "    <tr>\n",
       "      <td>max</td>\n",
       "      <td>30 days 21:58:53</td>\n",
       "      <td>30.000000</td>\n",
       "    </tr>\n",
       "  </tbody>\n",
       "</table>\n",
       "</div>"
      ],
      "text/plain": [
       "                  till_stage_1  time_stage_1\n",
       "count                    13576  13576.000000\n",
       "mean   10 days 16:13:07.579183     10.175309\n",
       "std     4 days 08:24:40.691989      4.356852\n",
       "min            0 days 00:00:00      0.000000\n",
       "25%     7 days 16:33:38.750000      7.000000\n",
       "50%    10 days 12:30:52.500000     10.000000\n",
       "75%           13 days 07:28:52     13.000000\n",
       "max           30 days 21:58:53     30.000000"
      ]
     },
     "execution_count": 22,
     "metadata": {},
     "output_type": "execute_result"
    }
   ],
   "source": [
    "df_final.describe()"
   ]
  },
  {
   "cell_type": "code",
   "execution_count": 23,
   "metadata": {},
   "outputs": [
    {
     "data": {
      "image/png": "[encoded data removed]",
      "text/plain": [
       "<Figure size 432x288 with 1 Axes>"
      ]
     },
     "metadata": {
      "needs_background": "light"
     },
     "output_type": "display_data"
    }
   ],
   "source": [
    "sns.distplot(df_final['time_stage_1'], bins=10)\n",
    "plt.show()"
   ]
  },
  {
   "cell_type": "markdown",
   "metadata": {},
   "source": [
    "Average time spent on the game is **10 days**. Now let's analyze queries of users depending on target action (those who didn't finish game, those who did by fighting the enemy and those who did by building the project). "
   ]
  },
  {
   "cell_type": "code",
   "execution_count": 24,
   "metadata": {},
   "outputs": [
    {
     "name": "stdout",
     "output_type": "stream",
     "text": [
      "Share of users who finished stage 1 through project 13.744843842074248\n",
      "Share of users who finished stage 1 through winning the fight with the enemy 29.10282852091927\n",
      "Share of users who quitted the game 57.152327637006486\n"
     ]
    }
   ],
   "source": [
    "#making queries\n",
    "\n",
    "finished_through_project = df_final.query('project_type != \"none\"')\n",
    "\n",
    "finished_through_win = df_final.query('project_type == \"none\" and event == \"finished_stage_1\"')\n",
    "\n",
    "not_finished = df_final.query('event != \"finished_stage_1\"')\n",
    "\n",
    "print('Share of users who finished stage 1 through project', len(finished_through_project) / len(df_final) *100)\n",
    "print('Share of users who finished stage 1 through winning the fight with the enemy', len(finished_through_win) / len(df_final) *100)\n",
    "print('Share of users who quitted the game', len(not_finished) / len(df_final) *100)"
   ]
  },
  {
   "cell_type": "markdown",
   "metadata": {},
   "source": [
    "It seems that we found two main strategies for users. Let's look if it is explained by time taken to fulfil each strategy."
   ]
  },
  {
   "cell_type": "code",
   "execution_count": 25,
   "metadata": {},
   "outputs": [
    {
     "name": "stdout",
     "output_type": "stream",
     "text": [
      "Avg days to finish through project 12.963022508038586\n",
      "Avg days to finish through winning 10.606175651733738\n",
      "Avg days before quitting 9.28547493233664\n"
     ]
    }
   ],
   "source": [
    "print('Avg days to finish through project', finished_through_project['time_stage_1'].mean())\n",
    "print('Avg days to finish through winning', finished_through_win['time_stage_1'].mean())\n",
    "print('Avg days before quitting', not_finished['time_stage_1'].mean())"
   ]
  },
  {
   "cell_type": "markdown",
   "metadata": {},
   "source": [
    "Here we see 2 main strategies:\n",
    "- Finish stage 1 through building project - it takes about 13 days on average. \n",
    "- Finish stage 1 through winning the fight against the enemy - it takes 10 days on everage. \n",
    "\n",
    "The second strategy is faster - that is why it is more popular than the other one (29% users vs. 13.7% users)."
   ]
  },
  {
   "cell_type": "markdown",
   "metadata": {},
   "source": [
    "### How does traffic source affect users' strategy choice? "
   ]
  },
  {
   "cell_type": "code",
   "execution_count": 26,
   "metadata": {},
   "outputs": [
    {
     "data": {
      "text/html": [
       "<div>\n",
       "<style scoped>\n",
       "    .dataframe tbody tr th:only-of-type {\n",
       "        vertical-align: middle;\n",
       "    }\n",
       "\n",
       "    .dataframe tbody tr th {\n",
       "        vertical-align: top;\n",
       "    }\n",
       "\n",
       "    .dataframe thead th {\n",
       "        text-align: right;\n",
       "    }\n",
       "</style>\n",
       "<table border=\"1\" class=\"dataframe\">\n",
       "  <thead>\n",
       "    <tr style=\"text-align: right;\">\n",
       "      <th></th>\n",
       "      <th>source</th>\n",
       "      <th>all_users</th>\n",
       "      <th>finished_users</th>\n",
       "      <th>% of successful</th>\n",
       "    </tr>\n",
       "  </thead>\n",
       "  <tbody>\n",
       "    <tr>\n",
       "      <td>0</td>\n",
       "      <td>facebook_ads</td>\n",
       "      <td>2726</td>\n",
       "      <td>1150</td>\n",
       "      <td>42.186354</td>\n",
       "    </tr>\n",
       "    <tr>\n",
       "      <td>1</td>\n",
       "      <td>instagram_new_adverts</td>\n",
       "      <td>3347</td>\n",
       "      <td>1466</td>\n",
       "      <td>43.800418</td>\n",
       "    </tr>\n",
       "    <tr>\n",
       "      <td>2</td>\n",
       "      <td>yandex_direct</td>\n",
       "      <td>4817</td>\n",
       "      <td>2042</td>\n",
       "      <td>42.391530</td>\n",
       "    </tr>\n",
       "    <tr>\n",
       "      <td>3</td>\n",
       "      <td>youtube_channel_reklama</td>\n",
       "      <td>2686</td>\n",
       "      <td>1159</td>\n",
       "      <td>43.149665</td>\n",
       "    </tr>\n",
       "  </tbody>\n",
       "</table>\n",
       "</div>"
      ],
      "text/plain": [
       "                    source  all_users  finished_users  % of successful\n",
       "0             facebook_ads       2726            1150        42.186354\n",
       "1    instagram_new_adverts       3347            1466        43.800418\n",
       "2            yandex_direct       4817            2042        42.391530\n",
       "3  youtube_channel_reklama       2686            1159        43.149665"
      ]
     },
     "execution_count": 26,
     "metadata": {},
     "output_type": "execute_result"
    }
   ],
   "source": [
    "#merging final dataframe with dataframe on sources\n",
    "df_final_sources = df_final.merge(user_source, on='user_id', how='left')\n",
    "\n",
    "#grouping users by sources\n",
    "finished_by_sources = (df_final_sources\n",
    "               .query('event == \"finished_stage_1\"')\n",
    "               .groupby('source')['user_id'].count()\n",
    "               .reset_index()\n",
    ")\n",
    "\n",
    "finished_by_sources.columns = ['source', 'finished_users']\n",
    "\n",
    "attracted = game_actions_and_source.groupby('source')['user_id'].nunique().reset_index()\n",
    "attracted.columns = ['source', 'all_users']\n",
    "\n",
    "results_by_source = attracted.merge(finished_by_sources, on=['source'], how='left')\n",
    "\n",
    "results_by_source['% of successful'] = results_by_source['finished_users'] / results_by_source['all_users'] *100\n",
    "\n",
    "results_by_source"
   ]
  },
  {
   "cell_type": "markdown",
   "metadata": {},
   "source": [
    "Shares of users who made target action (finished stage 1) are approximately equal for all traffic sources. We will further test this hypothesis statictically. If the quality of traffic is equal (that is the same number of users finishes stage 1) we can spend our marketing budget on cheaper traffic sources. "
   ]
  },
  {
   "cell_type": "markdown",
   "metadata": {},
   "source": [
    "### Summary"
   ]
  },
  {
   "cell_type": "markdown",
   "metadata": {},
   "source": [
    "- average time spent on the game is 10 days\n",
    "- 13.7% of players finished stage 1 of the game through project, 29.1% finished through the winning over the enemy, the remaining 57% of users did not complete the level\n",
    "- on average it takes 13 days to complete the level through the project, 10 days to complete the level through the victory\n",
    "- users who did not finish srage 1 spent 9.2 days on the game\n",
    "- users easily pass the construction of the assembly shop but most often quit the game at the construction stage of spaceport (apparently, this is the simplest and the most complex constructions)\n",
    "- 2 game strategies are mapped: (1) play slower setting up the project, (2) play faster till you defeat the enemy."
   ]
  },
  {
   "cell_type": "markdown",
   "metadata": {},
   "source": [
    "## 4. Statistical Hypothesis Testing"
   ]
  },
  {
   "cell_type": "markdown",
   "metadata": {},
   "source": [
    "### Hypothesis 1"
   ]
  },
  {
   "cell_type": "markdown",
   "metadata": {},
   "source": [
    "We found out that users spend an average of 13 days on the first strategy and 10 days on the second. Let's check that there is a statistical significance of the difference between two average values. When we test the hypothesis about the difference of two general populations means, and at the same time we believe that we have a normal distribution, we use `Student's t-test`."
   ]
  },
  {
   "cell_type": "markdown",
   "metadata": {},
   "source": [
    "- Null hypothesis: `There is no statistically significant difference between average time of level complete for  \"project\" strategy and the \"defeating the enemy\" strategy`\n",
    "- Alternative hypothesis: `There is statistically significant difference between average time of level complete for  \"project\" strategy and the \"defeating the enemy\" strategy`"
   ]
  },
  {
   "cell_type": "code",
   "execution_count": 27,
   "metadata": {},
   "outputs": [
    {
     "name": "stdout",
     "output_type": "stream",
     "text": [
      "p-value:  2.6237027268062713e-106\n",
      "Reject null hypothesis, there is statistically significant difference\n"
     ]
    }
   ],
   "source": [
    "alpha = 0.05\n",
    "\n",
    "results = st.ttest_ind(finished_through_project['time_stage_1'], \n",
    "                       finished_through_win['time_stage_1'], \n",
    "                       equal_var = False)\n",
    "\n",
    "print('p-value: ', results.pvalue)\n",
    "\n",
    "if (results.pvalue < alpha):\n",
    "    print(\"Reject null hypothesis, there is statistically significant difference\")\n",
    "else:\n",
    "    print(\"Failing to reject null hypothesis, there is no statistically significant difference\")\n"
   ]
  },
  {
   "cell_type": "markdown",
   "metadata": {},
   "source": [
    "### Hypothesis 2"
   ]
  },
  {
   "cell_type": "markdown",
   "metadata": {},
   "source": [
    "The second hypothesis will be about the difference between two proportions. Since we assume that our distribution is normal, we will use the `z-test` method to test the hypothesis. We will check the fifference between each two traffic sources:\n",
    "- Facebook & Instagram\n",
    "- Facebook & Yandex.Direct\n",
    "- Facebook & Youtube\n",
    "- Instagram & Yandex.Direct\n",
    "- Instagram & Youtube\n",
    "- Yandex.Direct & Youtube. \n",
    "\n",
    "As we have 6 pairs of proportions we will use Bonferroni correction."
   ]
  },
  {
   "cell_type": "markdown",
   "metadata": {},
   "source": [
    "- Null hypothesis: `There is no statistically significant difference between two proportions`\n",
    "- Alternative hypothesis: `There is statistically significant difference between two proportions`"
   ]
  },
  {
   "cell_type": "code",
   "execution_count": 28,
   "metadata": {},
   "outputs": [
    {
     "data": {
      "text/html": [
       "<div>\n",
       "<style scoped>\n",
       "    .dataframe tbody tr th:only-of-type {\n",
       "        vertical-align: middle;\n",
       "    }\n",
       "\n",
       "    .dataframe tbody tr th {\n",
       "        vertical-align: top;\n",
       "    }\n",
       "\n",
       "    .dataframe thead th {\n",
       "        text-align: right;\n",
       "    }\n",
       "</style>\n",
       "<table border=\"1\" class=\"dataframe\">\n",
       "  <thead>\n",
       "    <tr style=\"text-align: right;\">\n",
       "      <th></th>\n",
       "      <th>source</th>\n",
       "      <th>all_users</th>\n",
       "      <th>finished_users</th>\n",
       "      <th>% of successful</th>\n",
       "    </tr>\n",
       "  </thead>\n",
       "  <tbody>\n",
       "    <tr>\n",
       "      <td>0</td>\n",
       "      <td>facebook_ads</td>\n",
       "      <td>2726</td>\n",
       "      <td>1150</td>\n",
       "      <td>42.186354</td>\n",
       "    </tr>\n",
       "    <tr>\n",
       "      <td>1</td>\n",
       "      <td>instagram_new_adverts</td>\n",
       "      <td>3347</td>\n",
       "      <td>1466</td>\n",
       "      <td>43.800418</td>\n",
       "    </tr>\n",
       "    <tr>\n",
       "      <td>2</td>\n",
       "      <td>yandex_direct</td>\n",
       "      <td>4817</td>\n",
       "      <td>2042</td>\n",
       "      <td>42.391530</td>\n",
       "    </tr>\n",
       "    <tr>\n",
       "      <td>3</td>\n",
       "      <td>youtube_channel_reklama</td>\n",
       "      <td>2686</td>\n",
       "      <td>1159</td>\n",
       "      <td>43.149665</td>\n",
       "    </tr>\n",
       "  </tbody>\n",
       "</table>\n",
       "</div>"
      ],
      "text/plain": [
       "                    source  all_users  finished_users  % of successful\n",
       "0             facebook_ads       2726            1150        42.186354\n",
       "1    instagram_new_adverts       3347            1466        43.800418\n",
       "2            yandex_direct       4817            2042        42.391530\n",
       "3  youtube_channel_reklama       2686            1159        43.149665"
      ]
     },
     "execution_count": 28,
     "metadata": {},
     "output_type": "execute_result"
    }
   ],
   "source": [
    "results_by_source"
   ]
  },
  {
   "cell_type": "code",
   "execution_count": 29,
   "metadata": {},
   "outputs": [
    {
     "ename": "NameError",
     "evalue": "name 'mth' is not defined",
     "output_type": "error",
     "traceback": [
      "\u001b[0;31m---------------------------------------------------------------------------\u001b[0m",
      "\u001b[0;31mNameError\u001b[0m                                 Traceback (most recent call last)",
      "\u001b[0;32m<ipython-input-29-e3a7d2787462>\u001b[0m in \u001b[0;36m<module>\u001b[0;34m\u001b[0m\n\u001b[1;32m     18\u001b[0m \u001b[0;34m\u001b[0m\u001b[0m\n\u001b[1;32m     19\u001b[0m         \u001b[0;31m#calculating statistics in standard deviations of the standard normal distribution\u001b[0m\u001b[0;34m\u001b[0m\u001b[0;34m\u001b[0m\u001b[0;34m\u001b[0m\u001b[0m\n\u001b[0;32m---> 20\u001b[0;31m         \u001b[0mz_value\u001b[0m \u001b[0;34m=\u001b[0m \u001b[0mdifference\u001b[0m \u001b[0;34m/\u001b[0m \u001b[0mmth\u001b[0m\u001b[0;34m.\u001b[0m\u001b[0msqrt\u001b[0m\u001b[0;34m(\u001b[0m\u001b[0mp_combined\u001b[0m \u001b[0;34m*\u001b[0m \u001b[0;34m(\u001b[0m\u001b[0;36m1\u001b[0m \u001b[0;34m-\u001b[0m \u001b[0mp_combined\u001b[0m\u001b[0;34m)\u001b[0m \u001b[0;34m*\u001b[0m \u001b[0;34m(\u001b[0m\u001b[0;36m1\u001b[0m\u001b[0;34m/\u001b[0m\u001b[0mn_users\u001b[0m\u001b[0;34m[\u001b[0m\u001b[0;36m0\u001b[0m\u001b[0;34m]\u001b[0m \u001b[0;34m+\u001b[0m \u001b[0;36m1\u001b[0m\u001b[0;34m/\u001b[0m\u001b[0mn_users\u001b[0m\u001b[0;34m[\u001b[0m\u001b[0;36m1\u001b[0m\u001b[0;34m]\u001b[0m\u001b[0;34m)\u001b[0m\u001b[0;34m)\u001b[0m\u001b[0;34m\u001b[0m\u001b[0;34m\u001b[0m\u001b[0m\n\u001b[0m\u001b[1;32m     21\u001b[0m \u001b[0;34m\u001b[0m\u001b[0m\n\u001b[1;32m     22\u001b[0m         \u001b[0;31m#setting standard normal distribution (mean 0, standard deviation 1)\u001b[0m\u001b[0;34m\u001b[0m\u001b[0;34m\u001b[0m\u001b[0;34m\u001b[0m\u001b[0m\n",
      "\u001b[0;31mNameError\u001b[0m: name 'mth' is not defined"
     ]
    }
   ],
   "source": [
    "for i in range(0,4): \n",
    "    for j in range(i+1, 4):\n",
    "        alpha = 0.05/6 # significance level with Bonferroni correction\n",
    "\n",
    "        successes = np.array([results_by_source.loc[i, 'finished_users'],\n",
    "                              results_by_source.loc[j, 'finished_users']])\n",
    "        n_users = np.array([results_by_source.loc[i, 'all_users'],\n",
    "                            results_by_source.loc[j, 'all_users']]) \n",
    "\n",
    "        p1 = successes[0]/n_users[0] #success of group 1\n",
    "        p2 = successes[1]/n_users[1] #success of group 2\n",
    "\n",
    "        #proportion of successes in combined dataset        \n",
    "        p_combined = (successes[0] + successes[1]) / (n_users[0] + n_users[1])\n",
    "\n",
    "        #difference in proportions                    \n",
    "        difference = p1 - p2 \n",
    "\n",
    "        #calculating statistics in standard deviations of the standard normal distribution\n",
    "        z_value = difference / mth.sqrt(p_combined * (1 - p_combined) * (1/n_users[0] + 1/n_users[1]))\n",
    "\n",
    "        #setting standard normal distribution (mean 0, standard deviation 1)\n",
    "        distr = st.norm(0, 1)  \n",
    "\n",
    "        p_value = (1 - distr.cdf(abs(z_value))) * 2\n",
    "\n",
    "        print('p-value: ', p_value)\n",
    "\n",
    "        if p_value < alpha:\n",
    "            print('Reject null hypothesis, there is statistically significant difference between two proportions')\n",
    "        else:\n",
    "            print('Failing to reject null hypothesis, there is no statistically significant difference')"
   ]
  },
  {
   "cell_type": "markdown",
   "metadata": {},
   "source": [
    "### Summary"
   ]
  },
  {
   "cell_type": "markdown",
   "metadata": {},
   "source": [
    "We tested 2 statistical hypotheses:\n",
    "- There is statistically significant difference between average time of level complete for  \"project\" strategy and the \"defeating the enemy\" strategy\n",
    "- There is no statistically significant difference between proportions of users generated through different traffic sources."
   ]
  },
  {
   "cell_type": "markdown",
   "metadata": {},
   "source": [
    "## 5. Marketing Metrics"
   ]
  },
  {
   "cell_type": "markdown",
   "metadata": {},
   "source": [
    "Let's dive into marketing metrics and calculate: \n",
    "- The most efficient traffic source (CAC)\n",
    "- Retention Rate\n",
    "- When we can recoup our marketing costs? "
   ]
  },
  {
   "cell_type": "markdown",
   "metadata": {},
   "source": [
    "### CAC"
   ]
  },
  {
   "cell_type": "code",
   "execution_count": null,
   "metadata": {},
   "outputs": [],
   "source": [
    "#grouping costs by source\n",
    "costs_by_source = ad_costs.groupby('source')['cost'].sum().sort_values(ascending=False).reset_index() \n",
    "\n",
    "print('Overall marketing costs are', costs_by_source['cost'].sum().round(2))"
   ]
  },
  {
   "cell_type": "code",
   "execution_count": null,
   "metadata": {},
   "outputs": [],
   "source": [
    "#counting users by source \n",
    "users_by_source = user_source.groupby('source')['user_id'].nunique().sort_values(ascending=False).reset_index() \n",
    "\n",
    "#merging dataframes on users and costs\n",
    "total_ads = costs_by_source.merge(users_by_source, on=['source'], how='left')\n",
    "\n",
    "#calculating CAC\n",
    "total_ads['cac'] = (total_ads['cost'] / total_ads['user_id']).round(2)\n",
    "\n",
    "total_ads"
   ]
  },
  {
   "cell_type": "code",
   "execution_count": null,
   "metadata": {},
   "outputs": [],
   "source": [
    "print('CAC is', (total_ads['cost'].sum() / total_ads['user_id'].sum()).round(2))"
   ]
  },
  {
   "cell_type": "markdown",
   "metadata": {},
   "source": [
    "We found out that:\n",
    "- CAC is equal 0.56 per user\n",
    "- The most efficient traffic sources are Youtube and Yandex.Direct."
   ]
  },
  {
   "cell_type": "markdown",
   "metadata": {},
   "source": [
    "### Retention Rate"
   ]
  },
  {
   "cell_type": "markdown",
   "metadata": {},
   "source": [
    "Let's consider each day of promotion campaign (May, 4 - May, 10) as cohorts and look at RR."
   ]
  },
  {
   "cell_type": "code",
   "execution_count": null,
   "metadata": {},
   "outputs": [],
   "source": [
    "#finding first action date\n",
    "\n",
    "first_action_date = game_actions.groupby('user_id')['event_day'].min()\n",
    "first_action_date.name = 'first_action_date'\n",
    "evvents = game_actions.join(first_action_date, on='user_id')\n",
    "\n",
    "#setting cohorts\n",
    "evvents['cohort_lifetime'] = (\n",
    "    evvents['event_day'] - evvents['first_action_date']\n",
    ") \n",
    "evvents['cohort_lifetime'] = (evvents['cohort_lifetime'] / np.timedelta64(1, 'W')).round().astype(int)\n",
    "\n",
    "#pivoting\n",
    "cohorts = (\n",
    "    evvents.groupby(['first_action_date', 'cohort_lifetime'])\n",
    "    .agg({'user_id' : 'nunique'})\n",
    ").reset_index()\n",
    "\n",
    "#calculating N of users for cohorts\n",
    "initial_users_count = cohorts[cohorts['cohort_lifetime'] == 0][['first_action_date', 'user_id']]\n",
    "initial_users_count.columns = ['first_action_date', 'cohort_users']\n",
    "\n",
    "#merging with initial dataframe\n",
    "cohorts = cohorts.merge(initial_users_count, on='first_action_date')"
   ]
  },
  {
   "cell_type": "markdown",
   "metadata": {},
   "source": [
    "After identifying cohorts let's calculate Retention Rate."
   ]
  },
  {
   "cell_type": "code",
   "execution_count": null,
   "metadata": {},
   "outputs": [],
   "source": [
    "cohorts['retention'] = cohorts['user_id'] / cohorts['cohort_users']\n",
    "\n",
    "#pivoting\n",
    "retention_pivot = cohorts.pivot_table(\n",
    "    index='first_action_date',\n",
    "    columns='cohort_lifetime',\n",
    "    values='retention',\n",
    "    aggfunc='sum'\n",
    ")\n",
    "\n",
    "retention_pivot.index = retention_pivot.index.strftime(\"%D\")"
   ]
  },
  {
   "cell_type": "markdown",
   "metadata": {},
   "source": [
    "And let's look at RR using `heatmap`."
   ]
  },
  {
   "cell_type": "code",
   "execution_count": null,
   "metadata": {},
   "outputs": [],
   "source": [
    "#heatmap\n",
    "sns.set(style='white')\n",
    "plt.figure(figsize=(10, 5))\n",
    "plt.title('Retention Rate')\n",
    "sns.heatmap(retention_pivot, \n",
    "            annot=True, \n",
    "            fmt='.1%', \n",
    "            linewidths=1, \n",
    "            linecolor='grey', \n",
    "            vmax=0.10,\n",
    "            cmap=\"summer\")\n",
    "plt.show()"
   ]
  },
  {
   "cell_type": "markdown",
   "metadata": {},
   "source": [
    "The chart shows that RR decreases by 2 times only from the 2nd week of the cohorts' lifetime. In week 1 most of the users stay and continue to play (remembering that the average play time even when the level is not completed is 9 days)."
   ]
  },
  {
   "cell_type": "markdown",
   "metadata": {},
   "source": [
    "### Monetization Models"
   ]
  },
  {
   "cell_type": "markdown",
   "metadata": {},
   "source": [
    "We consider ad-based monetization model where advertiser pays for 1000 impressions (CPM). The goal is to choose optimal time to show ad so LTV>CAC.  "
   ]
  },
  {
   "cell_type": "code",
   "execution_count": null,
   "metadata": {},
   "outputs": [],
   "source": [
    "events_pivot"
   ]
  },
  {
   "cell_type": "code",
   "execution_count": null,
   "metadata": {},
   "outputs": [],
   "source": [
    "#calculating price for one impression\n",
    "cac = 0.56\n",
    "avg_build = 9.43\n",
    "price_per_build = cac / avg_build\n",
    "display(price_per_build)"
   ]
  },
  {
   "cell_type": "code",
   "execution_count": null,
   "metadata": {},
   "outputs": [],
   "source": [
    "#calculating average number of building per day\n",
    "avg_build = 9.43\n",
    "avg_days_of_game = 9.285\n",
    "\n",
    "avg_days_for_build = avg_build / avg_days_of_game\n",
    "display(avg_days_for_build)"
   ]
  },
  {
   "cell_type": "markdown",
   "metadata": {},
   "source": [
    "### Calculate LTV"
   ]
  },
  {
   "cell_type": "markdown",
   "metadata": {},
   "source": [
    "To recoup CAC we need to earn 0.059 from each building action. Avg world-wide price per 1000 impressions (CPM) is [14.71](https://vc.ru/marketing/265625-analiz-media-zakupok-v-mobilnyh-igrah-po-vsemu-miru-za-pervyy-kvartal-2021-goda-chast-2) (0.015 per impression). The player makes 1 building action per day in average, so we have 2 options: \n",
    "1. Show impression once a day (before each building action) for 0.06/impression (4x more expensive than average). Blocker: it’s impossible to sell ad with that price. \n",
    "2. Show impressions four times a day for 0.015/impression. In this case we need more target actions  to show impressions (ex: game start, building selection dialog). Risk: frequent ad may create user churn. "
   ]
  },
  {
   "cell_type": "markdown",
   "metadata": {},
   "source": [
    "### Let’s try to optimize CAC"
   ]
  },
  {
   "cell_type": "markdown",
   "metadata": {},
   "source": [
    "Advertising costs and acquisition channels effectiveness tell us that Youtube traffic is much more profitable than Facebook. Hence a non-aggressive way to recoup marketing costs is to redistribute expenses from Facebook to Youtube. "
   ]
  },
  {
   "cell_type": "markdown",
   "metadata": {},
   "source": [
    "## 6. Conclusions and Recommendations"
   ]
  },
  {
   "cell_type": "markdown",
   "metadata": {},
   "source": [
    "There are 2 scenarios for ad-based monetization model:\n",
    "1. Aggressive: show impressions 4 times a day which will likely create user churn\n",
    "2. Mild: redistribute expenses toward more effective acquisition channels (Youtube). Lower CAC will allow to recover CAC in a few months. Caveat: this is possible only starting next planning period. \n",
    "\n",
    "I also recommend consider other monetization models: \n",
    "1. In-app purchases\n",
    "2. Permanent Ad partner \n",
    "3. Premium paid accounts without ads\n",
    "4. Donates"
   ]
  },
  {
   "cell_type": "markdown",
   "metadata": {},
   "source": [
    "## 7. Dashboard"
   ]
  },
  {
   "cell_type": "markdown",
   "metadata": {},
   "source": [
    "- [TABLEAU LINK](https://public.tableau.com/views/DasboardforMobileGame/DashboardSpace)"
   ]
  }
 ],
 "metadata": {
  "ExecuteTimeLog": [
   {
    "duration": 2124,
    "start_time": "2021-07-15T20:10:45.507Z"
   },
   {
    "duration": 289,
    "start_time": "2021-07-15T20:13:38.789Z"
   },
   {
    "duration": 19,
    "start_time": "2021-07-15T20:13:57.420Z"
   },
   {
    "duration": 40,
    "start_time": "2021-07-15T20:14:18.044Z"
   },
   {
    "duration": 11,
    "start_time": "2021-07-15T20:14:39.599Z"
   },
   {
    "duration": 9,
    "start_time": "2021-07-15T20:14:55.169Z"
   },
   {
    "duration": 10,
    "start_time": "2021-07-15T20:15:19.668Z"
   },
   {
    "duration": 10,
    "start_time": "2021-07-15T20:15:32.417Z"
   },
   {
    "duration": 12,
    "start_time": "2021-07-15T20:16:11.613Z"
   },
   {
    "duration": 9,
    "start_time": "2021-07-15T20:16:28.961Z"
   },
   {
    "duration": 10,
    "start_time": "2021-07-15T20:17:09.716Z"
   },
   {
    "duration": 9,
    "start_time": "2021-07-15T20:17:16.884Z"
   },
   {
    "duration": 468,
    "start_time": "2021-07-15T20:18:25.471Z"
   },
   {
    "duration": 7,
    "start_time": "2021-07-15T20:18:51.502Z"
   },
   {
    "duration": 6,
    "start_time": "2021-07-15T20:19:17.008Z"
   },
   {
    "duration": 130,
    "start_time": "2021-07-15T20:22:12.144Z"
   },
   {
    "duration": 96,
    "start_time": "2021-07-15T20:22:28.118Z"
   },
   {
    "duration": 100,
    "start_time": "2021-07-15T20:22:42.438Z"
   },
   {
    "duration": 7,
    "start_time": "2021-07-15T20:22:48.570Z"
   },
   {
    "duration": 90,
    "start_time": "2021-07-15T20:22:52.518Z"
   },
   {
    "duration": 90,
    "start_time": "2021-07-15T20:23:00.147Z"
   },
   {
    "duration": 19,
    "start_time": "2021-07-15T20:23:11.785Z"
   },
   {
    "duration": 101,
    "start_time": "2021-07-15T20:23:20.528Z"
   },
   {
    "duration": 16,
    "start_time": "2021-07-15T20:23:43.411Z"
   },
   {
    "duration": 9,
    "start_time": "2021-07-15T20:23:46.458Z"
   },
   {
    "duration": 87,
    "start_time": "2021-07-15T20:23:50.675Z"
   },
   {
    "duration": 14,
    "start_time": "2021-07-15T20:23:54.515Z"
   },
   {
    "duration": 9,
    "start_time": "2021-07-15T20:25:26.868Z"
   },
   {
    "duration": 84,
    "start_time": "2021-07-15T20:27:04.957Z"
   },
   {
    "duration": 86,
    "start_time": "2021-07-15T20:27:09.288Z"
   },
   {
    "duration": 8,
    "start_time": "2021-07-15T20:27:19.550Z"
   },
   {
    "duration": 15,
    "start_time": "2021-07-15T20:27:28.426Z"
   },
   {
    "duration": 8,
    "start_time": "2021-07-15T20:27:37.489Z"
   },
   {
    "duration": 7,
    "start_time": "2021-07-15T20:27:47.596Z"
   },
   {
    "duration": 1165,
    "start_time": "2021-07-19T21:19:19.120Z"
   },
   {
    "duration": 1791,
    "start_time": "2021-07-19T21:19:24.188Z"
   },
   {
    "duration": 290,
    "start_time": "2021-07-19T21:19:25.981Z"
   },
   {
    "duration": 39,
    "start_time": "2021-07-19T21:19:26.273Z"
   },
   {
    "duration": 9,
    "start_time": "2021-07-19T21:19:26.315Z"
   },
   {
    "duration": 31,
    "start_time": "2021-07-19T21:19:26.326Z"
   },
   {
    "duration": 9,
    "start_time": "2021-07-19T21:19:26.360Z"
   },
   {
    "duration": 8,
    "start_time": "2021-07-19T21:19:26.372Z"
   },
   {
    "duration": 6,
    "start_time": "2021-07-19T21:19:26.384Z"
   },
   {
    "duration": 120,
    "start_time": "2021-07-19T21:19:26.392Z"
   },
   {
    "duration": 12,
    "start_time": "2021-07-19T21:19:26.514Z"
   },
   {
    "duration": 7,
    "start_time": "2021-07-19T21:19:26.529Z"
   },
   {
    "duration": 14,
    "start_time": "2021-07-19T21:19:26.556Z"
   },
   {
    "duration": 594,
    "start_time": "2021-07-19T21:19:58.851Z"
   },
   {
    "duration": 12,
    "start_time": "2021-07-19T21:20:25.310Z"
   },
   {
    "duration": 1795,
    "start_time": "2021-07-19T21:25:52.484Z"
   },
   {
    "duration": 272,
    "start_time": "2021-07-19T21:25:54.282Z"
   },
   {
    "duration": 37,
    "start_time": "2021-07-19T21:25:54.557Z"
   },
   {
    "duration": 8,
    "start_time": "2021-07-19T21:25:54.598Z"
   },
   {
    "duration": 13,
    "start_time": "2021-07-19T21:25:54.609Z"
   },
   {
    "duration": 37,
    "start_time": "2021-07-19T21:25:54.625Z"
   },
   {
    "duration": 10,
    "start_time": "2021-07-19T21:25:54.665Z"
   },
   {
    "duration": 7,
    "start_time": "2021-07-19T21:25:54.678Z"
   },
   {
    "duration": 119,
    "start_time": "2021-07-19T21:25:54.688Z"
   },
   {
    "duration": 14,
    "start_time": "2021-07-19T21:25:54.809Z"
   },
   {
    "duration": 6,
    "start_time": "2021-07-19T21:25:54.825Z"
   },
   {
    "duration": 35,
    "start_time": "2021-07-19T21:25:54.833Z"
   },
   {
    "duration": 10,
    "start_time": "2021-07-19T21:25:54.870Z"
   },
   {
    "duration": 326,
    "start_time": "2021-07-19T21:33:11.148Z"
   },
   {
    "duration": 1769,
    "start_time": "2021-07-19T21:33:23.912Z"
   },
   {
    "duration": 292,
    "start_time": "2021-07-19T21:33:33.083Z"
   },
   {
    "duration": 4,
    "start_time": "2021-07-19T21:33:36.966Z"
   },
   {
    "duration": 288,
    "start_time": "2021-07-19T21:33:36.972Z"
   },
   {
    "duration": 38,
    "start_time": "2021-07-19T21:33:37.263Z"
   },
   {
    "duration": 8,
    "start_time": "2021-07-19T21:33:37.304Z"
   },
   {
    "duration": 13,
    "start_time": "2021-07-19T21:33:37.314Z"
   },
   {
    "duration": 33,
    "start_time": "2021-07-19T21:33:37.329Z"
   },
   {
    "duration": 17,
    "start_time": "2021-07-19T21:33:37.364Z"
   },
   {
    "duration": 7,
    "start_time": "2021-07-19T21:33:37.384Z"
   },
   {
    "duration": 110,
    "start_time": "2021-07-19T21:33:37.394Z"
   },
   {
    "duration": 12,
    "start_time": "2021-07-19T21:33:37.506Z"
   },
   {
    "duration": 6,
    "start_time": "2021-07-19T21:33:37.520Z"
   },
   {
    "duration": 39,
    "start_time": "2021-07-19T21:33:37.528Z"
   },
   {
    "duration": 11,
    "start_time": "2021-07-19T21:33:37.570Z"
   },
   {
    "duration": 399,
    "start_time": "2021-07-19T21:33:37.583Z"
   },
   {
    "duration": -211,
    "start_time": "2021-07-19T21:33:38.195Z"
   },
   {
    "duration": 147,
    "start_time": "2021-07-19T21:36:34.214Z"
   },
   {
    "duration": 11,
    "start_time": "2021-07-19T21:36:49.292Z"
   },
   {
    "duration": 38,
    "start_time": "2021-07-19T21:39:54.450Z"
   },
   {
    "duration": 23,
    "start_time": "2021-07-19T21:40:08.546Z"
   },
   {
    "duration": 562,
    "start_time": "2021-07-19T21:49:04.156Z"
   },
   {
    "duration": 1085,
    "start_time": "2021-07-19T21:49:34.258Z"
   },
   {
    "duration": 537,
    "start_time": "2021-07-19T21:49:44.455Z"
   },
   {
    "duration": 430,
    "start_time": "2021-07-19T21:50:02.683Z"
   },
   {
    "duration": 406,
    "start_time": "2021-07-19T21:50:52.969Z"
   },
   {
    "duration": 418,
    "start_time": "2021-07-19T21:50:59.265Z"
   },
   {
    "duration": 425,
    "start_time": "2021-07-19T21:54:51.452Z"
   },
   {
    "duration": 641,
    "start_time": "2021-07-19T21:55:06.856Z"
   },
   {
    "duration": 490,
    "start_time": "2021-07-19T21:57:39.337Z"
   },
   {
    "duration": 490,
    "start_time": "2021-07-19T21:57:52.200Z"
   },
   {
    "duration": 557,
    "start_time": "2021-07-19T21:58:16.062Z"
   },
   {
    "duration": 573,
    "start_time": "2021-07-19T21:59:09.606Z"
   },
   {
    "duration": 11,
    "start_time": "2021-07-19T22:00:18.378Z"
   },
   {
    "duration": 13,
    "start_time": "2021-07-19T22:00:46.962Z"
   },
   {
    "duration": 561,
    "start_time": "2021-07-19T22:01:38.332Z"
   },
   {
    "duration": 381,
    "start_time": "2021-07-19T22:02:37.882Z"
   },
   {
    "duration": 551,
    "start_time": "2021-07-19T22:02:51.232Z"
   },
   {
    "duration": 387,
    "start_time": "2021-07-19T22:03:02.495Z"
   },
   {
    "duration": 384,
    "start_time": "2021-07-19T22:03:10.751Z"
   },
   {
    "duration": 361,
    "start_time": "2021-07-19T22:03:18.494Z"
   },
   {
    "duration": 370,
    "start_time": "2021-07-19T22:03:33.314Z"
   },
   {
    "duration": 567,
    "start_time": "2021-07-19T22:03:55.715Z"
   },
   {
    "duration": 586,
    "start_time": "2021-07-19T22:04:03.155Z"
   },
   {
    "duration": 420,
    "start_time": "2021-07-21T18:33:12.440Z"
   },
   {
    "duration": 2024,
    "start_time": "2021-07-21T18:33:17.079Z"
   },
   {
    "duration": 289,
    "start_time": "2021-07-21T18:33:19.107Z"
   },
   {
    "duration": 39,
    "start_time": "2021-07-21T18:33:19.399Z"
   },
   {
    "duration": 8,
    "start_time": "2021-07-21T18:33:19.441Z"
   },
   {
    "duration": 11,
    "start_time": "2021-07-21T18:33:19.451Z"
   },
   {
    "duration": 21,
    "start_time": "2021-07-21T18:33:19.464Z"
   },
   {
    "duration": 6,
    "start_time": "2021-07-21T18:33:19.488Z"
   },
   {
    "duration": 9,
    "start_time": "2021-07-21T18:33:19.496Z"
   },
   {
    "duration": 126,
    "start_time": "2021-07-21T18:33:19.509Z"
   },
   {
    "duration": 430,
    "start_time": "2021-07-21T18:33:19.638Z"
   },
   {
    "duration": -310,
    "start_time": "2021-07-21T18:33:20.381Z"
   },
   {
    "duration": -332,
    "start_time": "2021-07-21T18:33:20.404Z"
   },
   {
    "duration": -334,
    "start_time": "2021-07-21T18:33:20.407Z"
   },
   {
    "duration": -339,
    "start_time": "2021-07-21T18:33:20.413Z"
   },
   {
    "duration": -342,
    "start_time": "2021-07-21T18:33:20.418Z"
   },
   {
    "duration": -343,
    "start_time": "2021-07-21T18:33:20.420Z"
   },
   {
    "duration": -345,
    "start_time": "2021-07-21T18:33:20.424Z"
   },
   {
    "duration": -349,
    "start_time": "2021-07-21T18:33:20.429Z"
   },
   {
    "duration": 99,
    "start_time": "2021-07-21T18:33:39.030Z"
   },
   {
    "duration": 14,
    "start_time": "2021-07-21T18:34:13.278Z"
   },
   {
    "duration": 102,
    "start_time": "2021-07-21T18:34:19.514Z"
   },
   {
    "duration": 15,
    "start_time": "2021-07-21T18:45:39.658Z"
   },
   {
    "duration": 40,
    "start_time": "2021-07-21T18:47:05.462Z"
   },
   {
    "duration": 11,
    "start_time": "2021-07-21T18:47:51.922Z"
   },
   {
    "duration": 6,
    "start_time": "2021-07-21T18:47:57.335Z"
   },
   {
    "duration": 8211,
    "start_time": "2021-07-21T18:48:57.732Z"
   },
   {
    "duration": 6,
    "start_time": "2021-07-21T18:49:17.454Z"
   },
   {
    "duration": 101,
    "start_time": "2021-07-21T18:49:24.431Z"
   },
   {
    "duration": 17,
    "start_time": "2021-07-21T18:49:36.770Z"
   },
   {
    "duration": 98,
    "start_time": "2021-07-21T18:49:55.478Z"
   },
   {
    "duration": 15,
    "start_time": "2021-07-21T18:51:41.485Z"
   },
   {
    "duration": 51,
    "start_time": "2021-07-21T18:54:49.701Z"
   },
   {
    "duration": 15,
    "start_time": "2021-07-21T18:56:01.757Z"
   },
   {
    "duration": 18,
    "start_time": "2021-07-21T18:56:06.449Z"
   },
   {
    "duration": 10,
    "start_time": "2021-07-21T18:56:09.534Z"
   },
   {
    "duration": 675,
    "start_time": "2021-07-21T18:56:21.686Z"
   },
   {
    "duration": 569,
    "start_time": "2021-07-21T19:07:44.967Z"
   },
   {
    "duration": 278,
    "start_time": "2021-07-21T19:09:39.113Z"
   },
   {
    "duration": 261,
    "start_time": "2021-07-21T19:09:53.646Z"
   },
   {
    "duration": 326,
    "start_time": "2021-07-21T19:10:16.550Z"
   },
   {
    "duration": 103,
    "start_time": "2021-07-21T19:12:36.632Z"
   },
   {
    "duration": 1666,
    "start_time": "2021-07-21T19:12:41.364Z"
   },
   {
    "duration": 279,
    "start_time": "2021-07-21T19:12:49.595Z"
   },
   {
    "duration": 234,
    "start_time": "2021-07-21T19:14:33.787Z"
   },
   {
    "duration": 9,
    "start_time": "2021-07-21T19:14:47.659Z"
   },
   {
    "duration": 198,
    "start_time": "2021-07-21T19:15:41.372Z"
   },
   {
    "duration": 9,
    "start_time": "2021-07-21T19:15:44.525Z"
   },
   {
    "duration": 347,
    "start_time": "2021-07-21T19:20:36.106Z"
   },
   {
    "duration": 358,
    "start_time": "2021-07-21T19:20:45.752Z"
   },
   {
    "duration": 395,
    "start_time": "2021-07-21T19:20:53.695Z"
   },
   {
    "duration": 31,
    "start_time": "2021-07-21T19:20:59.284Z"
   },
   {
    "duration": 29,
    "start_time": "2021-07-21T19:21:24.563Z"
   },
   {
    "duration": 10,
    "start_time": "2021-07-21T19:21:35.531Z"
   },
   {
    "duration": 24,
    "start_time": "2021-07-21T19:22:10.758Z"
   },
   {
    "duration": 9,
    "start_time": "2021-07-21T19:22:12.438Z"
   },
   {
    "duration": 7,
    "start_time": "2021-07-21T19:25:25.008Z"
   },
   {
    "duration": 6,
    "start_time": "2021-07-21T19:27:31.683Z"
   },
   {
    "duration": 334,
    "start_time": "2021-07-21T19:33:43.150Z"
   },
   {
    "duration": 184,
    "start_time": "2021-07-21T19:34:01.310Z"
   },
   {
    "duration": 24,
    "start_time": "2021-07-21T19:34:05.291Z"
   },
   {
    "duration": 10,
    "start_time": "2021-07-21T19:34:08.613Z"
   },
   {
    "duration": 27,
    "start_time": "2021-07-21T19:35:07.284Z"
   },
   {
    "duration": 27,
    "start_time": "2021-07-21T19:35:19.162Z"
   },
   {
    "duration": 11,
    "start_time": "2021-07-21T19:35:26.321Z"
   },
   {
    "duration": 25,
    "start_time": "2021-07-21T19:35:57.619Z"
   },
   {
    "duration": 11,
    "start_time": "2021-07-21T19:35:59.561Z"
   },
   {
    "duration": 29,
    "start_time": "2021-07-21T19:36:32.597Z"
   },
   {
    "duration": 10,
    "start_time": "2021-07-21T19:36:34.946Z"
   },
   {
    "duration": 26,
    "start_time": "2021-07-21T19:37:49.136Z"
   },
   {
    "duration": 291,
    "start_time": "2021-07-21T19:40:22.347Z"
   },
   {
    "duration": 213,
    "start_time": "2021-07-21T19:42:04.355Z"
   },
   {
    "duration": 10,
    "start_time": "2021-07-21T19:42:13.216Z"
   },
   {
    "duration": 28,
    "start_time": "2021-07-21T19:43:50.002Z"
   },
   {
    "duration": 11,
    "start_time": "2021-07-21T19:43:52.867Z"
   },
   {
    "duration": 25,
    "start_time": "2021-07-21T19:49:34.562Z"
   },
   {
    "duration": 372,
    "start_time": "2021-07-21T19:52:22.071Z"
   },
   {
    "duration": 6,
    "start_time": "2021-07-21T19:52:34.020Z"
   },
   {
    "duration": 5,
    "start_time": "2021-07-21T19:52:44.610Z"
   },
   {
    "duration": 6,
    "start_time": "2021-07-21T19:52:46.758Z"
   },
   {
    "duration": 349,
    "start_time": "2021-07-21T19:55:41.199Z"
   },
   {
    "duration": 79,
    "start_time": "2021-07-21T19:55:47.047Z"
   },
   {
    "duration": 14,
    "start_time": "2021-07-21T19:55:49.782Z"
   },
   {
    "duration": 33,
    "start_time": "2021-07-21T19:56:02.329Z"
   },
   {
    "duration": 15,
    "start_time": "2021-07-21T19:56:04.526Z"
   },
   {
    "duration": 1095,
    "start_time": "2021-07-21T19:57:05.010Z"
   },
   {
    "duration": 1218,
    "start_time": "2021-07-21T19:57:16.108Z"
   },
   {
    "duration": 167,
    "start_time": "2021-07-21T20:00:08.034Z"
   },
   {
    "duration": 1098,
    "start_time": "2021-07-21T20:00:11.079Z"
   },
   {
    "duration": 176,
    "start_time": "2021-07-21T20:00:30.892Z"
   },
   {
    "duration": 988,
    "start_time": "2021-07-21T20:01:03.146Z"
   },
   {
    "duration": 1080,
    "start_time": "2021-07-21T20:01:13.751Z"
   },
   {
    "duration": 1163,
    "start_time": "2021-07-21T20:01:21.858Z"
   },
   {
    "duration": 1103,
    "start_time": "2021-07-21T20:01:37.614Z"
   },
   {
    "duration": 1091,
    "start_time": "2021-07-21T20:02:05.820Z"
   },
   {
    "duration": 179,
    "start_time": "2021-07-21T20:02:14.383Z"
   },
   {
    "duration": 1115,
    "start_time": "2021-07-21T20:02:18.212Z"
   },
   {
    "duration": 334,
    "start_time": "2021-07-21T20:16:54.706Z"
   },
   {
    "duration": 55,
    "start_time": "2021-07-21T20:16:58.914Z"
   },
   {
    "duration": 198,
    "start_time": "2021-07-21T20:17:01.178Z"
   },
   {
    "duration": 1166,
    "start_time": "2021-07-21T20:18:24.905Z"
   },
   {
    "duration": 16,
    "start_time": "2021-07-21T20:23:58.829Z"
   },
   {
    "duration": 164,
    "start_time": "2021-07-21T20:41:55.861Z"
   },
   {
    "duration": 882,
    "start_time": "2021-07-21T20:42:25.742Z"
   },
   {
    "duration": 810,
    "start_time": "2021-07-21T20:43:33.310Z"
   },
   {
    "duration": 1086,
    "start_time": "2021-07-21T20:43:56.637Z"
   },
   {
    "duration": 841,
    "start_time": "2021-07-21T20:44:06.846Z"
   },
   {
    "duration": 940,
    "start_time": "2021-07-21T20:44:12.845Z"
   },
   {
    "duration": 911,
    "start_time": "2021-07-21T20:44:18.354Z"
   },
   {
    "duration": 18,
    "start_time": "2021-07-21T20:57:47.700Z"
   },
   {
    "duration": 347,
    "start_time": "2021-07-21T21:05:48.768Z"
   },
   {
    "duration": 62,
    "start_time": "2021-07-21T21:05:51.838Z"
   },
   {
    "duration": 16,
    "start_time": "2021-07-21T21:05:54.267Z"
   },
   {
    "duration": 42,
    "start_time": "2021-07-21T21:09:33.253Z"
   },
   {
    "duration": 14,
    "start_time": "2021-07-21T21:09:35.969Z"
   },
   {
    "duration": 45,
    "start_time": "2021-07-21T21:10:14.362Z"
   },
   {
    "duration": 14,
    "start_time": "2021-07-21T21:10:17.046Z"
   },
   {
    "duration": 42,
    "start_time": "2021-07-21T21:11:50.314Z"
   },
   {
    "duration": 13,
    "start_time": "2021-07-21T21:11:52.693Z"
   },
   {
    "duration": 42,
    "start_time": "2021-07-21T21:12:13.277Z"
   },
   {
    "duration": 13,
    "start_time": "2021-07-21T21:12:15.766Z"
   },
   {
    "duration": 76,
    "start_time": "2021-07-21T21:23:52.775Z"
   },
   {
    "duration": 31,
    "start_time": "2021-07-21T21:23:55.534Z"
   },
   {
    "duration": 357,
    "start_time": "2021-07-21T21:26:32.320Z"
   },
   {
    "duration": 337,
    "start_time": "2021-07-21T21:27:39.860Z"
   },
   {
    "duration": 45,
    "start_time": "2021-07-21T21:27:57.639Z"
   },
   {
    "duration": 13,
    "start_time": "2021-07-21T21:27:59.779Z"
   },
   {
    "duration": 66,
    "start_time": "2021-07-21T21:28:15.801Z"
   },
   {
    "duration": 24,
    "start_time": "2021-07-21T21:28:18.352Z"
   },
   {
    "duration": 66,
    "start_time": "2021-07-21T21:34:26.902Z"
   },
   {
    "duration": 4,
    "start_time": "2021-07-21T21:34:29.396Z"
   },
   {
    "duration": 27,
    "start_time": "2021-07-21T21:34:37.932Z"
   },
   {
    "duration": 403,
    "start_time": "2021-07-21T21:35:07.420Z"
   },
   {
    "duration": 7,
    "start_time": "2021-07-21T21:35:30.998Z"
   },
   {
    "duration": 7,
    "start_time": "2021-07-21T21:35:44.058Z"
   },
   {
    "duration": 42,
    "start_time": "2021-07-21T21:37:22.064Z"
   },
   {
    "duration": 42,
    "start_time": "2021-07-21T21:37:28.274Z"
   },
   {
    "duration": 14,
    "start_time": "2021-07-21T21:37:30.513Z"
   },
   {
    "duration": 70,
    "start_time": "2021-07-21T21:37:36.438Z"
   },
   {
    "duration": 28,
    "start_time": "2021-07-21T21:37:46.550Z"
   },
   {
    "duration": 4,
    "start_time": "2021-07-21T21:38:29.587Z"
   },
   {
    "duration": 25,
    "start_time": "2021-07-21T21:38:31.780Z"
   },
   {
    "duration": 7,
    "start_time": "2021-07-21T21:38:49.608Z"
   },
   {
    "duration": 7,
    "start_time": "2021-07-21T21:39:04.132Z"
   },
   {
    "duration": 7,
    "start_time": "2021-07-21T21:39:38.964Z"
   },
   {
    "duration": 6,
    "start_time": "2021-07-21T21:40:01.440Z"
   },
   {
    "duration": 6,
    "start_time": "2021-07-21T21:41:07.616Z"
   },
   {
    "duration": 7,
    "start_time": "2021-07-21T21:41:28.648Z"
   },
   {
    "duration": 8,
    "start_time": "2021-07-21T21:49:19.626Z"
   },
   {
    "duration": 14,
    "start_time": "2021-07-21T21:49:26.659Z"
   },
   {
    "duration": 8,
    "start_time": "2021-07-21T21:50:45.088Z"
   },
   {
    "duration": 19,
    "start_time": "2021-07-21T21:50:52.351Z"
   },
   {
    "duration": 19,
    "start_time": "2021-07-21T21:52:43.223Z"
   },
   {
    "duration": 21,
    "start_time": "2021-07-21T21:52:49.283Z"
   },
   {
    "duration": 61,
    "start_time": "2021-07-21T21:56:50.154Z"
   },
   {
    "duration": 28,
    "start_time": "2021-07-21T21:56:58.872Z"
   },
   {
    "duration": 41,
    "start_time": "2021-07-21T21:57:36.502Z"
   },
   {
    "duration": 13,
    "start_time": "2021-07-21T21:57:39.412Z"
   },
   {
    "duration": 41,
    "start_time": "2021-07-21T21:57:47.563Z"
   },
   {
    "duration": 14,
    "start_time": "2021-07-21T21:57:49.927Z"
   },
   {
    "duration": 67,
    "start_time": "2021-07-21T21:58:04.898Z"
   },
   {
    "duration": 26,
    "start_time": "2021-07-21T21:58:15.850Z"
   },
   {
    "duration": 8,
    "start_time": "2021-07-21T21:58:27.949Z"
   },
   {
    "duration": 14,
    "start_time": "2021-07-21T21:58:32.537Z"
   },
   {
    "duration": 65,
    "start_time": "2021-07-21T21:58:37.433Z"
   },
   {
    "duration": 4,
    "start_time": "2021-07-21T21:58:40.032Z"
   },
   {
    "duration": 25,
    "start_time": "2021-07-21T21:58:51.075Z"
   },
   {
    "duration": 8,
    "start_time": "2021-07-21T21:59:13.863Z"
   },
   {
    "duration": 18,
    "start_time": "2021-07-21T21:59:15.993Z"
   },
   {
    "duration": 20,
    "start_time": "2021-07-21T21:59:22.987Z"
   },
   {
    "duration": 22,
    "start_time": "2021-07-21T21:59:36.485Z"
   },
   {
    "duration": 21,
    "start_time": "2021-07-21T22:01:19.331Z"
   },
   {
    "duration": 332,
    "start_time": "2021-07-21T22:02:46.423Z"
   },
   {
    "duration": 7,
    "start_time": "2021-07-21T22:03:05.768Z"
   },
   {
    "duration": 55,
    "start_time": "2021-07-21T22:03:31.287Z"
   },
   {
    "duration": 22,
    "start_time": "2021-07-21T22:03:38.766Z"
   },
   {
    "duration": 22,
    "start_time": "2021-07-21T22:04:24.523Z"
   },
   {
    "duration": 13,
    "start_time": "2021-07-21T22:04:42.530Z"
   },
   {
    "duration": 20,
    "start_time": "2021-07-21T22:06:53.226Z"
   },
   {
    "duration": 13,
    "start_time": "2021-07-21T22:06:55.206Z"
   },
   {
    "duration": 17,
    "start_time": "2021-07-21T22:07:15.438Z"
   },
   {
    "duration": 23,
    "start_time": "2021-07-21T22:07:17.924Z"
   },
   {
    "duration": 6,
    "start_time": "2021-07-21T22:08:12.799Z"
   },
   {
    "duration": 22,
    "start_time": "2021-07-21T22:08:19.900Z"
   },
   {
    "duration": 43,
    "start_time": "2021-07-21T22:09:21.361Z"
   },
   {
    "duration": 13,
    "start_time": "2021-07-21T22:09:23.785Z"
   },
   {
    "duration": 41,
    "start_time": "2021-07-21T22:10:38.029Z"
   },
   {
    "duration": 44,
    "start_time": "2021-07-21T22:11:17.936Z"
   },
   {
    "duration": 80,
    "start_time": "2021-07-21T22:12:48.662Z"
   },
   {
    "duration": 382,
    "start_time": "2021-07-21T22:13:18.188Z"
   },
   {
    "duration": 456,
    "start_time": "2021-07-21T22:13:37.454Z"
   },
   {
    "duration": 84,
    "start_time": "2021-07-21T22:13:48.185Z"
   },
   {
    "duration": 373,
    "start_time": "2021-07-21T22:14:19.338Z"
   },
   {
    "duration": 59,
    "start_time": "2021-07-21T22:14:40.941Z"
   },
   {
    "duration": 58,
    "start_time": "2021-07-21T22:14:45.322Z"
   },
   {
    "duration": 40,
    "start_time": "2021-07-21T22:14:50.285Z"
   },
   {
    "duration": 44,
    "start_time": "2021-07-21T22:14:52.809Z"
   },
   {
    "duration": 59,
    "start_time": "2021-07-21T22:14:55.344Z"
   },
   {
    "duration": 26,
    "start_time": "2021-07-21T22:15:03.315Z"
   },
   {
    "duration": 69,
    "start_time": "2021-07-21T22:15:41.813Z"
   },
   {
    "duration": 8,
    "start_time": "2021-07-21T22:15:47.248Z"
   },
   {
    "duration": 24,
    "start_time": "2021-07-21T22:15:54.977Z"
   },
   {
    "duration": 338,
    "start_time": "2021-07-21T22:16:22.090Z"
   },
   {
    "duration": 318,
    "start_time": "2021-07-21T22:16:28.713Z"
   },
   {
    "duration": 68,
    "start_time": "2021-07-21T22:16:37.145Z"
   },
   {
    "duration": 25,
    "start_time": "2021-07-21T22:16:41.614Z"
   },
   {
    "duration": 8,
    "start_time": "2021-07-21T22:16:51.141Z"
   },
   {
    "duration": 19,
    "start_time": "2021-07-21T22:16:59.625Z"
   },
   {
    "duration": 19,
    "start_time": "2021-07-21T22:17:18.877Z"
   },
   {
    "duration": 332,
    "start_time": "2021-07-21T22:17:55.249Z"
   },
   {
    "duration": 79,
    "start_time": "2021-07-21T22:18:01.030Z"
   },
   {
    "duration": 8,
    "start_time": "2021-07-21T22:18:03.012Z"
   },
   {
    "duration": 15,
    "start_time": "2021-07-21T22:18:05.666Z"
   },
   {
    "duration": 82,
    "start_time": "2021-07-21T22:19:03.795Z"
   },
   {
    "duration": 34,
    "start_time": "2021-07-21T22:19:07.699Z"
   },
   {
    "duration": 4,
    "start_time": "2021-07-21T22:19:18.689Z"
   },
   {
    "duration": 25,
    "start_time": "2021-07-21T22:19:26.553Z"
   },
   {
    "duration": 8,
    "start_time": "2021-07-21T22:20:05.473Z"
   },
   {
    "duration": 18,
    "start_time": "2021-07-21T22:20:08.079Z"
   },
   {
    "duration": 19,
    "start_time": "2021-07-21T22:20:40.651Z"
   },
   {
    "duration": 23,
    "start_time": "2021-07-21T22:20:44.872Z"
   },
   {
    "duration": 19,
    "start_time": "2021-07-21T22:21:46.871Z"
   },
   {
    "duration": 13,
    "start_time": "2021-07-21T22:21:49.643Z"
   },
   {
    "duration": 31,
    "start_time": "2021-07-21T22:24:04.506Z"
   },
   {
    "duration": 23,
    "start_time": "2021-07-21T22:24:11.649Z"
   },
   {
    "duration": 19,
    "start_time": "2021-07-21T22:24:43.154Z"
   },
   {
    "duration": 25,
    "start_time": "2021-07-21T22:28:42.448Z"
   },
   {
    "duration": 33,
    "start_time": "2021-07-21T22:30:14.680Z"
   },
   {
    "duration": 24,
    "start_time": "2021-07-21T23:27:51.566Z"
   },
   {
    "duration": 18,
    "start_time": "2021-07-21T23:29:28.534Z"
   },
   {
    "duration": 5,
    "start_time": "2021-07-21T23:30:06.815Z"
   },
   {
    "duration": 353,
    "start_time": "2021-07-21T23:31:03.610Z"
   },
   {
    "duration": 6,
    "start_time": "2021-07-21T23:31:28.123Z"
   },
   {
    "duration": 6,
    "start_time": "2021-07-21T23:33:02.958Z"
   },
   {
    "duration": 8,
    "start_time": "2021-07-21T23:33:18.134Z"
   },
   {
    "duration": 9,
    "start_time": "2021-07-21T23:35:58.404Z"
   },
   {
    "duration": 502,
    "start_time": "2021-07-21T23:41:01.099Z"
   },
   {
    "duration": 7,
    "start_time": "2021-07-21T23:46:23.741Z"
   },
   {
    "duration": 237,
    "start_time": "2021-07-21T23:47:26.098Z"
   },
   {
    "duration": 7,
    "start_time": "2021-07-21T23:50:35.978Z"
   },
   {
    "duration": 13,
    "start_time": "2021-07-21T23:57:17.167Z"
   },
   {
    "duration": 13,
    "start_time": "2021-07-21T23:57:35.423Z"
   },
   {
    "duration": 1260,
    "start_time": "2021-07-21T23:57:59.379Z"
   },
   {
    "duration": 13,
    "start_time": "2021-07-21T23:58:57.636Z"
   },
   {
    "duration": 1339,
    "start_time": "2021-07-21T23:59:26.567Z"
   },
   {
    "duration": 26,
    "start_time": "2021-07-21T23:59:54.436Z"
   },
   {
    "duration": 6,
    "start_time": "2021-07-22T00:00:42.221Z"
   },
   {
    "duration": 13,
    "start_time": "2021-07-22T00:00:44.687Z"
   },
   {
    "duration": 1241,
    "start_time": "2021-07-22T00:01:00.116Z"
   },
   {
    "duration": 5,
    "start_time": "2021-07-22T00:01:04.362Z"
   },
   {
    "duration": 12,
    "start_time": "2021-07-22T00:01:06.131Z"
   },
   {
    "duration": 1390,
    "start_time": "2021-07-22T00:01:09.829Z"
   },
   {
    "duration": 31,
    "start_time": "2021-07-22T00:01:25.840Z"
   },
   {
    "duration": 14,
    "start_time": "2021-07-22T00:03:13.142Z"
   },
   {
    "duration": 1099,
    "start_time": "2021-07-22T00:03:21.833Z"
   },
   {
    "duration": 15,
    "start_time": "2021-07-22T00:11:03.371Z"
   },
   {
    "duration": 7,
    "start_time": "2021-07-22T00:12:50.260Z"
   },
   {
    "duration": 24,
    "start_time": "2021-07-22T00:25:14.337Z"
   },
   {
    "duration": 28,
    "start_time": "2021-07-22T00:25:22.002Z"
   },
   {
    "duration": 17,
    "start_time": "2021-07-22T00:26:27.766Z"
   },
   {
    "duration": 29,
    "start_time": "2021-07-22T00:26:43.294Z"
   },
   {
    "duration": 37,
    "start_time": "2021-07-22T00:27:11.026Z"
   },
   {
    "duration": 14,
    "start_time": "2021-07-22T00:27:22.431Z"
   },
   {
    "duration": 14,
    "start_time": "2021-07-22T00:31:48.810Z"
   },
   {
    "duration": 16,
    "start_time": "2021-07-22T00:31:57.232Z"
   },
   {
    "duration": 13,
    "start_time": "2021-07-22T00:33:30.659Z"
   },
   {
    "duration": 9,
    "start_time": "2021-07-22T00:33:34.767Z"
   },
   {
    "duration": 8,
    "start_time": "2021-07-22T00:35:14.402Z"
   },
   {
    "duration": 10,
    "start_time": "2021-07-22T00:35:22.005Z"
   },
   {
    "duration": 7,
    "start_time": "2021-07-22T00:35:32.459Z"
   },
   {
    "duration": 9,
    "start_time": "2021-07-22T00:35:34.430Z"
   },
   {
    "duration": 8,
    "start_time": "2021-07-22T00:35:40.597Z"
   },
   {
    "duration": 8,
    "start_time": "2021-07-22T00:35:43.890Z"
   },
   {
    "duration": 8,
    "start_time": "2021-07-22T00:35:58.952Z"
   },
   {
    "duration": 10,
    "start_time": "2021-07-22T00:36:01.633Z"
   },
   {
    "duration": 17,
    "start_time": "2021-07-22T00:36:29.830Z"
   },
   {
    "duration": 13,
    "start_time": "2021-07-22T00:37:22.909Z"
   },
   {
    "duration": 162,
    "start_time": "2021-07-22T00:38:18.661Z"
   },
   {
    "duration": 7,
    "start_time": "2021-07-22T00:38:39.512Z"
   },
   {
    "duration": 9,
    "start_time": "2021-07-22T00:38:46.166Z"
   },
   {
    "duration": 12,
    "start_time": "2021-07-22T00:39:10.101Z"
   },
   {
    "duration": 9,
    "start_time": "2021-07-22T00:39:12.830Z"
   },
   {
    "duration": 14,
    "start_time": "2021-07-22T00:40:25.027Z"
   },
   {
    "duration": 159,
    "start_time": "2021-07-22T00:40:26.952Z"
   },
   {
    "duration": 9,
    "start_time": "2021-07-22T00:40:28.866Z"
   },
   {
    "duration": 9,
    "start_time": "2021-07-22T00:40:32.094Z"
   },
   {
    "duration": 9,
    "start_time": "2021-07-22T00:41:44.012Z"
   },
   {
    "duration": 10,
    "start_time": "2021-07-22T00:41:51.147Z"
   },
   {
    "duration": 5,
    "start_time": "2021-07-22T00:42:56.658Z"
   },
   {
    "duration": 11,
    "start_time": "2021-07-22T00:42:59.199Z"
   },
   {
    "duration": 8,
    "start_time": "2021-07-22T03:40:42.586Z"
   },
   {
    "duration": 8,
    "start_time": "2021-07-22T03:47:19.131Z"
   },
   {
    "duration": 10,
    "start_time": "2021-07-22T03:48:15.599Z"
   },
   {
    "duration": 14,
    "start_time": "2021-07-22T03:48:46.377Z"
   },
   {
    "duration": 11,
    "start_time": "2021-07-22T03:49:22.527Z"
   },
   {
    "duration": 5,
    "start_time": "2021-07-22T03:55:54.304Z"
   },
   {
    "duration": 12,
    "start_time": "2021-07-22T03:56:02.844Z"
   },
   {
    "duration": 16,
    "start_time": "2021-07-22T04:08:45.324Z"
   },
   {
    "duration": 12,
    "start_time": "2021-07-22T04:10:57.853Z"
   },
   {
    "duration": 379,
    "start_time": "2021-07-22T04:11:21.191Z"
   },
   {
    "duration": 333,
    "start_time": "2021-07-22T04:12:56.173Z"
   },
   {
    "duration": 324,
    "start_time": "2021-07-22T04:13:05.673Z"
   },
   {
    "duration": 14,
    "start_time": "2021-07-22T04:13:59.913Z"
   },
   {
    "duration": 16,
    "start_time": "2021-07-22T04:14:15.899Z"
   },
   {
    "duration": 769,
    "start_time": "2021-07-22T04:15:58.071Z"
   },
   {
    "duration": 341,
    "start_time": "2021-07-22T04:16:10.735Z"
   },
   {
    "duration": 14,
    "start_time": "2021-07-22T04:16:33.605Z"
   },
   {
    "duration": 12,
    "start_time": "2021-07-22T04:18:05.284Z"
   },
   {
    "duration": 12,
    "start_time": "2021-07-22T04:22:30.571Z"
   },
   {
    "duration": 340,
    "start_time": "2021-07-22T04:31:19.043Z"
   },
   {
    "duration": 319,
    "start_time": "2021-07-22T04:31:40.863Z"
   },
   {
    "duration": 5,
    "start_time": "2021-07-22T04:32:13.071Z"
   },
   {
    "duration": 12,
    "start_time": "2021-07-22T04:32:22.826Z"
   },
   {
    "duration": 335,
    "start_time": "2021-07-22T21:37:11.833Z"
   },
   {
    "duration": 1940,
    "start_time": "2021-07-22T21:37:16.865Z"
   },
   {
    "duration": 297,
    "start_time": "2021-07-22T21:37:18.808Z"
   },
   {
    "duration": 39,
    "start_time": "2021-07-22T21:37:19.108Z"
   },
   {
    "duration": 160,
    "start_time": "2021-07-22T21:37:19.154Z"
   },
   {
    "duration": 13,
    "start_time": "2021-07-22T21:37:19.317Z"
   },
   {
    "duration": 24,
    "start_time": "2021-07-22T21:37:19.332Z"
   },
   {
    "duration": 5,
    "start_time": "2021-07-22T21:37:19.359Z"
   },
   {
    "duration": 5,
    "start_time": "2021-07-22T21:37:19.369Z"
   },
   {
    "duration": 14,
    "start_time": "2021-07-22T21:37:19.377Z"
   },
   {
    "duration": 8,
    "start_time": "2021-07-22T21:37:19.394Z"
   },
   {
    "duration": 53,
    "start_time": "2021-07-22T21:37:19.405Z"
   },
   {
    "duration": 21,
    "start_time": "2021-07-22T21:37:19.462Z"
   },
   {
    "duration": 133,
    "start_time": "2021-07-22T21:37:19.486Z"
   },
   {
    "duration": 85,
    "start_time": "2021-07-22T21:37:19.621Z"
   },
   {
    "duration": 11,
    "start_time": "2021-07-22T21:37:19.709Z"
   },
   {
    "duration": 267,
    "start_time": "2021-07-22T21:37:19.723Z"
   },
   {
    "duration": 195,
    "start_time": "2021-07-22T21:37:19.993Z"
   },
   {
    "duration": 31,
    "start_time": "2021-07-22T21:37:20.191Z"
   },
   {
    "duration": 10,
    "start_time": "2021-07-22T21:37:20.224Z"
   },
   {
    "duration": 28,
    "start_time": "2021-07-22T21:37:20.236Z"
   },
   {
    "duration": 253,
    "start_time": "2021-07-22T21:37:20.267Z"
   },
   {
    "duration": 199,
    "start_time": "2021-07-22T21:37:20.522Z"
   },
   {
    "duration": 36,
    "start_time": "2021-07-22T21:37:20.727Z"
   },
   {
    "duration": 12,
    "start_time": "2021-07-22T21:37:20.766Z"
   },
   {
    "duration": 14,
    "start_time": "2021-07-22T21:37:20.780Z"
   },
   {
    "duration": 8,
    "start_time": "2021-07-22T21:37:20.796Z"
   },
   {
    "duration": 193,
    "start_time": "2021-07-22T21:37:20.806Z"
   },
   {
    "duration": 653,
    "start_time": "2021-07-22T21:37:21.001Z"
   },
   {
    "duration": 182,
    "start_time": "2021-07-22T21:37:21.657Z"
   },
   {
    "duration": 791,
    "start_time": "2021-07-22T21:37:21.841Z"
   },
   {
    "duration": 188,
    "start_time": "2021-07-22T21:37:22.635Z"
   },
   {
    "duration": 809,
    "start_time": "2021-07-22T21:37:22.825Z"
   },
   {
    "duration": 72,
    "start_time": "2021-07-22T21:37:23.636Z"
   },
   {
    "duration": 234,
    "start_time": "2021-07-22T21:37:23.711Z"
   },
   {
    "duration": 1013,
    "start_time": "2021-07-22T21:37:23.947Z"
   },
   {
    "duration": 43,
    "start_time": "2021-07-22T21:37:24.963Z"
   },
   {
    "duration": 66,
    "start_time": "2021-07-22T21:37:25.008Z"
   },
   {
    "duration": 79,
    "start_time": "2021-07-22T21:37:25.077Z"
   },
   {
    "duration": 7,
    "start_time": "2021-07-22T21:37:25.159Z"
   },
   {
    "duration": 67,
    "start_time": "2021-07-22T21:37:25.168Z"
   },
   {
    "duration": 4,
    "start_time": "2021-07-22T21:37:25.255Z"
   },
   {
    "duration": 11,
    "start_time": "2021-07-22T21:37:25.261Z"
   },
   {
    "duration": 19,
    "start_time": "2021-07-22T21:37:25.275Z"
   },
   {
    "duration": 71,
    "start_time": "2021-07-22T21:37:25.296Z"
   },
   {
    "duration": 25,
    "start_time": "2021-07-22T21:37:25.369Z"
   },
   {
    "duration": 26,
    "start_time": "2021-07-22T21:37:25.396Z"
   },
   {
    "duration": 47,
    "start_time": "2021-07-22T21:37:25.424Z"
   },
   {
    "duration": 5,
    "start_time": "2021-07-22T21:37:25.473Z"
   },
   {
    "duration": 9,
    "start_time": "2021-07-22T21:37:25.480Z"
   },
   {
    "duration": 9,
    "start_time": "2021-07-22T21:37:25.491Z"
   },
   {
    "duration": 270,
    "start_time": "2021-07-22T21:37:25.502Z"
   },
   {
    "duration": 15,
    "start_time": "2021-07-22T21:37:25.774Z"
   },
   {
    "duration": 18,
    "start_time": "2021-07-22T21:37:25.792Z"
   },
   {
    "duration": 49,
    "start_time": "2021-07-22T21:37:25.813Z"
   },
   {
    "duration": 17,
    "start_time": "2021-07-22T21:37:25.865Z"
   },
   {
    "duration": 181,
    "start_time": "2021-07-22T21:37:25.884Z"
   },
   {
    "duration": 113,
    "start_time": "2021-07-22T21:37:26.067Z"
   },
   {
    "duration": 13,
    "start_time": "2021-07-22T21:37:26.182Z"
   },
   {
    "duration": 35,
    "start_time": "2021-07-22T21:37:26.197Z"
   },
   {
    "duration": 12,
    "start_time": "2021-07-22T21:37:26.234Z"
   },
   {
    "duration": 22,
    "start_time": "2021-07-22T21:37:26.248Z"
   },
   {
    "duration": 25,
    "start_time": "2021-07-22T21:37:26.272Z"
   },
   {
    "duration": 14,
    "start_time": "2021-07-22T21:37:26.299Z"
   },
   {
    "duration": 28,
    "start_time": "2021-07-22T21:37:26.316Z"
   },
   {
    "duration": 9,
    "start_time": "2021-07-22T21:39:36.737Z"
   },
   {
    "duration": 10,
    "start_time": "2021-07-22T21:39:42.815Z"
   },
   {
    "duration": 21,
    "start_time": "2021-07-22T21:40:37.284Z"
   },
   {
    "duration": 11,
    "start_time": "2021-07-22T21:41:36.324Z"
   },
   {
    "duration": 9,
    "start_time": "2021-07-22T21:41:44.590Z"
   },
   {
    "duration": 405,
    "start_time": "2021-07-22T21:42:35.404Z"
   },
   {
    "duration": 316,
    "start_time": "2021-07-22T21:43:53.715Z"
   },
   {
    "duration": 10,
    "start_time": "2021-07-22T21:44:03.979Z"
   },
   {
    "duration": 11,
    "start_time": "2021-07-22T21:44:09.364Z"
   },
   {
    "duration": 6,
    "start_time": "2021-07-22T21:46:15.706Z"
   },
   {
    "duration": 12,
    "start_time": "2021-07-22T21:46:30.032Z"
   },
   {
    "duration": 5,
    "start_time": "2021-07-22T21:47:06.232Z"
   },
   {
    "duration": 11,
    "start_time": "2021-07-22T21:47:08.370Z"
   },
   {
    "duration": 88,
    "start_time": "2021-07-22T21:48:27.578Z"
   },
   {
    "duration": 6,
    "start_time": "2021-07-22T21:48:42.917Z"
   },
   {
    "duration": 6,
    "start_time": "2021-07-22T21:49:03.626Z"
   },
   {
    "duration": 11,
    "start_time": "2021-07-22T21:54:55.361Z"
   },
   {
    "duration": 12,
    "start_time": "2021-07-22T21:55:11.492Z"
   },
   {
    "duration": 6,
    "start_time": "2021-07-22T21:56:31.693Z"
   },
   {
    "duration": 6,
    "start_time": "2021-07-22T21:56:48.189Z"
   },
   {
    "duration": 10,
    "start_time": "2021-07-22T21:57:13.156Z"
   },
   {
    "duration": 6,
    "start_time": "2021-07-22T21:58:02.939Z"
   },
   {
    "duration": 5,
    "start_time": "2021-07-22T22:14:43.459Z"
   },
   {
    "duration": 6,
    "start_time": "2021-07-22T22:15:42.099Z"
   },
   {
    "duration": 7,
    "start_time": "2021-07-22T22:28:30.516Z"
   },
   {
    "duration": 87,
    "start_time": "2021-07-22T22:29:22.252Z"
   },
   {
    "duration": 100,
    "start_time": "2021-07-22T22:29:42.853Z"
   },
   {
    "duration": 7,
    "start_time": "2021-07-22T22:29:58.567Z"
   },
   {
    "duration": 7,
    "start_time": "2021-07-22T22:30:16.094Z"
   },
   {
    "duration": 5,
    "start_time": "2021-07-22T22:30:27.013Z"
   },
   {
    "duration": 6,
    "start_time": "2021-07-22T22:37:55.021Z"
   },
   {
    "duration": 15,
    "start_time": "2021-07-22T22:51:24.260Z"
   },
   {
    "duration": 305,
    "start_time": "2021-07-22T22:52:23.735Z"
   },
   {
    "duration": 296,
    "start_time": "2021-07-22T22:52:59.647Z"
   },
   {
    "duration": 42,
    "start_time": "2021-07-22T22:53:48.797Z"
   },
   {
    "duration": 11,
    "start_time": "2021-07-22T22:53:58.884Z"
   },
   {
    "duration": 318,
    "start_time": "2021-07-22T22:54:27.264Z"
   },
   {
    "duration": 42,
    "start_time": "2021-07-22T22:54:57.474Z"
   },
   {
    "duration": 40,
    "start_time": "2021-07-22T22:54:59.881Z"
   },
   {
    "duration": 25,
    "start_time": "2021-07-22T22:55:06.217Z"
   },
   {
    "duration": 113,
    "start_time": "2021-07-22T22:55:55.799Z"
   },
   {
    "duration": 16,
    "start_time": "2021-07-22T22:57:05.512Z"
   },
   {
    "duration": 27,
    "start_time": "2021-07-22T22:57:11.730Z"
   },
   {
    "duration": 25,
    "start_time": "2021-07-22T22:59:32.678Z"
   },
   {
    "duration": 12,
    "start_time": "2021-07-22T23:00:39.162Z"
   },
   {
    "duration": 29,
    "start_time": "2021-07-22T23:00:42.757Z"
   },
   {
    "duration": 189,
    "start_time": "2021-07-22T23:01:49.412Z"
   },
   {
    "duration": 16,
    "start_time": "2021-07-22T23:01:55.696Z"
   },
   {
    "duration": 9,
    "start_time": "2021-07-22T23:03:01.516Z"
   },
   {
    "duration": 14,
    "start_time": "2021-07-22T23:03:07.975Z"
   },
   {
    "duration": 12,
    "start_time": "2021-07-22T23:03:39.360Z"
   },
   {
    "duration": 170,
    "start_time": "2021-07-22T23:03:44.665Z"
   },
   {
    "duration": 8,
    "start_time": "2021-07-22T23:03:54.246Z"
   },
   {
    "duration": 9,
    "start_time": "2021-07-22T23:03:58.445Z"
   },
   {
    "duration": 10,
    "start_time": "2021-07-22T23:04:31.913Z"
   },
   {
    "duration": 166,
    "start_time": "2021-07-22T23:04:39.490Z"
   },
   {
    "duration": 10,
    "start_time": "2021-07-22T23:04:48.492Z"
   },
   {
    "duration": 77,
    "start_time": "2021-07-22T23:08:48.833Z"
   },
   {
    "duration": 6,
    "start_time": "2021-07-22T23:08:51.302Z"
   },
   {
    "duration": 11,
    "start_time": "2021-07-22T23:09:59.788Z"
   },
   {
    "duration": 174,
    "start_time": "2021-07-22T23:10:31.572Z"
   },
   {
    "duration": 15,
    "start_time": "2021-07-22T23:10:34.551Z"
   },
   {
    "duration": 9,
    "start_time": "2021-07-22T23:11:24.348Z"
   },
   {
    "duration": 14,
    "start_time": "2021-07-22T23:11:27.829Z"
   },
   {
    "duration": 13,
    "start_time": "2021-07-22T23:12:09.488Z"
   },
   {
    "duration": 50,
    "start_time": "2021-07-22T23:13:32.235Z"
   },
   {
    "duration": 161316,
    "start_time": "2021-07-22T23:14:44.643Z"
   },
   {
    "duration": 20,
    "start_time": "2021-07-22T23:17:25.963Z"
   },
   {
    "duration": 19,
    "start_time": "2021-07-22T23:17:25.986Z"
   },
   {
    "duration": 12,
    "start_time": "2021-07-22T23:18:15.882Z"
   },
   {
    "duration": 177,
    "start_time": "2021-07-22T23:18:17.979Z"
   },
   {
    "duration": 16,
    "start_time": "2021-07-22T23:18:20.460Z"
   },
   {
    "duration": 9,
    "start_time": "2021-07-22T23:18:28.696Z"
   },
   {
    "duration": 13,
    "start_time": "2021-07-22T23:18:32.033Z"
   },
   {
    "duration": 49,
    "start_time": "2021-07-22T23:18:35.435Z"
   },
   {
    "duration": 17,
    "start_time": "2021-07-22T23:18:38.338Z"
   },
   {
    "duration": 17,
    "start_time": "2021-07-22T23:18:45.605Z"
   },
   {
    "duration": 16,
    "start_time": "2021-07-22T23:18:53.387Z"
   },
   {
    "duration": 281,
    "start_time": "2021-07-22T23:27:34.047Z"
   },
   {
    "duration": 65,
    "start_time": "2021-07-22T23:27:34.723Z"
   },
   {
    "duration": 112,
    "start_time": "2021-07-22T23:27:35.031Z"
   },
   {
    "duration": 36,
    "start_time": "2021-07-22T23:27:35.272Z"
   },
   {
    "duration": 36,
    "start_time": "2021-07-22T23:27:35.367Z"
   },
   {
    "duration": 18,
    "start_time": "2021-07-22T23:27:35.469Z"
   },
   {
    "duration": 26,
    "start_time": "2021-07-22T23:27:35.542Z"
   },
   {
    "duration": 39,
    "start_time": "2021-07-22T23:27:35.632Z"
   },
   {
    "duration": 22,
    "start_time": "2021-07-22T23:27:35.728Z"
   },
   {
    "duration": 25,
    "start_time": "2021-07-22T23:27:35.801Z"
   },
   {
    "duration": 16,
    "start_time": "2021-07-22T23:27:35.890Z"
   },
   {
    "duration": 80,
    "start_time": "2021-07-22T23:27:36.025Z"
   },
   {
    "duration": 89,
    "start_time": "2021-07-22T23:27:36.292Z"
   },
   {
    "duration": 24,
    "start_time": "2021-07-22T23:27:36.499Z"
   },
   {
    "duration": 272,
    "start_time": "2021-07-22T23:27:36.861Z"
   },
   {
    "duration": 198,
    "start_time": "2021-07-22T23:27:37.610Z"
   },
   {
    "duration": 38,
    "start_time": "2021-07-22T23:27:38.038Z"
   },
   {
    "duration": 45,
    "start_time": "2021-07-22T23:27:38.118Z"
   },
   {
    "duration": 14,
    "start_time": "2021-07-22T23:27:38.202Z"
   },
   {
    "duration": 274,
    "start_time": "2021-07-22T23:27:38.560Z"
   },
   {
    "duration": 211,
    "start_time": "2021-07-22T23:27:39.339Z"
   },
   {
    "duration": 25,
    "start_time": "2021-07-22T23:27:39.800Z"
   },
   {
    "duration": 14,
    "start_time": "2021-07-22T23:27:39.888Z"
   },
   {
    "duration": 7,
    "start_time": "2021-07-22T23:27:39.973Z"
   },
   {
    "duration": 51,
    "start_time": "2021-07-22T23:27:40.008Z"
   },
   {
    "duration": 171,
    "start_time": "2021-07-22T23:27:40.280Z"
   },
   {
    "duration": 893,
    "start_time": "2021-07-22T23:27:41.524Z"
   },
   {
    "duration": 182,
    "start_time": "2021-07-22T23:27:43.534Z"
   },
   {
    "duration": 1108,
    "start_time": "2021-07-22T23:27:45.024Z"
   },
   {
    "duration": 179,
    "start_time": "2021-07-22T23:27:47.421Z"
   },
   {
    "duration": 1113,
    "start_time": "2021-07-22T23:27:48.997Z"
   },
   {
    "duration": 72,
    "start_time": "2021-07-22T23:27:51.308Z"
   },
   {
    "duration": 192,
    "start_time": "2021-07-22T23:27:51.671Z"
   },
   {
    "duration": 1196,
    "start_time": "2021-07-22T23:27:53.195Z"
   },
   {
    "duration": 42,
    "start_time": "2021-07-22T23:27:55.678Z"
   },
   {
    "duration": 59,
    "start_time": "2021-07-22T23:27:55.829Z"
   },
   {
    "duration": 81,
    "start_time": "2021-07-22T23:27:56.025Z"
   },
   {
    "duration": 306,
    "start_time": "2021-07-22T23:27:56.211Z"
   },
   {
    "duration": -550,
    "start_time": "2021-07-22T23:27:57.076Z"
   },
   {
    "duration": -570,
    "start_time": "2021-07-22T23:27:57.101Z"
   },
   {
    "duration": -578,
    "start_time": "2021-07-22T23:27:57.115Z"
   },
   {
    "duration": -597,
    "start_time": "2021-07-22T23:27:57.140Z"
   },
   {
    "duration": -601,
    "start_time": "2021-07-22T23:27:57.149Z"
   },
   {
    "duration": -608,
    "start_time": "2021-07-22T23:27:57.162Z"
   },
   {
    "duration": -619,
    "start_time": "2021-07-22T23:27:57.177Z"
   },
   {
    "duration": -623,
    "start_time": "2021-07-22T23:27:57.185Z"
   },
   {
    "duration": -628,
    "start_time": "2021-07-22T23:27:57.193Z"
   },
   {
    "duration": -632,
    "start_time": "2021-07-22T23:27:57.201Z"
   },
   {
    "duration": -637,
    "start_time": "2021-07-22T23:27:57.209Z"
   },
   {
    "duration": -640,
    "start_time": "2021-07-22T23:27:57.216Z"
   },
   {
    "duration": -643,
    "start_time": "2021-07-22T23:27:57.224Z"
   },
   {
    "duration": -645,
    "start_time": "2021-07-22T23:27:57.231Z"
   },
   {
    "duration": -660,
    "start_time": "2021-07-22T23:27:57.250Z"
   },
   {
    "duration": -601,
    "start_time": "2021-07-22T23:27:57.258Z"
   },
   {
    "duration": -602,
    "start_time": "2021-07-22T23:27:57.264Z"
   },
   {
    "duration": -605,
    "start_time": "2021-07-22T23:27:57.271Z"
   },
   {
    "duration": -607,
    "start_time": "2021-07-22T23:27:57.278Z"
   },
   {
    "duration": -609,
    "start_time": "2021-07-22T23:27:57.284Z"
   },
   {
    "duration": -611,
    "start_time": "2021-07-22T23:27:57.290Z"
   },
   {
    "duration": -612,
    "start_time": "2021-07-22T23:27:57.296Z"
   },
   {
    "duration": -616,
    "start_time": "2021-07-22T23:27:57.305Z"
   },
   {
    "duration": -557,
    "start_time": "2021-07-22T23:27:57.312Z"
   },
   {
    "duration": -559,
    "start_time": "2021-07-22T23:27:57.319Z"
   },
   {
    "duration": -561,
    "start_time": "2021-07-22T23:27:57.325Z"
   },
   {
    "duration": -565,
    "start_time": "2021-07-22T23:27:57.332Z"
   },
   {
    "duration": -567,
    "start_time": "2021-07-22T23:27:57.338Z"
   },
   {
    "duration": -570,
    "start_time": "2021-07-22T23:27:57.344Z"
   },
   {
    "duration": -571,
    "start_time": "2021-07-22T23:27:57.349Z"
   },
   {
    "duration": -574,
    "start_time": "2021-07-22T23:27:57.356Z"
   },
   {
    "duration": -576,
    "start_time": "2021-07-22T23:27:57.361Z"
   },
   {
    "duration": -578,
    "start_time": "2021-07-22T23:27:57.367Z"
   },
   {
    "duration": -517,
    "start_time": "2021-07-22T23:27:57.376Z"
   },
   {
    "duration": -518,
    "start_time": "2021-07-22T23:27:57.381Z"
   },
   {
    "duration": -520,
    "start_time": "2021-07-22T23:27:57.387Z"
   },
   {
    "duration": -523,
    "start_time": "2021-07-22T23:27:57.394Z"
   },
   {
    "duration": -525,
    "start_time": "2021-07-22T23:27:57.400Z"
   },
   {
    "duration": -528,
    "start_time": "2021-07-22T23:27:57.407Z"
   },
   {
    "duration": -531,
    "start_time": "2021-07-22T23:27:57.414Z"
   },
   {
    "duration": -534,
    "start_time": "2021-07-22T23:27:57.422Z"
   },
   {
    "duration": -473,
    "start_time": "2021-07-22T23:27:57.429Z"
   },
   {
    "duration": -475,
    "start_time": "2021-07-22T23:27:57.436Z"
   },
   {
    "duration": -477,
    "start_time": "2021-07-22T23:27:57.443Z"
   },
   {
    "duration": -479,
    "start_time": "2021-07-22T23:27:57.449Z"
   },
   {
    "duration": -480,
    "start_time": "2021-07-22T23:27:57.455Z"
   },
   {
    "duration": -480,
    "start_time": "2021-07-22T23:27:57.460Z"
   },
   {
    "duration": -489,
    "start_time": "2021-07-22T23:27:57.474Z"
   },
   {
    "duration": 6,
    "start_time": "2021-07-22T23:28:09.270Z"
   },
   {
    "duration": 16,
    "start_time": "2021-07-22T23:28:44.565Z"
   },
   {
    "duration": 43,
    "start_time": "2021-07-22T23:29:56.518Z"
   },
   {
    "duration": 45,
    "start_time": "2021-07-22T23:29:59.954Z"
   },
   {
    "duration": 71,
    "start_time": "2021-07-22T23:30:04.864Z"
   },
   {
    "duration": 27,
    "start_time": "2021-07-22T23:30:10.695Z"
   },
   {
    "duration": 8,
    "start_time": "2021-07-22T23:30:17.397Z"
   },
   {
    "duration": 283,
    "start_time": "2021-07-22T23:30:36.532Z"
   },
   {
    "duration": -692,
    "start_time": "2021-07-22T23:30:37.512Z"
   },
   {
    "duration": -697,
    "start_time": "2021-07-22T23:30:37.518Z"
   },
   {
    "duration": -701,
    "start_time": "2021-07-22T23:30:37.524Z"
   },
   {
    "duration": -713,
    "start_time": "2021-07-22T23:30:37.538Z"
   },
   {
    "duration": -720,
    "start_time": "2021-07-22T23:30:37.546Z"
   },
   {
    "duration": -723,
    "start_time": "2021-07-22T23:30:37.551Z"
   },
   {
    "duration": -727,
    "start_time": "2021-07-22T23:30:37.557Z"
   },
   {
    "duration": -732,
    "start_time": "2021-07-22T23:30:37.563Z"
   },
   {
    "duration": -738,
    "start_time": "2021-07-22T23:30:37.570Z"
   },
   {
    "duration": -741,
    "start_time": "2021-07-22T23:30:37.575Z"
   },
   {
    "duration": -746,
    "start_time": "2021-07-22T23:30:37.581Z"
   },
   {
    "duration": -750,
    "start_time": "2021-07-22T23:30:37.586Z"
   },
   {
    "duration": -756,
    "start_time": "2021-07-22T23:30:37.593Z"
   },
   {
    "duration": -761,
    "start_time": "2021-07-22T23:30:37.600Z"
   },
   {
    "duration": -766,
    "start_time": "2021-07-22T23:30:37.606Z"
   },
   {
    "duration": -768,
    "start_time": "2021-07-22T23:30:37.610Z"
   },
   {
    "duration": -773,
    "start_time": "2021-07-22T23:30:37.616Z"
   },
   {
    "duration": -777,
    "start_time": "2021-07-22T23:30:37.621Z"
   },
   {
    "duration": -781,
    "start_time": "2021-07-22T23:30:37.627Z"
   },
   {
    "duration": -785,
    "start_time": "2021-07-22T23:30:37.632Z"
   },
   {
    "duration": -1559,
    "start_time": "2021-07-22T23:30:38.407Z"
   },
   {
    "duration": -1592,
    "start_time": "2021-07-22T23:30:38.441Z"
   },
   {
    "duration": -1598,
    "start_time": "2021-07-22T23:30:38.449Z"
   },
   {
    "duration": -1605,
    "start_time": "2021-07-22T23:30:38.457Z"
   },
   {
    "duration": -1612,
    "start_time": "2021-07-22T23:30:38.465Z"
   },
   {
    "duration": -1618,
    "start_time": "2021-07-22T23:30:38.473Z"
   },
   {
    "duration": -1659,
    "start_time": "2021-07-22T23:30:38.515Z"
   },
   {
    "duration": -1667,
    "start_time": "2021-07-22T23:30:38.524Z"
   },
   {
    "duration": -1673,
    "start_time": "2021-07-22T23:30:38.532Z"
   },
   {
    "duration": -1680,
    "start_time": "2021-07-22T23:30:38.540Z"
   },
   {
    "duration": -1687,
    "start_time": "2021-07-22T23:30:38.548Z"
   },
   {
    "duration": -1693,
    "start_time": "2021-07-22T23:30:38.555Z"
   },
   {
    "duration": -1729,
    "start_time": "2021-07-22T23:30:38.593Z"
   },
   {
    "duration": -1736,
    "start_time": "2021-07-22T23:30:38.601Z"
   },
   {
    "duration": -1742,
    "start_time": "2021-07-22T23:30:38.609Z"
   },
   {
    "duration": -1748,
    "start_time": "2021-07-22T23:30:38.616Z"
   },
   {
    "duration": -1756,
    "start_time": "2021-07-22T23:30:38.625Z"
   },
   {
    "duration": -1762,
    "start_time": "2021-07-22T23:30:38.633Z"
   },
   {
    "duration": -1793,
    "start_time": "2021-07-22T23:30:38.665Z"
   },
   {
    "duration": -1800,
    "start_time": "2021-07-22T23:30:38.673Z"
   },
   {
    "duration": -1807,
    "start_time": "2021-07-22T23:30:38.681Z"
   },
   {
    "duration": -1811,
    "start_time": "2021-07-22T23:30:38.687Z"
   },
   {
    "duration": -1821,
    "start_time": "2021-07-22T23:30:38.698Z"
   },
   {
    "duration": -1828,
    "start_time": "2021-07-22T23:30:38.706Z"
   },
   {
    "duration": -1863,
    "start_time": "2021-07-22T23:30:38.742Z"
   },
   {
    "duration": -1871,
    "start_time": "2021-07-22T23:30:38.752Z"
   },
   {
    "duration": -1879,
    "start_time": "2021-07-22T23:30:38.761Z"
   },
   {
    "duration": 18,
    "start_time": "2021-07-22T23:31:00.120Z"
   },
   {
    "duration": 70,
    "start_time": "2021-07-22T23:31:11.061Z"
   },
   {
    "duration": 3,
    "start_time": "2021-07-22T23:31:11.134Z"
   },
   {
    "duration": 8,
    "start_time": "2021-07-22T23:31:11.155Z"
   },
   {
    "duration": 26,
    "start_time": "2021-07-22T23:31:11.166Z"
   },
   {
    "duration": 78,
    "start_time": "2021-07-22T23:31:11.194Z"
   },
   {
    "duration": 25,
    "start_time": "2021-07-22T23:31:11.275Z"
   },
   {
    "duration": 68,
    "start_time": "2021-07-22T23:31:11.302Z"
   },
   {
    "duration": 26,
    "start_time": "2021-07-22T23:31:11.373Z"
   },
   {
    "duration": 6,
    "start_time": "2021-07-22T23:31:11.402Z"
   },
   {
    "duration": 45,
    "start_time": "2021-07-22T23:31:11.411Z"
   },
   {
    "duration": 8,
    "start_time": "2021-07-22T23:31:11.459Z"
   },
   {
    "duration": 271,
    "start_time": "2021-07-22T23:31:11.470Z"
   },
   {
    "duration": 21,
    "start_time": "2021-07-22T23:31:11.744Z"
   },
   {
    "duration": 10,
    "start_time": "2021-07-22T23:31:11.767Z"
   },
   {
    "duration": 36,
    "start_time": "2021-07-22T23:31:11.780Z"
   },
   {
    "duration": 43,
    "start_time": "2021-07-22T23:31:11.819Z"
   },
   {
    "duration": 179,
    "start_time": "2021-07-22T23:31:11.865Z"
   },
   {
    "duration": 11,
    "start_time": "2021-07-22T23:31:12.046Z"
   },
   {
    "duration": 7,
    "start_time": "2021-07-22T23:31:12.059Z"
   },
   {
    "duration": 12,
    "start_time": "2021-07-22T23:31:12.069Z"
   },
   {
    "duration": 10,
    "start_time": "2021-07-22T23:31:12.084Z"
   },
   {
    "duration": 58,
    "start_time": "2021-07-22T23:31:12.096Z"
   },
   {
    "duration": 10,
    "start_time": "2021-07-22T23:31:12.160Z"
   },
   {
    "duration": 13,
    "start_time": "2021-07-22T23:31:12.173Z"
   },
   {
    "duration": 17,
    "start_time": "2021-07-22T23:31:12.188Z"
   },
   {
    "duration": 48,
    "start_time": "2021-07-22T23:31:12.208Z"
   },
   {
    "duration": 15,
    "start_time": "2021-07-22T23:31:12.260Z"
   },
   {
    "duration": 9,
    "start_time": "2021-07-22T23:31:12.278Z"
   },
   {
    "duration": 13,
    "start_time": "2021-07-22T23:31:12.290Z"
   },
   {
    "duration": 57,
    "start_time": "2021-07-22T23:31:12.306Z"
   },
   {
    "duration": 11,
    "start_time": "2021-07-22T23:31:12.366Z"
   },
   {
    "duration": 8,
    "start_time": "2021-07-22T23:31:12.380Z"
   },
   {
    "duration": 69,
    "start_time": "2021-07-22T23:31:12.391Z"
   },
   {
    "duration": 14,
    "start_time": "2021-07-22T23:31:12.464Z"
   },
   {
    "duration": 10,
    "start_time": "2021-07-22T23:31:12.482Z"
   },
   {
    "duration": 6,
    "start_time": "2021-07-22T23:31:12.495Z"
   },
   {
    "duration": 128,
    "start_time": "2021-07-22T23:31:12.503Z"
   },
   {
    "duration": 22,
    "start_time": "2021-07-22T23:31:12.634Z"
   },
   {
    "duration": 16,
    "start_time": "2021-07-22T23:31:12.658Z"
   },
   {
    "duration": 201,
    "start_time": "2021-07-22T23:31:12.677Z"
   },
   {
    "duration": 14,
    "start_time": "2021-07-22T23:31:12.880Z"
   },
   {
    "duration": 9,
    "start_time": "2021-07-22T23:31:12.897Z"
   },
   {
    "duration": 46,
    "start_time": "2021-07-22T23:31:12.908Z"
   },
   {
    "duration": 136,
    "start_time": "2021-07-22T23:31:12.957Z"
   },
   {
    "duration": 16,
    "start_time": "2021-07-22T23:31:13.096Z"
   },
   {
    "duration": 42,
    "start_time": "2021-07-22T23:31:13.114Z"
   },
   {
    "duration": 135319,
    "start_time": "2021-07-22T23:31:13.159Z"
   },
   {
    "duration": -1188,
    "start_time": "2021-07-22T23:33:29.674Z"
   },
   {
    "duration": -1193,
    "start_time": "2021-07-22T23:33:29.681Z"
   },
   {
    "duration": -1201,
    "start_time": "2021-07-22T23:33:29.690Z"
   },
   {
    "duration": -1207,
    "start_time": "2021-07-22T23:33:29.698Z"
   },
   {
    "duration": 73,
    "start_time": "2021-07-22T23:33:38.803Z"
   },
   {
    "duration": 20,
    "start_time": "2021-07-22T23:33:41.159Z"
   },
   {
    "duration": 11,
    "start_time": "2021-07-22T23:33:44.643Z"
   },
   {
    "duration": 171,
    "start_time": "2021-07-22T23:33:48.229Z"
   },
   {
    "duration": 10,
    "start_time": "2021-07-22T23:33:50.899Z"
   },
   {
    "duration": 9,
    "start_time": "2021-07-22T23:34:03.621Z"
   },
   {
    "duration": 7,
    "start_time": "2021-07-22T23:34:08.155Z"
   },
   {
    "duration": 8,
    "start_time": "2021-07-22T23:34:10.865Z"
   },
   {
    "duration": 28,
    "start_time": "2021-07-22T23:34:14.515Z"
   },
   {
    "duration": 14,
    "start_time": "2021-07-22T23:34:18.807Z"
   },
   {
    "duration": 12,
    "start_time": "2021-07-22T23:34:35.561Z"
   },
   {
    "duration": 73,
    "start_time": "2021-07-22T23:34:58.150Z"
   },
   {
    "duration": 18,
    "start_time": "2021-07-22T23:35:00.919Z"
   },
   {
    "duration": 13,
    "start_time": "2021-07-22T23:35:04.031Z"
   },
   {
    "duration": 163,
    "start_time": "2021-07-22T23:35:06.997Z"
   },
   {
    "duration": 11,
    "start_time": "2021-07-22T23:35:12.700Z"
   },
   {
    "duration": 9,
    "start_time": "2021-07-22T23:35:22.184Z"
   },
   {
    "duration": 9,
    "start_time": "2021-07-22T23:35:24.993Z"
   },
   {
    "duration": 26,
    "start_time": "2021-07-22T23:35:28.131Z"
   },
   {
    "duration": 11,
    "start_time": "2021-07-22T23:35:34.727Z"
   },
   {
    "duration": 12,
    "start_time": "2021-07-22T23:35:41.944Z"
   },
   {
    "duration": 24,
    "start_time": "2021-07-22T23:36:11.248Z"
   },
   {
    "duration": 12,
    "start_time": "2021-07-22T23:36:13.536Z"
   },
   {
    "duration": 11,
    "start_time": "2021-07-22T23:36:19.103Z"
   },
   {
    "duration": 75,
    "start_time": "2021-07-22T23:37:57.332Z"
   },
   {
    "duration": 25,
    "start_time": "2021-07-22T23:38:04.169Z"
   },
   {
    "duration": 14,
    "start_time": "2021-07-22T23:38:44.991Z"
   },
   {
    "duration": 25,
    "start_time": "2021-07-22T23:38:47.214Z"
   },
   {
    "duration": 11,
    "start_time": "2021-07-22T23:39:36.087Z"
   },
   {
    "duration": 27,
    "start_time": "2021-07-22T23:39:40.899Z"
   },
   {
    "duration": 171,
    "start_time": "2021-07-22T23:40:11.615Z"
   },
   {
    "duration": 10,
    "start_time": "2021-07-22T23:40:14.408Z"
   },
   {
    "duration": 11,
    "start_time": "2021-07-22T23:40:43.020Z"
   },
   {
    "duration": 291,
    "start_time": "2021-07-22T23:40:46.730Z"
   },
   {
    "duration": 7,
    "start_time": "2021-07-22T23:41:00.490Z"
   },
   {
    "duration": 8,
    "start_time": "2021-07-22T23:41:07.741Z"
   },
   {
    "duration": 25,
    "start_time": "2021-07-22T23:41:17.091Z"
   },
   {
    "duration": 12,
    "start_time": "2021-07-22T23:41:20.648Z"
   },
   {
    "duration": 12,
    "start_time": "2021-07-22T23:41:30.799Z"
   },
   {
    "duration": 71,
    "start_time": "2021-07-22T23:42:46.544Z"
   },
   {
    "duration": 73,
    "start_time": "2021-07-22T23:42:58.708Z"
   },
   {
    "duration": 24,
    "start_time": "2021-07-22T23:43:03.402Z"
   },
   {
    "duration": 6,
    "start_time": "2021-07-22T23:45:01.895Z"
   },
   {
    "duration": 24,
    "start_time": "2021-07-22T23:45:05.062Z"
   },
   {
    "duration": 10,
    "start_time": "2021-07-22T23:45:49.334Z"
   },
   {
    "duration": 175,
    "start_time": "2021-07-22T23:46:01.675Z"
   },
   {
    "duration": 16,
    "start_time": "2021-07-22T23:46:04.839Z"
   },
   {
    "duration": 10,
    "start_time": "2021-07-22T23:46:31.469Z"
   },
   {
    "duration": 170,
    "start_time": "2021-07-22T23:46:34.104Z"
   },
   {
    "duration": 15,
    "start_time": "2021-07-22T23:46:36.173Z"
   },
   {
    "duration": 8,
    "start_time": "2021-07-22T23:47:04.970Z"
   },
   {
    "duration": 14,
    "start_time": "2021-07-22T23:47:11.570Z"
   },
   {
    "duration": 49,
    "start_time": "2021-07-22T23:47:20.258Z"
   },
   {
    "duration": 18,
    "start_time": "2021-07-22T23:47:22.946Z"
   },
   {
    "duration": 18,
    "start_time": "2021-07-22T23:47:31.835Z"
   },
   {
    "duration": 70,
    "start_time": "2021-07-22T23:53:52.728Z"
   },
   {
    "duration": 25,
    "start_time": "2021-07-22T23:53:55.771Z"
   },
   {
    "duration": 7,
    "start_time": "2021-07-22T23:57:23.124Z"
   },
   {
    "duration": 27,
    "start_time": "2021-07-22T23:57:26.912Z"
   },
   {
    "duration": 7,
    "start_time": "2021-07-22T23:57:51.629Z"
   },
   {
    "duration": 25,
    "start_time": "2021-07-22T23:57:56.971Z"
   },
   {
    "duration": 6,
    "start_time": "2021-07-22T23:58:23.079Z"
   },
   {
    "duration": 1106,
    "start_time": "2021-07-23T00:14:00.903Z"
   },
   {
    "duration": 18130,
    "start_time": "2021-07-23T00:21:43.970Z"
   },
   {
    "duration": 29,
    "start_time": "2021-07-23T00:22:48.830Z"
   },
   {
    "duration": 178,
    "start_time": "2021-07-23T00:23:00.586Z"
   },
   {
    "duration": 11,
    "start_time": "2021-07-23T00:23:03.321Z"
   },
   {
    "duration": 10,
    "start_time": "2021-07-23T00:23:26.068Z"
   },
   {
    "duration": 2168,
    "start_time": "2021-07-23T00:24:21.281Z"
   },
   {
    "duration": 9,
    "start_time": "2021-07-23T00:24:30.510Z"
   },
   {
    "duration": 6,
    "start_time": "2021-07-23T00:24:33.816Z"
   },
   {
    "duration": 6,
    "start_time": "2021-07-23T00:24:37.779Z"
   },
   {
    "duration": 27,
    "start_time": "2021-07-23T00:24:40.487Z"
   },
   {
    "duration": 72,
    "start_time": "2021-07-23T00:30:54.968Z"
   },
   {
    "duration": 25,
    "start_time": "2021-07-23T00:31:00.134Z"
   },
   {
    "duration": 8,
    "start_time": "2021-07-23T00:31:22.241Z"
   },
   {
    "duration": 7,
    "start_time": "2021-07-23T00:31:30.172Z"
   },
   {
    "duration": 6,
    "start_time": "2021-07-23T00:31:33.599Z"
   },
   {
    "duration": 26,
    "start_time": "2021-07-23T00:31:37.819Z"
   },
   {
    "duration": 170,
    "start_time": "2021-07-23T00:32:34.684Z"
   },
   {
    "duration": 13,
    "start_time": "2021-07-23T00:32:37.646Z"
   },
   {
    "duration": 8,
    "start_time": "2021-07-23T00:33:03.802Z"
   },
   {
    "duration": 9,
    "start_time": "2021-07-23T00:33:10.605Z"
   },
   {
    "duration": 27,
    "start_time": "2021-07-23T00:33:17.431Z"
   },
   {
    "duration": 16,
    "start_time": "2021-07-23T00:33:21.889Z"
   },
   {
    "duration": 14,
    "start_time": "2021-07-23T00:33:43.592Z"
   },
   {
    "duration": 901,
    "start_time": "2021-07-23T00:33:53.940Z"
   },
   {
    "duration": 28,
    "start_time": "2021-07-23T00:34:53.865Z"
   },
   {
    "duration": 833,
    "start_time": "2021-07-23T00:35:06.084Z"
   },
   {
    "duration": 26,
    "start_time": "2021-07-23T00:35:29.131Z"
   },
   {
    "duration": 781,
    "start_time": "2021-07-23T00:35:32.565Z"
   },
   {
    "duration": 26,
    "start_time": "2021-07-23T00:36:08.068Z"
   },
   {
    "duration": 837,
    "start_time": "2021-07-23T00:36:10.899Z"
   },
   {
    "duration": 692,
    "start_time": "2021-07-23T00:38:00.658Z"
   },
   {
    "duration": 644,
    "start_time": "2021-07-23T00:38:19.222Z"
   },
   {
    "duration": 1888,
    "start_time": "2021-07-23T00:45:57.206Z"
   },
   {
    "duration": 290,
    "start_time": "2021-07-23T00:45:59.096Z"
   },
   {
    "duration": 57,
    "start_time": "2021-07-23T00:45:59.389Z"
   },
   {
    "duration": 218,
    "start_time": "2021-07-23T00:45:59.453Z"
   },
   {
    "duration": 18,
    "start_time": "2021-07-23T00:45:59.674Z"
   },
   {
    "duration": 30,
    "start_time": "2021-07-23T00:45:59.695Z"
   },
   {
    "duration": 26,
    "start_time": "2021-07-23T00:45:59.728Z"
   },
   {
    "duration": 7,
    "start_time": "2021-07-23T00:45:59.760Z"
   },
   {
    "duration": 18,
    "start_time": "2021-07-23T00:45:59.771Z"
   },
   {
    "duration": 22,
    "start_time": "2021-07-23T00:45:59.791Z"
   },
   {
    "duration": 13,
    "start_time": "2021-07-23T00:45:59.816Z"
   },
   {
    "duration": 18,
    "start_time": "2021-07-23T00:45:59.856Z"
   },
   {
    "duration": 99,
    "start_time": "2021-07-23T00:45:59.877Z"
   },
   {
    "duration": 100,
    "start_time": "2021-07-23T00:45:59.978Z"
   },
   {
    "duration": 12,
    "start_time": "2021-07-23T00:46:00.080Z"
   },
   {
    "duration": 266,
    "start_time": "2021-07-23T00:46:00.094Z"
   },
   {
    "duration": 204,
    "start_time": "2021-07-23T00:46:00.362Z"
   },
   {
    "duration": 34,
    "start_time": "2021-07-23T00:46:00.569Z"
   },
   {
    "duration": 10,
    "start_time": "2021-07-23T00:46:00.606Z"
   },
   {
    "duration": 35,
    "start_time": "2021-07-23T00:46:00.619Z"
   },
   {
    "duration": 270,
    "start_time": "2021-07-23T00:46:00.657Z"
   },
   {
    "duration": 207,
    "start_time": "2021-07-23T00:46:00.930Z"
   },
   {
    "duration": 33,
    "start_time": "2021-07-23T00:46:01.145Z"
   },
   {
    "duration": 12,
    "start_time": "2021-07-23T00:46:01.184Z"
   },
   {
    "duration": 17,
    "start_time": "2021-07-23T00:46:01.199Z"
   },
   {
    "duration": 38,
    "start_time": "2021-07-23T00:46:01.218Z"
   },
   {
    "duration": 182,
    "start_time": "2021-07-23T00:46:01.259Z"
   },
   {
    "duration": 665,
    "start_time": "2021-07-23T00:46:01.444Z"
   },
   {
    "duration": 184,
    "start_time": "2021-07-23T00:46:02.111Z"
   },
   {
    "duration": 810,
    "start_time": "2021-07-23T00:46:02.297Z"
   },
   {
    "duration": 188,
    "start_time": "2021-07-23T00:46:03.109Z"
   },
   {
    "duration": 827,
    "start_time": "2021-07-23T00:46:03.299Z"
   },
   {
    "duration": 66,
    "start_time": "2021-07-23T00:46:04.128Z"
   },
   {
    "duration": 299,
    "start_time": "2021-07-23T00:46:04.196Z"
   },
   {
    "duration": 922,
    "start_time": "2021-07-23T00:46:04.498Z"
   },
   {
    "duration": 62,
    "start_time": "2021-07-23T00:46:05.423Z"
   },
   {
    "duration": 41,
    "start_time": "2021-07-23T00:46:05.487Z"
   },
   {
    "duration": 85,
    "start_time": "2021-07-23T00:46:05.530Z"
   },
   {
    "duration": 24,
    "start_time": "2021-07-23T00:46:05.617Z"
   },
   {
    "duration": 18,
    "start_time": "2021-07-23T00:46:05.643Z"
   },
   {
    "duration": 69,
    "start_time": "2021-07-23T00:46:05.663Z"
   },
   {
    "duration": 19,
    "start_time": "2021-07-23T00:46:05.735Z"
   },
   {
    "duration": 15,
    "start_time": "2021-07-23T00:46:05.757Z"
   },
   {
    "duration": 25,
    "start_time": "2021-07-23T00:46:05.774Z"
   },
   {
    "duration": 52,
    "start_time": "2021-07-23T00:46:05.802Z"
   },
   {
    "duration": 23,
    "start_time": "2021-07-23T00:46:05.857Z"
   },
   {
    "duration": 26,
    "start_time": "2021-07-23T00:46:05.882Z"
   },
   {
    "duration": 47,
    "start_time": "2021-07-23T00:46:05.910Z"
   },
   {
    "duration": 5,
    "start_time": "2021-07-23T00:46:05.960Z"
   },
   {
    "duration": 7,
    "start_time": "2021-07-23T00:46:05.967Z"
   },
   {
    "duration": 9,
    "start_time": "2021-07-23T00:46:05.976Z"
   },
   {
    "duration": 259,
    "start_time": "2021-07-23T00:46:05.987Z"
   },
   {
    "duration": 20,
    "start_time": "2021-07-23T00:46:06.248Z"
   },
   {
    "duration": 7,
    "start_time": "2021-07-23T00:46:06.270Z"
   },
   {
    "duration": 21,
    "start_time": "2021-07-23T00:46:06.280Z"
   },
   {
    "duration": 50,
    "start_time": "2021-07-23T00:46:06.304Z"
   },
   {
    "duration": 176,
    "start_time": "2021-07-23T00:46:06.357Z"
   },
   {
    "duration": 109,
    "start_time": "2021-07-23T00:46:06.535Z"
   },
   {
    "duration": 10,
    "start_time": "2021-07-23T00:46:06.654Z"
   },
   {
    "duration": 18,
    "start_time": "2021-07-23T00:46:06.666Z"
   },
   {
    "duration": 15,
    "start_time": "2021-07-23T00:46:06.686Z"
   },
   {
    "duration": 9,
    "start_time": "2021-07-23T00:46:06.703Z"
   },
   {
    "duration": 14,
    "start_time": "2021-07-23T00:46:06.715Z"
   },
   {
    "duration": 11,
    "start_time": "2021-07-23T00:46:06.754Z"
   },
   {
    "duration": 14,
    "start_time": "2021-07-23T00:46:06.768Z"
   },
   {
    "duration": 14,
    "start_time": "2021-07-23T00:46:06.785Z"
   },
   {
    "duration": 13,
    "start_time": "2021-07-23T00:46:06.802Z"
   },
   {
    "duration": 32,
    "start_time": "2021-07-23T00:46:06.822Z"
   },
   {
    "duration": 12,
    "start_time": "2021-07-23T00:46:06.857Z"
   },
   {
    "duration": 14,
    "start_time": "2021-07-23T00:46:06.872Z"
   },
   {
    "duration": 12,
    "start_time": "2021-07-23T00:46:06.888Z"
   },
   {
    "duration": 7,
    "start_time": "2021-07-23T00:46:06.902Z"
   },
   {
    "duration": 14,
    "start_time": "2021-07-23T00:46:06.911Z"
   },
   {
    "duration": 11,
    "start_time": "2021-07-23T00:46:06.955Z"
   },
   {
    "duration": 8,
    "start_time": "2021-07-23T00:46:06.968Z"
   },
   {
    "duration": 6,
    "start_time": "2021-07-23T00:46:06.979Z"
   },
   {
    "duration": 108,
    "start_time": "2021-07-23T00:46:06.988Z"
   },
   {
    "duration": 8,
    "start_time": "2021-07-23T00:46:07.098Z"
   },
   {
    "duration": 7,
    "start_time": "2021-07-23T00:46:07.109Z"
   },
   {
    "duration": 8,
    "start_time": "2021-07-23T00:46:07.118Z"
   },
   {
    "duration": 175,
    "start_time": "2021-07-23T00:46:07.153Z"
   },
   {
    "duration": 8,
    "start_time": "2021-07-23T00:46:07.330Z"
   },
   {
    "duration": 19,
    "start_time": "2021-07-23T00:46:07.341Z"
   },
   {
    "duration": 28,
    "start_time": "2021-07-23T00:46:07.362Z"
   },
   {
    "duration": 773,
    "start_time": "2021-07-23T00:46:07.393Z"
   },
   {
    "duration": 5,
    "start_time": "2021-07-23T00:46:48.376Z"
   },
   {
    "duration": 887,
    "start_time": "2021-07-23T00:47:03.542Z"
   },
   {
    "duration": 18,
    "start_time": "2021-07-23T00:50:08.355Z"
   },
   {
    "duration": 13,
    "start_time": "2021-07-23T01:40:48.249Z"
   },
   {
    "duration": 5,
    "start_time": "2021-07-23T01:42:53.778Z"
   },
   {
    "duration": 6,
    "start_time": "2021-07-23T01:43:10.024Z"
   },
   {
    "duration": 5,
    "start_time": "2021-07-23T01:43:14.884Z"
   },
   {
    "duration": 8,
    "start_time": "2021-07-23T01:43:51.950Z"
   },
   {
    "duration": 462,
    "start_time": "2021-07-23T01:49:29.452Z"
   },
   {
    "duration": 428,
    "start_time": "2021-07-23T01:49:40.829Z"
   },
   {
    "duration": 6,
    "start_time": "2021-07-23T01:55:31.217Z"
   },
   {
    "duration": 5,
    "start_time": "2021-07-23T01:55:37.922Z"
   },
   {
    "duration": 11,
    "start_time": "2021-07-23T02:44:22.459Z"
   },
   {
    "duration": 4,
    "start_time": "2021-07-23T02:45:54.550Z"
   },
   {
    "duration": 5,
    "start_time": "2021-07-23T02:46:03.937Z"
   },
   {
    "duration": 6,
    "start_time": "2021-07-23T02:46:10.511Z"
   },
   {
    "duration": 6,
    "start_time": "2021-07-23T02:51:28.996Z"
   },
   {
    "duration": 7,
    "start_time": "2021-07-23T02:51:32.055Z"
   },
   {
    "duration": 6,
    "start_time": "2021-07-23T02:55:55.247Z"
   },
   {
    "duration": 6,
    "start_time": "2021-07-23T02:58:33.849Z"
   },
   {
    "duration": 7,
    "start_time": "2021-07-23T03:03:04.335Z"
   },
   {
    "duration": 12,
    "start_time": "2021-07-23T03:03:42.758Z"
   },
   {
    "duration": 5,
    "start_time": "2021-07-23T03:07:26.111Z"
   },
   {
    "duration": 5,
    "start_time": "2021-07-23T03:07:39.929Z"
   },
   {
    "duration": 6,
    "start_time": "2021-07-23T03:09:56.484Z"
   },
   {
    "duration": 6,
    "start_time": "2021-07-23T03:16:51.568Z"
   },
   {
    "duration": 6,
    "start_time": "2021-07-23T03:17:59.392Z"
   },
   {
    "duration": 3,
    "start_time": "2021-07-23T03:20:04.804Z"
   },
   {
    "duration": 6,
    "start_time": "2021-07-23T03:20:14.454Z"
   },
   {
    "duration": 6,
    "start_time": "2021-07-23T03:20:31.950Z"
   },
   {
    "duration": 5,
    "start_time": "2021-07-23T03:20:39.176Z"
   },
   {
    "duration": 5,
    "start_time": "2021-07-23T03:20:43.868Z"
   },
   {
    "duration": 5,
    "start_time": "2021-07-23T03:20:49.042Z"
   },
   {
    "duration": 5,
    "start_time": "2021-07-23T03:21:03.395Z"
   },
   {
    "duration": 6,
    "start_time": "2021-07-23T03:23:39.216Z"
   },
   {
    "duration": 8,
    "start_time": "2021-07-23T03:23:43.535Z"
   },
   {
    "duration": 5,
    "start_time": "2021-07-23T03:30:53.319Z"
   },
   {
    "duration": 6,
    "start_time": "2021-07-23T03:31:19.062Z"
   },
   {
    "duration": 5,
    "start_time": "2021-07-23T03:35:14.479Z"
   },
   {
    "duration": 5,
    "start_time": "2021-07-23T03:35:22.270Z"
   },
   {
    "duration": 4,
    "start_time": "2021-07-23T03:35:27.017Z"
   },
   {
    "duration": 5,
    "start_time": "2021-07-23T03:35:31.663Z"
   },
   {
    "duration": 5,
    "start_time": "2021-07-23T03:35:35.892Z"
   },
   {
    "duration": 5,
    "start_time": "2021-07-23T03:35:40.135Z"
   },
   {
    "duration": 6,
    "start_time": "2021-07-23T03:35:45.467Z"
   },
   {
    "duration": 5,
    "start_time": "2021-07-23T03:42:23.253Z"
   },
   {
    "duration": 6,
    "start_time": "2021-07-23T03:44:14.314Z"
   },
   {
    "duration": 14,
    "start_time": "2021-07-23T03:46:00.403Z"
   },
   {
    "duration": 14,
    "start_time": "2021-07-23T03:46:12.913Z"
   },
   {
    "duration": 6,
    "start_time": "2021-07-23T03:53:57.071Z"
   },
   {
    "duration": 4,
    "start_time": "2021-07-23T03:56:03.382Z"
   },
   {
    "duration": 5,
    "start_time": "2021-07-23T03:56:15.527Z"
   },
   {
    "duration": 6,
    "start_time": "2021-07-23T03:57:40.157Z"
   },
   {
    "duration": 5,
    "start_time": "2021-07-23T04:02:51.124Z"
   },
   {
    "duration": 6,
    "start_time": "2021-07-23T04:03:04.331Z"
   },
   {
    "duration": 11,
    "start_time": "2021-07-23T04:03:34.565Z"
   },
   {
    "duration": 6,
    "start_time": "2021-07-23T04:11:38.138Z"
   },
   {
    "duration": 7,
    "start_time": "2021-07-23T04:12:04.502Z"
   },
   {
    "duration": 5,
    "start_time": "2021-07-23T04:12:16.510Z"
   },
   {
    "duration": 7,
    "start_time": "2021-07-23T04:12:25.870Z"
   },
   {
    "duration": 7,
    "start_time": "2021-07-23T04:12:51.606Z"
   },
   {
    "duration": 7,
    "start_time": "2021-07-23T04:12:59.611Z"
   },
   {
    "duration": 9,
    "start_time": "2021-07-23T04:15:09.163Z"
   },
   {
    "duration": 36,
    "start_time": "2021-07-23T04:25:32.547Z"
   },
   {
    "duration": 9,
    "start_time": "2021-07-23T04:25:57.848Z"
   },
   {
    "duration": 20,
    "start_time": "2021-07-23T04:38:05.042Z"
   },
   {
    "duration": 6,
    "start_time": "2021-07-23T04:47:14.394Z"
   },
   {
    "duration": 2850,
    "start_time": "2021-07-23T04:59:50.375Z"
   },
   {
    "duration": 293,
    "start_time": "2021-07-23T04:59:53.228Z"
   },
   {
    "duration": 39,
    "start_time": "2021-07-23T04:59:53.524Z"
   },
   {
    "duration": 154,
    "start_time": "2021-07-23T04:59:53.566Z"
   },
   {
    "duration": 13,
    "start_time": "2021-07-23T04:59:53.723Z"
   },
   {
    "duration": 21,
    "start_time": "2021-07-23T04:59:53.739Z"
   },
   {
    "duration": 11,
    "start_time": "2021-07-23T04:59:53.763Z"
   },
   {
    "duration": 8,
    "start_time": "2021-07-23T04:59:53.778Z"
   },
   {
    "duration": 16,
    "start_time": "2021-07-23T04:59:53.789Z"
   },
   {
    "duration": 10,
    "start_time": "2021-07-23T04:59:53.808Z"
   },
   {
    "duration": 41,
    "start_time": "2021-07-23T04:59:53.820Z"
   },
   {
    "duration": 16,
    "start_time": "2021-07-23T04:59:53.863Z"
   },
   {
    "duration": 102,
    "start_time": "2021-07-23T04:59:53.881Z"
   },
   {
    "duration": 96,
    "start_time": "2021-07-23T04:59:53.985Z"
   },
   {
    "duration": 11,
    "start_time": "2021-07-23T04:59:54.084Z"
   },
   {
    "duration": 285,
    "start_time": "2021-07-23T04:59:54.097Z"
   },
   {
    "duration": 195,
    "start_time": "2021-07-23T04:59:54.384Z"
   },
   {
    "duration": 33,
    "start_time": "2021-07-23T04:59:54.582Z"
   },
   {
    "duration": 12,
    "start_time": "2021-07-23T04:59:54.617Z"
   },
   {
    "duration": 27,
    "start_time": "2021-07-23T04:59:54.632Z"
   },
   {
    "duration": 257,
    "start_time": "2021-07-23T04:59:54.661Z"
   },
   {
    "duration": 202,
    "start_time": "2021-07-23T04:59:54.921Z"
   },
   {
    "duration": 35,
    "start_time": "2021-07-23T04:59:55.129Z"
   },
   {
    "duration": 10,
    "start_time": "2021-07-23T04:59:55.168Z"
   },
   {
    "duration": 24,
    "start_time": "2021-07-23T04:59:55.181Z"
   },
   {
    "duration": 19,
    "start_time": "2021-07-23T04:59:55.208Z"
   },
   {
    "duration": 169,
    "start_time": "2021-07-23T04:59:55.229Z"
   },
   {
    "duration": 653,
    "start_time": "2021-07-23T04:59:55.401Z"
   },
   {
    "duration": 185,
    "start_time": "2021-07-23T04:59:56.056Z"
   },
   {
    "duration": 762,
    "start_time": "2021-07-23T04:59:56.244Z"
   },
   {
    "duration": 195,
    "start_time": "2021-07-23T04:59:57.009Z"
   },
   {
    "duration": 803,
    "start_time": "2021-07-23T04:59:57.207Z"
   },
   {
    "duration": 68,
    "start_time": "2021-07-23T04:59:58.012Z"
   },
   {
    "duration": 209,
    "start_time": "2021-07-23T04:59:58.082Z"
   },
   {
    "duration": 879,
    "start_time": "2021-07-23T04:59:58.293Z"
   },
   {
    "duration": 42,
    "start_time": "2021-07-23T04:59:59.174Z"
   },
   {
    "duration": 60,
    "start_time": "2021-07-23T04:59:59.218Z"
   },
   {
    "duration": 74,
    "start_time": "2021-07-23T04:59:59.280Z"
   },
   {
    "duration": 7,
    "start_time": "2021-07-23T04:59:59.357Z"
   },
   {
    "duration": 94,
    "start_time": "2021-07-23T04:59:59.367Z"
   },
   {
    "duration": 4,
    "start_time": "2021-07-23T04:59:59.463Z"
   },
   {
    "duration": 21,
    "start_time": "2021-07-23T04:59:59.470Z"
   },
   {
    "duration": 28,
    "start_time": "2021-07-23T04:59:59.494Z"
   },
   {
    "duration": 45,
    "start_time": "2021-07-23T04:59:59.524Z"
   },
   {
    "duration": 22,
    "start_time": "2021-07-23T04:59:59.571Z"
   },
   {
    "duration": 25,
    "start_time": "2021-07-23T04:59:59.596Z"
   },
   {
    "duration": 331,
    "start_time": "2021-07-23T04:59:59.624Z"
   },
   {
    "duration": 19,
    "start_time": "2021-07-23T04:59:59.957Z"
   },
   {
    "duration": 6,
    "start_time": "2021-07-23T04:59:59.979Z"
   },
   {
    "duration": 11,
    "start_time": "2021-07-23T04:59:59.988Z"
   },
   {
    "duration": 19,
    "start_time": "2021-07-23T05:00:00.002Z"
   },
   {
    "duration": 329,
    "start_time": "2021-07-23T05:00:00.055Z"
   },
   {
    "duration": 15,
    "start_time": "2021-07-23T05:00:00.386Z"
   },
   {
    "duration": 17,
    "start_time": "2021-07-23T05:00:00.404Z"
   },
   {
    "duration": 46,
    "start_time": "2021-07-23T05:00:00.423Z"
   },
   {
    "duration": 23,
    "start_time": "2021-07-23T05:00:00.471Z"
   },
   {
    "duration": 190,
    "start_time": "2021-07-23T05:00:00.497Z"
   },
   {
    "duration": 9,
    "start_time": "2021-07-23T05:00:00.690Z"
   },
   {
    "duration": 27,
    "start_time": "2021-07-23T05:00:00.701Z"
   },
   {
    "duration": 21,
    "start_time": "2021-07-23T05:00:00.731Z"
   },
   {
    "duration": 20,
    "start_time": "2021-07-23T05:00:00.755Z"
   },
   {
    "duration": 23,
    "start_time": "2021-07-23T05:00:00.778Z"
   },
   {
    "duration": 20,
    "start_time": "2021-07-23T05:00:00.804Z"
   },
   {
    "duration": 16,
    "start_time": "2021-07-23T05:00:00.827Z"
   },
   {
    "duration": 41,
    "start_time": "2021-07-23T05:00:00.845Z"
   },
   {
    "duration": 13,
    "start_time": "2021-07-23T05:00:00.889Z"
   },
   {
    "duration": 22,
    "start_time": "2021-07-23T05:00:00.904Z"
   },
   {
    "duration": 10,
    "start_time": "2021-07-23T05:00:00.934Z"
   },
   {
    "duration": 25,
    "start_time": "2021-07-23T05:00:00.947Z"
   },
   {
    "duration": 29,
    "start_time": "2021-07-23T05:00:00.975Z"
   },
   {
    "duration": 43,
    "start_time": "2021-07-23T05:00:01.006Z"
   },
   {
    "duration": 97,
    "start_time": "2021-07-23T05:00:01.052Z"
   },
   {
    "duration": 7,
    "start_time": "2021-07-23T05:00:01.151Z"
   },
   {
    "duration": 15,
    "start_time": "2021-07-23T05:00:01.161Z"
   },
   {
    "duration": 205,
    "start_time": "2021-07-23T05:00:01.178Z"
   },
   {
    "duration": 8,
    "start_time": "2021-07-23T05:00:01.385Z"
   },
   {
    "duration": 31,
    "start_time": "2021-07-23T05:00:01.396Z"
   },
   {
    "duration": 65,
    "start_time": "2021-07-23T05:00:01.430Z"
   },
   {
    "duration": 660,
    "start_time": "2021-07-23T05:00:01.497Z"
   },
   {
    "duration": 11,
    "start_time": "2021-07-23T05:00:02.160Z"
   },
   {
    "duration": 27,
    "start_time": "2021-07-23T05:00:02.174Z"
   },
   {
    "duration": 12,
    "start_time": "2021-07-23T05:00:02.204Z"
   },
   {
    "duration": 37,
    "start_time": "2021-07-23T05:00:02.219Z"
   },
   {
    "duration": 13,
    "start_time": "2021-07-23T05:00:02.259Z"
   },
   {
    "duration": 26,
    "start_time": "2021-07-23T05:00:02.275Z"
   },
   {
    "duration": 262,
    "start_time": "2021-07-25T17:35:05.694Z"
   },
   {
    "duration": 1298,
    "start_time": "2021-07-25T17:35:12.432Z"
   },
   {
    "duration": 216,
    "start_time": "2021-07-25T17:35:13.731Z"
   },
   {
    "duration": 26,
    "start_time": "2021-07-25T17:35:13.949Z"
   },
   {
    "duration": 93,
    "start_time": "2021-07-25T17:35:13.977Z"
   },
   {
    "duration": 14,
    "start_time": "2021-07-25T17:35:14.072Z"
   },
   {
    "duration": 7,
    "start_time": "2021-07-25T17:35:14.088Z"
   },
   {
    "duration": 7,
    "start_time": "2021-07-25T17:35:14.097Z"
   },
   {
    "duration": 4,
    "start_time": "2021-07-25T17:35:14.105Z"
   },
   {
    "duration": 5,
    "start_time": "2021-07-25T17:35:14.112Z"
   },
   {
    "duration": 4,
    "start_time": "2021-07-25T17:35:14.119Z"
   },
   {
    "duration": 5,
    "start_time": "2021-07-25T17:35:14.125Z"
   },
   {
    "duration": 9,
    "start_time": "2021-07-25T17:35:14.131Z"
   },
   {
    "duration": 85,
    "start_time": "2021-07-25T17:35:14.142Z"
   },
   {
    "duration": 46,
    "start_time": "2021-07-25T17:35:14.228Z"
   },
   {
    "duration": 8,
    "start_time": "2021-07-25T17:35:14.284Z"
   },
   {
    "duration": 172,
    "start_time": "2021-07-25T17:35:14.294Z"
   },
   {
    "duration": 135,
    "start_time": "2021-07-25T17:35:14.467Z"
   },
   {
    "duration": 18,
    "start_time": "2021-07-25T17:35:14.604Z"
   },
   {
    "duration": 8,
    "start_time": "2021-07-25T17:35:14.623Z"
   },
   {
    "duration": 13,
    "start_time": "2021-07-25T17:35:14.632Z"
   },
   {
    "duration": 163,
    "start_time": "2021-07-25T17:35:14.647Z"
   },
   {
    "duration": 135,
    "start_time": "2021-07-25T17:35:14.811Z"
   },
   {
    "duration": 17,
    "start_time": "2021-07-25T17:35:14.948Z"
   },
   {
    "duration": 6,
    "start_time": "2021-07-25T17:35:14.967Z"
   },
   {
    "duration": 3,
    "start_time": "2021-07-25T17:35:14.985Z"
   },
   {
    "duration": 6,
    "start_time": "2021-07-25T17:35:14.989Z"
   },
   {
    "duration": 131,
    "start_time": "2021-07-25T17:35:14.999Z"
   },
   {
    "duration": 466,
    "start_time": "2021-07-25T17:35:15.133Z"
   },
   {
    "duration": 126,
    "start_time": "2021-07-25T17:35:15.601Z"
   },
   {
    "duration": 583,
    "start_time": "2021-07-25T17:35:15.729Z"
   },
   {
    "duration": 129,
    "start_time": "2021-07-25T17:35:16.314Z"
   },
   {
    "duration": 574,
    "start_time": "2021-07-25T17:35:16.445Z"
   },
   {
    "duration": 37,
    "start_time": "2021-07-25T17:35:17.021Z"
   },
   {
    "duration": 160,
    "start_time": "2021-07-25T17:35:17.060Z"
   },
   {
    "duration": 586,
    "start_time": "2021-07-25T17:35:17.221Z"
   },
   {
    "duration": 31,
    "start_time": "2021-07-25T17:35:17.809Z"
   },
   {
    "duration": 45,
    "start_time": "2021-07-25T17:35:17.841Z"
   },
   {
    "duration": 39,
    "start_time": "2021-07-25T17:35:17.887Z"
   },
   {
    "duration": 6,
    "start_time": "2021-07-25T17:35:17.927Z"
   },
   {
    "duration": 59,
    "start_time": "2021-07-25T17:35:17.935Z"
   },
   {
    "duration": 3,
    "start_time": "2021-07-25T17:35:17.995Z"
   },
   {
    "duration": 8,
    "start_time": "2021-07-25T17:35:17.999Z"
   },
   {
    "duration": 12,
    "start_time": "2021-07-25T17:35:18.008Z"
   },
   {
    "duration": 19,
    "start_time": "2021-07-25T17:35:18.022Z"
   },
   {
    "duration": 13,
    "start_time": "2021-07-25T17:35:18.042Z"
   },
   {
    "duration": 42,
    "start_time": "2021-07-25T17:35:18.057Z"
   },
   {
    "duration": 189,
    "start_time": "2021-07-25T17:35:18.100Z"
   },
   {
    "duration": 13,
    "start_time": "2021-07-25T17:35:18.290Z"
   },
   {
    "duration": 4,
    "start_time": "2021-07-25T17:35:18.305Z"
   },
   {
    "duration": 6,
    "start_time": "2021-07-25T17:35:18.310Z"
   },
   {
    "duration": 8,
    "start_time": "2021-07-25T17:35:18.317Z"
   },
   {
    "duration": 252,
    "start_time": "2021-07-25T17:35:18.326Z"
   },
   {
    "duration": 14,
    "start_time": "2021-07-25T17:35:18.580Z"
   },
   {
    "duration": 14,
    "start_time": "2021-07-25T17:35:18.596Z"
   },
   {
    "duration": 25,
    "start_time": "2021-07-25T17:35:18.611Z"
   },
   {
    "duration": 10,
    "start_time": "2021-07-25T17:35:18.638Z"
   },
   {
    "duration": 118,
    "start_time": "2021-07-25T17:35:18.649Z"
   },
   {
    "duration": 6,
    "start_time": "2021-07-25T17:35:18.769Z"
   },
   {
    "duration": 16,
    "start_time": "2021-07-25T17:35:18.776Z"
   },
   {
    "duration": 25,
    "start_time": "2021-07-25T17:35:18.794Z"
   },
   {
    "duration": 16,
    "start_time": "2021-07-25T17:35:18.821Z"
   },
   {
    "duration": 17,
    "start_time": "2021-07-25T17:35:18.838Z"
   },
   {
    "duration": 23,
    "start_time": "2021-07-25T17:35:18.857Z"
   },
   {
    "duration": 14,
    "start_time": "2021-07-25T17:35:18.882Z"
   },
   {
    "duration": 18,
    "start_time": "2021-07-25T17:35:18.898Z"
   },
   {
    "duration": 23,
    "start_time": "2021-07-25T17:35:18.918Z"
   },
   {
    "duration": 15,
    "start_time": "2021-07-25T17:35:18.943Z"
   },
   {
    "duration": 16,
    "start_time": "2021-07-25T17:35:18.959Z"
   },
   {
    "duration": 26,
    "start_time": "2021-07-25T17:35:18.977Z"
   },
   {
    "duration": 19,
    "start_time": "2021-07-25T17:35:19.005Z"
   },
   {
    "duration": 11,
    "start_time": "2021-07-25T17:35:19.025Z"
   },
   {
    "duration": 46,
    "start_time": "2021-07-25T17:35:19.038Z"
   },
   {
    "duration": 4,
    "start_time": "2021-07-25T17:35:19.086Z"
   },
   {
    "duration": 4,
    "start_time": "2021-07-25T17:35:19.092Z"
   },
   {
    "duration": 122,
    "start_time": "2021-07-25T17:35:19.097Z"
   },
   {
    "duration": 4,
    "start_time": "2021-07-25T17:35:19.221Z"
   },
   {
    "duration": 8,
    "start_time": "2021-07-25T17:35:19.227Z"
   },
   {
    "duration": 16,
    "start_time": "2021-07-25T17:35:19.236Z"
   },
   {
    "duration": 457,
    "start_time": "2021-07-25T17:35:19.254Z"
   },
   {
    "duration": 5,
    "start_time": "2021-07-25T17:35:19.713Z"
   },
   {
    "duration": 8,
    "start_time": "2021-07-25T17:35:19.722Z"
   },
   {
    "duration": 5,
    "start_time": "2021-07-25T17:35:19.732Z"
   },
   {
    "duration": 5,
    "start_time": "2021-07-25T17:35:19.738Z"
   },
   {
    "duration": 9,
    "start_time": "2021-07-25T17:35:19.744Z"
   },
   {
    "duration": 32,
    "start_time": "2021-07-25T17:35:19.754Z"
   },
   {
    "duration": 6,
    "start_time": "2021-07-25T17:38:29.589Z"
   },
   {
    "duration": 467,
    "start_time": "2021-07-25T17:46:18.166Z"
   },
   {
    "duration": 406,
    "start_time": "2021-07-25T17:46:43.312Z"
   },
   {
    "duration": 8,
    "start_time": "2021-07-25T18:00:31.669Z"
   },
   {
    "duration": 467,
    "start_time": "2021-07-25T23:47:50.181Z"
   },
   {
    "duration": 2141,
    "start_time": "2021-07-25T23:48:00.888Z"
   },
   {
    "duration": 419,
    "start_time": "2021-07-25T23:48:03.031Z"
   },
   {
    "duration": 40,
    "start_time": "2021-07-25T23:48:03.454Z"
   },
   {
    "duration": 161,
    "start_time": "2021-07-25T23:48:03.496Z"
   },
   {
    "duration": 14,
    "start_time": "2021-07-25T23:48:03.660Z"
   },
   {
    "duration": 8,
    "start_time": "2021-07-25T23:48:03.686Z"
   },
   {
    "duration": 11,
    "start_time": "2021-07-25T23:48:03.697Z"
   },
   {
    "duration": 12,
    "start_time": "2021-07-25T23:48:03.712Z"
   },
   {
    "duration": 18,
    "start_time": "2021-07-25T23:48:03.727Z"
   },
   {
    "duration": 17,
    "start_time": "2021-07-25T23:48:03.748Z"
   },
   {
    "duration": 9,
    "start_time": "2021-07-25T23:48:03.786Z"
   },
   {
    "duration": 18,
    "start_time": "2021-07-25T23:48:03.797Z"
   },
   {
    "duration": 121,
    "start_time": "2021-07-25T23:48:03.818Z"
   },
   {
    "duration": 139,
    "start_time": "2021-07-25T23:48:03.942Z"
   },
   {
    "duration": 20,
    "start_time": "2021-07-25T23:48:04.086Z"
   },
   {
    "duration": 337,
    "start_time": "2021-07-25T23:48:04.109Z"
   },
   {
    "duration": 211,
    "start_time": "2021-07-25T23:48:04.448Z"
   },
   {
    "duration": 41,
    "start_time": "2021-07-25T23:48:04.662Z"
   },
   {
    "duration": 13,
    "start_time": "2021-07-25T23:48:04.706Z"
   },
   {
    "duration": 17,
    "start_time": "2021-07-25T23:48:04.722Z"
   },
   {
    "duration": 270,
    "start_time": "2021-07-25T23:48:04.742Z"
   },
   {
    "duration": 211,
    "start_time": "2021-07-25T23:48:05.014Z"
   },
   {
    "duration": 34,
    "start_time": "2021-07-25T23:48:05.231Z"
   },
   {
    "duration": 11,
    "start_time": "2021-07-25T23:48:05.286Z"
   },
   {
    "duration": 18,
    "start_time": "2021-07-25T23:48:05.299Z"
   },
   {
    "duration": 5,
    "start_time": "2021-07-25T23:48:05.319Z"
   },
   {
    "duration": 197,
    "start_time": "2021-07-25T23:48:05.327Z"
   },
   {
    "duration": 695,
    "start_time": "2021-07-25T23:48:05.526Z"
   },
   {
    "duration": 193,
    "start_time": "2021-07-25T23:48:06.224Z"
   },
   {
    "duration": 844,
    "start_time": "2021-07-25T23:48:06.419Z"
   },
   {
    "duration": 198,
    "start_time": "2021-07-25T23:48:07.266Z"
   },
   {
    "duration": 858,
    "start_time": "2021-07-25T23:48:07.467Z"
   },
   {
    "duration": 77,
    "start_time": "2021-07-25T23:48:08.329Z"
   },
   {
    "duration": 218,
    "start_time": "2021-07-25T23:48:08.408Z"
   },
   {
    "duration": 938,
    "start_time": "2021-07-25T23:48:08.629Z"
   },
   {
    "duration": 50,
    "start_time": "2021-07-25T23:48:09.569Z"
   },
   {
    "duration": 41,
    "start_time": "2021-07-25T23:48:09.622Z"
   },
   {
    "duration": 89,
    "start_time": "2021-07-25T23:48:09.666Z"
   },
   {
    "duration": 8,
    "start_time": "2021-07-25T23:48:09.757Z"
   },
   {
    "duration": 86,
    "start_time": "2021-07-25T23:48:09.767Z"
   },
   {
    "duration": 3,
    "start_time": "2021-07-25T23:48:09.856Z"
   },
   {
    "duration": 24,
    "start_time": "2021-07-25T23:48:09.862Z"
   },
   {
    "duration": 22,
    "start_time": "2021-07-25T23:48:09.889Z"
   },
   {
    "duration": 31,
    "start_time": "2021-07-25T23:48:09.913Z"
   },
   {
    "duration": 48,
    "start_time": "2021-07-25T23:48:09.947Z"
   },
   {
    "duration": 31,
    "start_time": "2021-07-25T23:48:09.998Z"
   },
   {
    "duration": 323,
    "start_time": "2021-07-25T23:48:10.032Z"
   },
   {
    "duration": 31,
    "start_time": "2021-07-25T23:48:10.358Z"
   },
   {
    "duration": 5,
    "start_time": "2021-07-25T23:48:10.392Z"
   },
   {
    "duration": 8,
    "start_time": "2021-07-25T23:48:10.399Z"
   },
   {
    "duration": 9,
    "start_time": "2021-07-25T23:48:10.409Z"
   },
   {
    "duration": 368,
    "start_time": "2021-07-25T23:48:10.420Z"
   },
   {
    "duration": 15,
    "start_time": "2021-07-25T23:48:10.790Z"
   },
   {
    "duration": 6,
    "start_time": "2021-07-25T23:48:10.807Z"
   },
   {
    "duration": 26,
    "start_time": "2021-07-25T23:48:10.815Z"
   },
   {
    "duration": 48,
    "start_time": "2021-07-25T23:48:10.844Z"
   },
   {
    "duration": 182,
    "start_time": "2021-07-25T23:48:10.895Z"
   },
   {
    "duration": 9,
    "start_time": "2021-07-25T23:48:11.079Z"
   },
   {
    "duration": 14,
    "start_time": "2021-07-25T23:48:11.091Z"
   },
   {
    "duration": 15,
    "start_time": "2021-07-25T23:48:11.107Z"
   },
   {
    "duration": 15,
    "start_time": "2021-07-25T23:48:11.125Z"
   },
   {
    "duration": 17,
    "start_time": "2021-07-25T23:48:11.143Z"
   },
   {
    "duration": 30,
    "start_time": "2021-07-25T23:48:11.162Z"
   },
   {
    "duration": 23,
    "start_time": "2021-07-25T23:48:11.194Z"
   },
   {
    "duration": 16,
    "start_time": "2021-07-25T23:48:11.219Z"
   },
   {
    "duration": 15,
    "start_time": "2021-07-25T23:48:11.238Z"
   },
   {
    "duration": 32,
    "start_time": "2021-07-25T23:48:11.255Z"
   },
   {
    "duration": 12,
    "start_time": "2021-07-25T23:48:11.295Z"
   },
   {
    "duration": 8,
    "start_time": "2021-07-25T23:48:11.310Z"
   },
   {
    "duration": 9,
    "start_time": "2021-07-25T23:48:11.320Z"
   },
   {
    "duration": 16,
    "start_time": "2021-07-25T23:48:11.331Z"
   },
   {
    "duration": 39,
    "start_time": "2021-07-25T23:48:11.349Z"
   },
   {
    "duration": 74,
    "start_time": "2021-07-25T23:48:11.391Z"
   },
   {
    "duration": 24,
    "start_time": "2021-07-25T23:48:11.467Z"
   },
   {
    "duration": 9,
    "start_time": "2021-07-25T23:48:11.493Z"
   },
   {
    "duration": 200,
    "start_time": "2021-07-25T23:48:11.505Z"
   },
   {
    "duration": 6,
    "start_time": "2021-07-25T23:48:11.708Z"
   },
   {
    "duration": 13,
    "start_time": "2021-07-25T23:48:11.717Z"
   },
   {
    "duration": 29,
    "start_time": "2021-07-25T23:48:11.733Z"
   },
   {
    "duration": 661,
    "start_time": "2021-07-25T23:48:11.764Z"
   },
   {
    "duration": 10,
    "start_time": "2021-07-25T23:48:12.428Z"
   },
   {
    "duration": 14,
    "start_time": "2021-07-25T23:48:12.442Z"
   },
   {
    "duration": 7,
    "start_time": "2021-07-25T23:48:12.487Z"
   },
   {
    "duration": 9,
    "start_time": "2021-07-25T23:48:12.497Z"
   },
   {
    "duration": 8,
    "start_time": "2021-07-25T23:48:12.508Z"
   },
   {
    "duration": 19,
    "start_time": "2021-07-25T23:48:12.518Z"
   },
   {
    "duration": 20,
    "start_time": "2021-07-25T23:50:19.433Z"
   },
   {
    "duration": 6,
    "start_time": "2021-07-26T02:49:48.455Z"
   },
   {
    "duration": 6,
    "start_time": "2021-07-26T02:49:59.976Z"
   },
   {
    "duration": 4,
    "start_time": "2021-07-26T03:08:28.190Z"
   },
   {
    "duration": 5,
    "start_time": "2021-07-26T03:08:44.696Z"
   },
   {
    "duration": 5,
    "start_time": "2021-07-26T03:29:37.070Z"
   },
   {
    "duration": 8,
    "start_time": "2021-07-26T03:33:56.758Z"
   },
   {
    "duration": 1895,
    "start_time": "2021-08-24T17:18:41.899Z"
   },
   {
    "duration": 274,
    "start_time": "2021-08-24T17:18:43.808Z"
   },
   {
    "duration": 20,
    "start_time": "2021-08-24T17:18:44.526Z"
   },
   {
    "duration": 33,
    "start_time": "2021-08-24T17:18:46.169Z"
   },
   {
    "duration": 6,
    "start_time": "2021-08-24T17:23:52.130Z"
   },
   {
    "duration": 274,
    "start_time": "2021-08-24T17:23:52.740Z"
   },
   {
    "duration": 18,
    "start_time": "2021-08-24T17:23:53.474Z"
   },
   {
    "duration": 32,
    "start_time": "2021-08-24T17:23:54.622Z"
   },
   {
    "duration": 144,
    "start_time": "2021-08-24T17:23:58.701Z"
   },
   {
    "duration": 84,
    "start_time": "2021-08-24T17:24:01.978Z"
   },
   {
    "duration": 76,
    "start_time": "2021-08-24T17:24:04.471Z"
   },
   {
    "duration": 21,
    "start_time": "2021-08-24T17:26:30.593Z"
   },
   {
    "duration": 10,
    "start_time": "2021-08-24T17:26:45.298Z"
   },
   {
    "duration": 11,
    "start_time": "2021-08-24T17:26:56.407Z"
   },
   {
    "duration": 245,
    "start_time": "2021-08-24T17:31:57.804Z"
   },
   {
    "duration": 211,
    "start_time": "2021-08-24T17:34:34.466Z"
   },
   {
    "duration": 213,
    "start_time": "2021-08-24T17:34:46.972Z"
   },
   {
    "duration": 531,
    "start_time": "2021-08-25T01:39:55.813Z"
   },
   {
    "duration": 1926,
    "start_time": "2021-08-25T01:40:05.708Z"
   },
   {
    "duration": 275,
    "start_time": "2021-08-25T01:40:07.637Z"
   },
   {
    "duration": 23,
    "start_time": "2021-08-25T01:40:07.915Z"
   },
   {
    "duration": 36,
    "start_time": "2021-08-25T01:40:07.941Z"
   },
   {
    "duration": 154,
    "start_time": "2021-08-25T01:40:07.980Z"
   },
   {
    "duration": 91,
    "start_time": "2021-08-25T01:40:08.136Z"
   },
   {
    "duration": 84,
    "start_time": "2021-08-25T01:40:08.230Z"
   },
   {
    "duration": 15,
    "start_time": "2021-08-25T01:40:08.318Z"
   },
   {
    "duration": 12,
    "start_time": "2021-08-25T01:40:08.336Z"
   },
   {
    "duration": 15,
    "start_time": "2021-08-25T01:40:08.350Z"
   },
   {
    "duration": 39,
    "start_time": "2021-08-25T01:40:08.367Z"
   },
   {
    "duration": 250,
    "start_time": "2021-08-25T01:40:08.409Z"
   },
   {
    "duration": 217,
    "start_time": "2021-08-25T01:40:08.661Z"
   },
   {
    "duration": 10,
    "start_time": "2021-08-25T01:40:08.881Z"
   },
   {
    "duration": 238,
    "start_time": "2021-08-25T01:40:08.901Z"
   },
   {
    "duration": 190,
    "start_time": "2021-08-25T01:40:09.141Z"
   },
   {
    "duration": 24,
    "start_time": "2021-08-25T01:40:09.333Z"
   },
   {
    "duration": 9,
    "start_time": "2021-08-25T01:40:09.359Z"
   },
   {
    "duration": 31,
    "start_time": "2021-08-25T01:40:09.371Z"
   },
   {
    "duration": 8,
    "start_time": "2021-08-25T01:40:09.404Z"
   },
   {
    "duration": 179,
    "start_time": "2021-08-25T01:40:09.414Z"
   },
   {
    "duration": 652,
    "start_time": "2021-08-25T01:40:09.595Z"
   },
   {
    "duration": 182,
    "start_time": "2021-08-25T01:40:10.253Z"
   },
   {
    "duration": 799,
    "start_time": "2021-08-25T01:40:10.438Z"
   },
   {
    "duration": 194,
    "start_time": "2021-08-25T01:40:11.240Z"
   },
   {
    "duration": 841,
    "start_time": "2021-08-25T01:40:11.437Z"
   },
   {
    "duration": 63,
    "start_time": "2021-08-25T01:40:12.281Z"
   },
   {
    "duration": 212,
    "start_time": "2021-08-25T01:40:12.346Z"
   },
   {
    "duration": 843,
    "start_time": "2021-08-25T01:40:12.561Z"
   },
   {
    "duration": 41,
    "start_time": "2021-08-25T01:40:13.406Z"
   },
   {
    "duration": 54,
    "start_time": "2021-08-25T01:40:13.449Z"
   },
   {
    "duration": 58,
    "start_time": "2021-08-25T01:40:13.505Z"
   },
   {
    "duration": 8,
    "start_time": "2021-08-25T01:40:13.565Z"
   },
   {
    "duration": 79,
    "start_time": "2021-08-25T01:40:13.576Z"
   },
   {
    "duration": 3,
    "start_time": "2021-08-25T01:40:13.658Z"
   },
   {
    "duration": 11,
    "start_time": "2021-08-25T01:40:13.663Z"
   },
   {
    "duration": 37,
    "start_time": "2021-08-25T01:40:13.677Z"
   },
   {
    "duration": 31,
    "start_time": "2021-08-25T01:40:13.716Z"
   },
   {
    "duration": 21,
    "start_time": "2021-08-25T01:40:13.749Z"
   },
   {
    "duration": 47,
    "start_time": "2021-08-25T01:40:13.772Z"
   },
   {
    "duration": 286,
    "start_time": "2021-08-25T01:40:13.822Z"
   },
   {
    "duration": 19,
    "start_time": "2021-08-25T01:40:14.111Z"
   },
   {
    "duration": 8,
    "start_time": "2021-08-25T01:40:14.133Z"
   },
   {
    "duration": 8,
    "start_time": "2021-08-25T01:40:14.144Z"
   },
   {
    "duration": 9,
    "start_time": "2021-08-25T01:40:14.155Z"
   },
   {
    "duration": 344,
    "start_time": "2021-08-25T01:40:14.166Z"
   },
   {
    "duration": 17,
    "start_time": "2021-08-25T01:40:14.513Z"
   },
   {
    "duration": 8,
    "start_time": "2021-08-25T01:40:14.532Z"
   },
   {
    "duration": 62,
    "start_time": "2021-08-25T01:40:14.543Z"
   },
   {
    "duration": 17,
    "start_time": "2021-08-25T01:40:14.608Z"
   },
   {
    "duration": 178,
    "start_time": "2021-08-25T01:40:14.627Z"
   },
   {
    "duration": 9,
    "start_time": "2021-08-25T01:40:14.808Z"
   },
   {
    "duration": 10,
    "start_time": "2021-08-25T01:40:14.821Z"
   },
   {
    "duration": 17,
    "start_time": "2021-08-25T01:40:14.834Z"
   },
   {
    "duration": 10,
    "start_time": "2021-08-25T01:40:14.854Z"
   },
   {
    "duration": 45,
    "start_time": "2021-08-25T01:40:14.866Z"
   },
   {
    "duration": 20,
    "start_time": "2021-08-25T01:40:14.914Z"
   },
   {
    "duration": 11,
    "start_time": "2021-08-25T01:40:14.936Z"
   },
   {
    "duration": 8,
    "start_time": "2021-08-25T01:40:14.949Z"
   },
   {
    "duration": 52,
    "start_time": "2021-08-25T01:40:14.959Z"
   },
   {
    "duration": 8,
    "start_time": "2021-08-25T01:40:15.014Z"
   },
   {
    "duration": 13,
    "start_time": "2021-08-25T01:40:15.025Z"
   },
   {
    "duration": 15,
    "start_time": "2021-08-25T01:40:15.041Z"
   },
   {
    "duration": 9,
    "start_time": "2021-08-25T01:40:15.059Z"
   },
   {
    "duration": 70,
    "start_time": "2021-08-25T01:40:15.101Z"
   },
   {
    "duration": 28,
    "start_time": "2021-08-25T01:40:15.174Z"
   },
   {
    "duration": 6,
    "start_time": "2021-08-25T01:40:15.205Z"
   },
   {
    "duration": 177,
    "start_time": "2021-08-25T01:40:15.218Z"
   },
   {
    "duration": 8,
    "start_time": "2021-08-25T01:40:15.397Z"
   },
   {
    "duration": 11,
    "start_time": "2021-08-25T01:40:15.407Z"
   },
   {
    "duration": 28,
    "start_time": "2021-08-25T01:40:15.420Z"
   },
   {
    "duration": 642,
    "start_time": "2021-08-25T01:40:15.450Z"
   },
   {
    "duration": 15,
    "start_time": "2021-08-25T01:40:16.094Z"
   },
   {
    "duration": 9,
    "start_time": "2021-08-25T01:40:16.112Z"
   },
   {
    "duration": 6,
    "start_time": "2021-08-25T01:40:16.124Z"
   },
   {
    "duration": 237,
    "start_time": "2021-08-25T03:34:45.784Z"
   },
   {
    "duration": 223,
    "start_time": "2021-08-25T03:41:55.499Z"
   },
   {
    "duration": 5,
    "start_time": "2021-08-25T03:42:56.297Z"
   },
   {
    "duration": 927,
    "start_time": "2021-08-25T03:43:04.953Z"
   },
   {
    "duration": 610,
    "start_time": "2021-08-25T17:53:56.301Z"
   },
   {
    "duration": 1975,
    "start_time": "2021-08-25T17:54:02.217Z"
   },
   {
    "duration": 297,
    "start_time": "2021-08-25T17:54:04.195Z"
   },
   {
    "duration": 22,
    "start_time": "2021-08-25T17:54:04.495Z"
   },
   {
    "duration": 38,
    "start_time": "2021-08-25T17:54:04.520Z"
   },
   {
    "duration": 164,
    "start_time": "2021-08-25T17:54:04.561Z"
   },
   {
    "duration": 100,
    "start_time": "2021-08-25T17:54:04.727Z"
   },
   {
    "duration": 91,
    "start_time": "2021-08-25T17:54:04.830Z"
   },
   {
    "duration": 15,
    "start_time": "2021-08-25T17:54:04.925Z"
   },
   {
    "duration": 25,
    "start_time": "2021-08-25T17:54:04.942Z"
   },
   {
    "duration": 12,
    "start_time": "2021-08-25T17:54:04.970Z"
   },
   {
    "duration": 19,
    "start_time": "2021-08-25T17:54:04.984Z"
   },
   {
    "duration": 277,
    "start_time": "2021-08-25T17:54:05.005Z"
   },
   {
    "duration": 234,
    "start_time": "2021-08-25T17:54:05.284Z"
   },
   {
    "duration": 13,
    "start_time": "2021-08-25T17:54:05.520Z"
   },
   {
    "duration": 259,
    "start_time": "2021-08-25T17:54:05.535Z"
   },
   {
    "duration": 223,
    "start_time": "2021-08-25T17:54:05.797Z"
   },
   {
    "duration": 807,
    "start_time": "2021-08-25T17:54:06.022Z"
   },
   {
    "duration": 186,
    "start_time": "2021-08-25T17:54:06.831Z"
   },
   {
    "duration": 883,
    "start_time": "2021-08-25T17:54:07.019Z"
   },
   {
    "duration": 181,
    "start_time": "2021-08-25T17:54:07.905Z"
   },
   {
    "duration": 851,
    "start_time": "2021-08-25T17:54:08.088Z"
   },
   {
    "duration": 60,
    "start_time": "2021-08-25T17:54:08.941Z"
   },
   {
    "duration": 216,
    "start_time": "2021-08-25T17:54:09.007Z"
   },
   {
    "duration": 875,
    "start_time": "2021-08-25T17:54:09.228Z"
   },
   {
    "duration": 53,
    "start_time": "2021-08-25T17:54:10.105Z"
   },
   {
    "duration": 43,
    "start_time": "2021-08-25T17:54:10.160Z"
   },
   {
    "duration": 90,
    "start_time": "2021-08-25T17:54:10.205Z"
   },
   {
    "duration": 7,
    "start_time": "2021-08-25T17:54:10.297Z"
   },
   {
    "duration": 79,
    "start_time": "2021-08-25T17:54:10.307Z"
   },
   {
    "duration": 4,
    "start_time": "2021-08-25T17:54:10.389Z"
   },
   {
    "duration": 10,
    "start_time": "2021-08-25T17:54:10.396Z"
   },
   {
    "duration": 22,
    "start_time": "2021-08-25T17:54:10.409Z"
   },
   {
    "duration": 54,
    "start_time": "2021-08-25T17:54:10.433Z"
   },
   {
    "duration": 29,
    "start_time": "2021-08-25T17:54:10.489Z"
   },
   {
    "duration": 41,
    "start_time": "2021-08-25T17:54:10.521Z"
   },
   {
    "duration": 363,
    "start_time": "2021-08-25T17:54:10.565Z"
   },
   {
    "duration": 27,
    "start_time": "2021-08-25T17:54:10.931Z"
   },
   {
    "duration": 6,
    "start_time": "2021-08-25T17:54:10.960Z"
   },
   {
    "duration": 11,
    "start_time": "2021-08-25T17:54:10.968Z"
   },
   {
    "duration": 13,
    "start_time": "2021-08-25T17:54:10.981Z"
   },
   {
    "duration": 321,
    "start_time": "2021-08-25T17:54:10.997Z"
   },
   {
    "duration": 14,
    "start_time": "2021-08-25T17:54:11.320Z"
   },
   {
    "duration": 22,
    "start_time": "2021-08-25T17:54:11.336Z"
   },
   {
    "duration": 31,
    "start_time": "2021-08-25T17:54:11.360Z"
   },
   {
    "duration": 18,
    "start_time": "2021-08-25T17:54:11.393Z"
   },
   {
    "duration": 169,
    "start_time": "2021-08-25T17:54:11.413Z"
   },
   {
    "duration": 8,
    "start_time": "2021-08-25T17:54:11.585Z"
   },
   {
    "duration": 18,
    "start_time": "2021-08-25T17:54:11.595Z"
   },
   {
    "duration": 28,
    "start_time": "2021-08-25T17:54:11.615Z"
   },
   {
    "duration": 12,
    "start_time": "2021-08-25T17:54:11.646Z"
   },
   {
    "duration": 15,
    "start_time": "2021-08-25T17:54:11.660Z"
   },
   {
    "duration": 21,
    "start_time": "2021-08-25T17:54:11.677Z"
   },
   {
    "duration": 23,
    "start_time": "2021-08-25T17:54:11.700Z"
   },
   {
    "duration": 25,
    "start_time": "2021-08-25T17:54:11.725Z"
   },
   {
    "duration": 46,
    "start_time": "2021-08-25T17:54:11.753Z"
   },
   {
    "duration": 19,
    "start_time": "2021-08-25T17:54:11.802Z"
   },
   {
    "duration": 15,
    "start_time": "2021-08-25T17:54:11.823Z"
   },
   {
    "duration": 25,
    "start_time": "2021-08-25T17:54:11.840Z"
   },
   {
    "duration": 15,
    "start_time": "2021-08-25T17:54:11.867Z"
   },
   {
    "duration": 82,
    "start_time": "2021-08-25T17:54:11.884Z"
   },
   {
    "duration": 7,
    "start_time": "2021-08-25T17:54:11.968Z"
   },
   {
    "duration": 17,
    "start_time": "2021-08-25T17:54:11.977Z"
   },
   {
    "duration": 178,
    "start_time": "2021-08-25T17:54:11.996Z"
   },
   {
    "duration": 7,
    "start_time": "2021-08-25T17:54:12.177Z"
   },
   {
    "duration": 20,
    "start_time": "2021-08-25T17:54:12.186Z"
   },
   {
    "duration": 33,
    "start_time": "2021-08-25T17:54:12.208Z"
   },
   {
    "duration": 643,
    "start_time": "2021-08-25T17:54:12.244Z"
   },
   {
    "duration": 10,
    "start_time": "2021-08-25T17:54:12.894Z"
   },
   {
    "duration": 7,
    "start_time": "2021-08-25T17:54:12.906Z"
   },
   {
    "duration": 13,
    "start_time": "2021-08-25T17:54:12.916Z"
   },
   {
    "duration": 1241,
    "start_time": "2021-08-25T17:55:35.771Z"
   },
   {
    "duration": 1254,
    "start_time": "2021-08-25T17:57:48.074Z"
   },
   {
    "duration": 1244,
    "start_time": "2021-08-25T17:58:19.759Z"
   },
   {
    "duration": 1227,
    "start_time": "2021-08-25T17:58:52.749Z"
   },
   {
    "duration": 1362,
    "start_time": "2021-08-25T18:10:13.432Z"
   },
   {
    "duration": 233,
    "start_time": "2021-08-25T19:40:45.823Z"
   },
   {
    "duration": 22,
    "start_time": "2021-08-25T19:42:03.458Z"
   },
   {
    "duration": 6,
    "start_time": "2021-08-25T19:50:02.623Z"
   },
   {
    "duration": 23,
    "start_time": "2021-08-25T19:50:26.899Z"
   },
   {
    "duration": 7,
    "start_time": "2021-08-25T19:53:13.492Z"
   },
   {
    "duration": 223,
    "start_time": "2021-08-25T20:01:13.911Z"
   },
   {
    "duration": 8,
    "start_time": "2021-08-25T20:31:43.211Z"
   },
   {
    "duration": 7,
    "start_time": "2021-08-25T20:41:30.979Z"
   },
   {
    "duration": 8,
    "start_time": "2021-08-25T20:43:56.608Z"
   },
   {
    "duration": 19,
    "start_time": "2021-08-25T21:03:46.555Z"
   },
   {
    "duration": 6,
    "start_time": "2021-08-25T21:23:27.464Z"
   },
   {
    "duration": 10,
    "start_time": "2021-08-26T04:56:57.935Z"
   },
   {
    "duration": 24,
    "start_time": "2021-08-26T04:58:20.184Z"
   },
   {
    "duration": 6,
    "start_time": "2021-08-26T04:58:48.532Z"
   },
   {
    "duration": 308,
    "start_time": "2021-08-27T00:51:52.354Z"
   },
   {
    "duration": 1555,
    "start_time": "2021-08-27T00:52:03.049Z"
   },
   {
    "duration": 227,
    "start_time": "2021-08-27T00:52:04.606Z"
   },
   {
    "duration": 24,
    "start_time": "2021-08-27T00:52:04.835Z"
   },
   {
    "duration": 33,
    "start_time": "2021-08-27T00:52:04.861Z"
   },
   {
    "duration": 118,
    "start_time": "2021-08-27T00:52:04.896Z"
   },
   {
    "duration": 67,
    "start_time": "2021-08-27T00:52:05.016Z"
   },
   {
    "duration": 62,
    "start_time": "2021-08-27T00:52:05.085Z"
   },
   {
    "duration": 11,
    "start_time": "2021-08-27T00:52:05.150Z"
   },
   {
    "duration": 17,
    "start_time": "2021-08-27T00:52:05.163Z"
   },
   {
    "duration": 23,
    "start_time": "2021-08-27T00:52:05.181Z"
   },
   {
    "duration": 19,
    "start_time": "2021-08-27T00:52:05.206Z"
   },
   {
    "duration": 180,
    "start_time": "2021-08-27T00:52:05.227Z"
   },
   {
    "duration": 165,
    "start_time": "2021-08-27T00:52:05.409Z"
   },
   {
    "duration": 8,
    "start_time": "2021-08-27T00:52:05.576Z"
   },
   {
    "duration": 172,
    "start_time": "2021-08-27T00:52:05.586Z"
   },
   {
    "duration": 164,
    "start_time": "2021-08-27T00:52:05.760Z"
   },
   {
    "duration": 655,
    "start_time": "2021-08-27T00:52:05.925Z"
   },
   {
    "duration": 706,
    "start_time": "2021-08-27T00:52:06.581Z"
   },
   {
    "duration": 814,
    "start_time": "2021-08-27T00:52:07.289Z"
   },
   {
    "duration": 182,
    "start_time": "2021-08-27T00:52:08.105Z"
   },
   {
    "duration": 14,
    "start_time": "2021-08-27T00:52:08.289Z"
   },
   {
    "duration": 18,
    "start_time": "2021-08-27T00:52:08.305Z"
   },
   {
    "duration": 199,
    "start_time": "2021-08-27T00:52:08.326Z"
   },
   {
    "duration": 21,
    "start_time": "2021-08-27T00:52:08.527Z"
   },
   {
    "duration": 5,
    "start_time": "2021-08-27T00:52:08.549Z"
   },
   {
    "duration": 169,
    "start_time": "2021-08-27T00:52:08.556Z"
   },
   {
    "duration": 18,
    "start_time": "2021-08-27T00:52:08.727Z"
   },
   {
    "duration": 9,
    "start_time": "2021-08-27T00:52:08.747Z"
   },
   {
    "duration": 17,
    "start_time": "2021-08-27T00:52:08.758Z"
   },
   {
    "duration": 8,
    "start_time": "2021-08-27T00:52:08.776Z"
   },
   {
    "duration": 20,
    "start_time": "2021-08-27T00:52:08.786Z"
   },
   {
    "duration": 34,
    "start_time": "2021-08-27T00:52:08.807Z"
   },
   {
    "duration": 270,
    "start_time": "2021-08-27T00:52:08.844Z"
   },
   {
    "duration": 30,
    "start_time": "2021-08-27T00:52:09.116Z"
   },
   {
    "duration": 444,
    "start_time": "2021-08-27T00:52:09.147Z"
   },
   {
    "duration": 8,
    "start_time": "2021-08-27T00:52:09.593Z"
   },
   {
    "duration": 6,
    "start_time": "2021-08-27T00:52:09.603Z"
   },
   {
    "duration": 6,
    "start_time": "2021-08-27T00:52:09.611Z"
   },
   {
    "duration": 18,
    "start_time": "2021-08-27T00:54:06.814Z"
   },
   {
    "duration": 4,
    "start_time": "2021-08-27T02:10:16.318Z"
   },
   {
    "duration": 232,
    "start_time": "2021-08-27T02:10:16.325Z"
   },
   {
    "duration": 19,
    "start_time": "2021-08-27T02:10:16.559Z"
   },
   {
    "duration": 34,
    "start_time": "2021-08-27T02:10:16.581Z"
   },
   {
    "duration": 111,
    "start_time": "2021-08-27T02:10:16.617Z"
   },
   {
    "duration": 63,
    "start_time": "2021-08-27T02:10:16.729Z"
   },
   {
    "duration": 61,
    "start_time": "2021-08-27T02:10:16.794Z"
   },
   {
    "duration": 9,
    "start_time": "2021-08-27T02:10:16.857Z"
   },
   {
    "duration": 8,
    "start_time": "2021-08-27T02:10:16.869Z"
   },
   {
    "duration": 10,
    "start_time": "2021-08-27T02:10:16.879Z"
   },
   {
    "duration": 14,
    "start_time": "2021-08-27T02:10:16.891Z"
   },
   {
    "duration": 280,
    "start_time": "2021-08-27T02:10:16.906Z"
   },
   {
    "duration": 165,
    "start_time": "2021-08-27T02:10:17.187Z"
   },
   {
    "duration": 8,
    "start_time": "2021-08-27T02:10:17.354Z"
   },
   {
    "duration": 186,
    "start_time": "2021-08-27T02:10:17.364Z"
   },
   {
    "duration": 173,
    "start_time": "2021-08-27T02:10:17.552Z"
   },
   {
    "duration": 846,
    "start_time": "2021-08-27T02:10:17.726Z"
   },
   {
    "duration": 853,
    "start_time": "2021-08-27T02:10:18.573Z"
   },
   {
    "duration": 1153,
    "start_time": "2021-08-27T02:10:19.428Z"
   },
   {
    "duration": 177,
    "start_time": "2021-08-27T02:10:20.582Z"
   },
   {
    "duration": 15,
    "start_time": "2021-08-27T02:10:20.761Z"
   },
   {
    "duration": 19,
    "start_time": "2021-08-27T02:10:20.777Z"
   },
   {
    "duration": 295,
    "start_time": "2021-08-27T02:10:20.797Z"
   },
   {
    "duration": 17,
    "start_time": "2021-08-27T02:10:21.095Z"
   },
   {
    "duration": 5,
    "start_time": "2021-08-27T02:10:21.114Z"
   },
   {
    "duration": 170,
    "start_time": "2021-08-27T02:10:21.120Z"
   },
   {
    "duration": 5,
    "start_time": "2021-08-27T02:10:21.292Z"
   },
   {
    "duration": 13,
    "start_time": "2021-08-27T02:10:21.299Z"
   },
   {
    "duration": 35,
    "start_time": "2021-08-27T02:10:21.314Z"
   },
   {
    "duration": 7,
    "start_time": "2021-08-27T02:10:21.351Z"
   },
   {
    "duration": 20,
    "start_time": "2021-08-27T02:10:21.360Z"
   },
   {
    "duration": 4,
    "start_time": "2021-08-27T02:10:21.382Z"
   },
   {
    "duration": 218,
    "start_time": "2021-08-27T02:10:21.388Z"
   },
   {
    "duration": 18,
    "start_time": "2021-08-27T02:10:21.607Z"
   },
   {
    "duration": 468,
    "start_time": "2021-08-27T02:10:21.626Z"
   },
   {
    "duration": 7,
    "start_time": "2021-08-27T02:10:22.096Z"
   },
   {
    "duration": 8,
    "start_time": "2021-08-27T02:10:22.105Z"
   },
   {
    "duration": 5,
    "start_time": "2021-08-27T02:10:22.115Z"
   },
   {
    "duration": 5,
    "start_time": "2021-08-27T02:33:37.873Z"
   },
   {
    "duration": 1137,
    "start_time": "2021-08-27T02:36:47.881Z"
   },
   {
    "duration": 235,
    "start_time": "2021-08-27T02:36:49.020Z"
   },
   {
    "duration": 20,
    "start_time": "2021-08-27T02:36:49.257Z"
   },
   {
    "duration": 36,
    "start_time": "2021-08-27T02:36:49.279Z"
   },
   {
    "duration": 123,
    "start_time": "2021-08-27T02:36:49.317Z"
   },
   {
    "duration": 62,
    "start_time": "2021-08-27T02:36:49.442Z"
   },
   {
    "duration": 74,
    "start_time": "2021-08-27T02:36:49.506Z"
   },
   {
    "duration": 12,
    "start_time": "2021-08-27T02:36:49.583Z"
   },
   {
    "duration": 10,
    "start_time": "2021-08-27T02:36:49.597Z"
   },
   {
    "duration": 9,
    "start_time": "2021-08-27T02:36:49.609Z"
   },
   {
    "duration": 30,
    "start_time": "2021-08-27T02:36:49.619Z"
   },
   {
    "duration": 174,
    "start_time": "2021-08-27T02:36:49.651Z"
   },
   {
    "duration": 164,
    "start_time": "2021-08-27T02:36:49.827Z"
   },
   {
    "duration": 8,
    "start_time": "2021-08-27T02:36:49.993Z"
   },
   {
    "duration": 174,
    "start_time": "2021-08-27T02:36:50.002Z"
   },
   {
    "duration": 169,
    "start_time": "2021-08-27T02:36:50.178Z"
   },
   {
    "duration": 688,
    "start_time": "2021-08-27T02:36:50.349Z"
   },
   {
    "duration": 695,
    "start_time": "2021-08-27T02:36:51.038Z"
   },
   {
    "duration": 781,
    "start_time": "2021-08-27T02:36:51.735Z"
   },
   {
    "duration": 165,
    "start_time": "2021-08-27T02:36:52.518Z"
   },
   {
    "duration": 15,
    "start_time": "2021-08-27T02:36:52.685Z"
   },
   {
    "duration": 17,
    "start_time": "2021-08-27T02:36:52.701Z"
   },
   {
    "duration": 209,
    "start_time": "2021-08-27T02:36:52.722Z"
   },
   {
    "duration": 20,
    "start_time": "2021-08-27T02:36:52.934Z"
   },
   {
    "duration": 4,
    "start_time": "2021-08-27T02:36:52.956Z"
   },
   {
    "duration": 161,
    "start_time": "2021-08-27T02:36:52.962Z"
   },
   {
    "duration": 5,
    "start_time": "2021-08-27T02:36:53.125Z"
   },
   {
    "duration": 8,
    "start_time": "2021-08-27T02:36:53.140Z"
   },
   {
    "duration": 389,
    "start_time": "2021-08-27T02:36:53.149Z"
   },
   {
    "duration": -126,
    "start_time": "2021-08-27T02:36:53.665Z"
   },
   {
    "duration": -132,
    "start_time": "2021-08-27T02:36:53.672Z"
   },
   {
    "duration": -138,
    "start_time": "2021-08-27T02:36:53.679Z"
   },
   {
    "duration": -143,
    "start_time": "2021-08-27T02:36:53.685Z"
   },
   {
    "duration": -148,
    "start_time": "2021-08-27T02:36:53.691Z"
   },
   {
    "duration": -154,
    "start_time": "2021-08-27T02:36:53.698Z"
   },
   {
    "duration": -177,
    "start_time": "2021-08-27T02:36:53.722Z"
   },
   {
    "duration": -183,
    "start_time": "2021-08-27T02:36:53.729Z"
   },
   {
    "duration": -187,
    "start_time": "2021-08-27T02:36:53.734Z"
   }
  ],
  "kernelspec": {
   "display_name": "Python 3",
   "language": "python",
   "name": "python3"
  },
  "language_info": {
   "codemirror_mode": {
    "name": "ipython",
    "version": 3
   },
   "file_extension": ".py",
   "mimetype": "text/x-python",
   "name": "python",
   "nbconvert_exporter": "python",
   "pygments_lexer": "ipython3",
   "version": "3.7.8"
  },
  "toc": {
   "base_numbering": 1,
   "nav_menu": {},
   "number_sections": false,
   "sideBar": true,
   "skip_h1_title": false,
   "title_cell": "Table of Contents",
   "title_sidebar": "Contents",
   "toc_cell": true,
   "toc_position": {},
   "toc_section_display": true,
   "toc_window_display": false
  }
 },
 "nbformat": 4,
 "nbformat_minor": 2
}
